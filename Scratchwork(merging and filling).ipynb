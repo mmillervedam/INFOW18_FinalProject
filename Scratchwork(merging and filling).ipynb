{
 "cells": [
  {
   "cell_type": "markdown",
   "metadata": {},
   "source": [
    "# Practicing with merge"
   ]
  },
  {
   "cell_type": "code",
   "execution_count": 1,
   "metadata": {
    "collapsed": true
   },
   "outputs": [],
   "source": [
    "import numpy as np\n",
    "import pandas as pd"
   ]
  },
  {
   "cell_type": "code",
   "execution_count": 2,
   "metadata": {
    "collapsed": false
   },
   "outputs": [
    {
     "data": {
      "text/html": [
       "<div>\n",
       "<table border=\"1\" class=\"dataframe\">\n",
       "  <thead>\n",
       "    <tr style=\"text-align: right;\">\n",
       "      <th></th>\n",
       "      <th>Another Field</th>\n",
       "      <th>BEDS Code</th>\n",
       "      <th>Other Field</th>\n",
       "      <th>SED CODE</th>\n",
       "      <th>latlon</th>\n",
       "    </tr>\n",
       "  </thead>\n",
       "  <tbody>\n",
       "    <tr>\n",
       "      <th>0</th>\n",
       "      <td>10</td>\n",
       "      <td>0</td>\n",
       "      <td>a</td>\n",
       "      <td>NaN</td>\n",
       "      <td>NaN</td>\n",
       "    </tr>\n",
       "    <tr>\n",
       "      <th>1</th>\n",
       "      <td>11</td>\n",
       "      <td>1</td>\n",
       "      <td>b</td>\n",
       "      <td>1</td>\n",
       "      <td>one</td>\n",
       "    </tr>\n",
       "    <tr>\n",
       "      <th>2</th>\n",
       "      <td>12</td>\n",
       "      <td>2</td>\n",
       "      <td>c</td>\n",
       "      <td>2</td>\n",
       "      <td>two</td>\n",
       "    </tr>\n",
       "    <tr>\n",
       "      <th>3</th>\n",
       "      <td>13</td>\n",
       "      <td>3</td>\n",
       "      <td>d</td>\n",
       "      <td>3</td>\n",
       "      <td>three</td>\n",
       "    </tr>\n",
       "    <tr>\n",
       "      <th>4</th>\n",
       "      <td>14</td>\n",
       "      <td>4</td>\n",
       "      <td>e</td>\n",
       "      <td>NaN</td>\n",
       "      <td>NaN</td>\n",
       "    </tr>\n",
       "    <tr>\n",
       "      <th>5</th>\n",
       "      <td>15</td>\n",
       "      <td>5</td>\n",
       "      <td>f</td>\n",
       "      <td>NaN</td>\n",
       "      <td>NaN</td>\n",
       "    </tr>\n",
       "    <tr>\n",
       "      <th>6</th>\n",
       "      <td>NaN</td>\n",
       "      <td>1</td>\n",
       "      <td>g</td>\n",
       "      <td>1</td>\n",
       "      <td>one</td>\n",
       "    </tr>\n",
       "    <tr>\n",
       "      <th>7</th>\n",
       "      <td>NaN</td>\n",
       "      <td>2</td>\n",
       "      <td>h</td>\n",
       "      <td>2</td>\n",
       "      <td>two</td>\n",
       "    </tr>\n",
       "    <tr>\n",
       "      <th>8</th>\n",
       "      <td>NaN</td>\n",
       "      <td>3</td>\n",
       "      <td>i</td>\n",
       "      <td>3</td>\n",
       "      <td>three</td>\n",
       "    </tr>\n",
       "    <tr>\n",
       "      <th>9</th>\n",
       "      <td>NaN</td>\n",
       "      <td>1</td>\n",
       "      <td>j</td>\n",
       "      <td>1</td>\n",
       "      <td>one</td>\n",
       "    </tr>\n",
       "  </tbody>\n",
       "</table>\n",
       "</div>"
      ],
      "text/plain": [
       "   Another Field  BEDS Code Other Field  SED CODE latlon\n",
       "0             10          0           a       NaN    NaN\n",
       "1             11          1           b         1    one\n",
       "2             12          2           c         2    two\n",
       "3             13          3           d         3  three\n",
       "4             14          4           e       NaN    NaN\n",
       "5             15          5           f       NaN    NaN\n",
       "6            NaN          1           g         1    one\n",
       "7            NaN          2           h         2    two\n",
       "8            NaN          3           i         3  three\n",
       "9            NaN          1           j         1    one"
      ]
     },
     "execution_count": 2,
     "metadata": {},
     "output_type": "execute_result"
    }
   ],
   "source": [
    "sample_school = pd.DataFrame({'BEDS Code':[0,1,2,3,4,5,1,2,3,1],\n",
    "                              'Other Field': list('abcdefghij'),\n",
    "                              'Another Field':[10,11,12,13,14,15]+[np.nan]*4})\n",
    "sample_latlon = pd.DataFrame({'SED CODE':[1,2,3], 'latlon':['one','two','three']})\n",
    "\n",
    "new = pd.merge(sample_school, sample_latlon, left_on=['BEDS Code'],right_on=['SED CODE'], how='left')\n",
    "new"
   ]
  },
  {
   "cell_type": "code",
   "execution_count": 3,
   "metadata": {
    "collapsed": false
   },
   "outputs": [
    {
     "name": "stdout",
     "output_type": "stream",
     "text": [
      "... 6 unique schools,\n",
      "... of which 3 are missing lat/long\n"
     ]
    }
   ],
   "source": [
    "# Take a look at the resulting data/missing values\n",
    "print('... {} unique schools,'.format(len(new['BEDS Code'].unique())))\n",
    "schools_missing_latlon = new[new['latlon'].isnull()]['BEDS Code'].unique()\n",
    "print('... of which {} are missing lat/long'.format(len(schools_missing_latlon)))"
   ]
  },
  {
   "cell_type": "markdown",
   "metadata": {},
   "source": [
    "# Practicing with fillling na\n",
    "GOAL: to use this to fill in missing boroughs"
   ]
  },
  {
   "cell_type": "code",
   "execution_count": 4,
   "metadata": {
    "collapsed": false
   },
   "outputs": [
    {
     "data": {
      "text/plain": [
       "{'Another Field': {0: 10.0, 1: 11.0, 2: 12.0, 3: 13.0, 4: 14.0, 5: 15.0},\n",
       " 'BEDS Code': {0: 0, 1: 1, 2: 2, 3: 3, 4: 4, 5: 5}}"
      ]
     },
     "execution_count": 4,
     "metadata": {},
     "output_type": "execute_result"
    }
   ],
   "source": [
    "# create dictionary for filling 'Another Field'\n",
    "d = new[new['Another Field'].notnull()][['BEDS Code','Another Field']].to_dict()\n",
    "d"
   ]
  },
  {
   "cell_type": "code",
   "execution_count": 5,
   "metadata": {
    "collapsed": false
   },
   "outputs": [
    {
     "data": {
      "text/plain": [
       "{0: 10.0, 1: 11.0, 2: 12.0, 3: 13.0, 4: 14.0, 5: 15.0}"
      ]
     },
     "execution_count": 5,
     "metadata": {},
     "output_type": "execute_result"
    }
   ],
   "source": [
    "map_vals = {d['BEDS Code'][idx]: d['Another Field'][idx] for idx in d['Another Field'].keys()}\n",
    "map_vals"
   ]
  },
  {
   "cell_type": "code",
   "execution_count": 6,
   "metadata": {
    "collapsed": false
   },
   "outputs": [],
   "source": [
    "new['A Third Field'] = new['BEDS Code'].map(map_vals)\n",
    "#new"
   ]
  },
  {
   "cell_type": "code",
   "execution_count": 7,
   "metadata": {
    "collapsed": false
   },
   "outputs": [
    {
     "data": {
      "text/plain": [
       "{0: 10.0, 2: 12.0, 3: 13.0, 4: 14.0, 5: 15.0}"
      ]
     },
     "execution_count": 7,
     "metadata": {},
     "output_type": "execute_result"
    }
   ],
   "source": [
    "# What if the map dict had been missing values?\n",
    "other_map = {d['BEDS Code'][idx]: d['Another Field'][idx] for idx in d['Another Field'].keys()}\n",
    "del other_map[1]\n",
    "other_map"
   ]
  },
  {
   "cell_type": "code",
   "execution_count": 8,
   "metadata": {
    "collapsed": false
   },
   "outputs": [],
   "source": [
    "# I see ... it will leave NaNs\n",
    "new['A Fourth Field'] = new['BEDS Code'].map(other_map)\n",
    "#new"
   ]
  },
  {
   "cell_type": "code",
   "execution_count": 9,
   "metadata": {
    "collapsed": false
   },
   "outputs": [
    {
     "data": {
      "text/html": [
       "<div>\n",
       "<table border=\"1\" class=\"dataframe\">\n",
       "  <thead>\n",
       "    <tr style=\"text-align: right;\">\n",
       "      <th></th>\n",
       "      <th>Another Field</th>\n",
       "      <th>BEDS Code</th>\n",
       "      <th>Other Field</th>\n",
       "      <th>SED CODE</th>\n",
       "      <th>latlon</th>\n",
       "      <th>A Third Field</th>\n",
       "      <th>A Fourth Field</th>\n",
       "      <th>A Fifth Field</th>\n",
       "    </tr>\n",
       "  </thead>\n",
       "  <tbody>\n",
       "    <tr>\n",
       "      <th>0</th>\n",
       "      <td>10</td>\n",
       "      <td>0</td>\n",
       "      <td>a</td>\n",
       "      <td>NaN</td>\n",
       "      <td>NaN</td>\n",
       "      <td>10</td>\n",
       "      <td>10</td>\n",
       "      <td>10</td>\n",
       "    </tr>\n",
       "    <tr>\n",
       "      <th>1</th>\n",
       "      <td>11</td>\n",
       "      <td>1</td>\n",
       "      <td>b</td>\n",
       "      <td>1</td>\n",
       "      <td>one</td>\n",
       "      <td>11</td>\n",
       "      <td>NaN</td>\n",
       "      <td>11</td>\n",
       "    </tr>\n",
       "    <tr>\n",
       "      <th>2</th>\n",
       "      <td>12</td>\n",
       "      <td>2</td>\n",
       "      <td>c</td>\n",
       "      <td>2</td>\n",
       "      <td>two</td>\n",
       "      <td>12</td>\n",
       "      <td>12</td>\n",
       "      <td>12</td>\n",
       "    </tr>\n",
       "    <tr>\n",
       "      <th>3</th>\n",
       "      <td>13</td>\n",
       "      <td>3</td>\n",
       "      <td>d</td>\n",
       "      <td>3</td>\n",
       "      <td>three</td>\n",
       "      <td>13</td>\n",
       "      <td>13</td>\n",
       "      <td>13</td>\n",
       "    </tr>\n",
       "    <tr>\n",
       "      <th>4</th>\n",
       "      <td>14</td>\n",
       "      <td>4</td>\n",
       "      <td>e</td>\n",
       "      <td>NaN</td>\n",
       "      <td>NaN</td>\n",
       "      <td>14</td>\n",
       "      <td>14</td>\n",
       "      <td>14</td>\n",
       "    </tr>\n",
       "    <tr>\n",
       "      <th>5</th>\n",
       "      <td>15</td>\n",
       "      <td>5</td>\n",
       "      <td>f</td>\n",
       "      <td>NaN</td>\n",
       "      <td>NaN</td>\n",
       "      <td>15</td>\n",
       "      <td>15</td>\n",
       "      <td>15</td>\n",
       "    </tr>\n",
       "    <tr>\n",
       "      <th>6</th>\n",
       "      <td>NaN</td>\n",
       "      <td>1</td>\n",
       "      <td>g</td>\n",
       "      <td>1</td>\n",
       "      <td>one</td>\n",
       "      <td>11</td>\n",
       "      <td>NaN</td>\n",
       "      <td>11</td>\n",
       "    </tr>\n",
       "    <tr>\n",
       "      <th>7</th>\n",
       "      <td>NaN</td>\n",
       "      <td>2</td>\n",
       "      <td>h</td>\n",
       "      <td>2</td>\n",
       "      <td>two</td>\n",
       "      <td>12</td>\n",
       "      <td>12</td>\n",
       "      <td>12</td>\n",
       "    </tr>\n",
       "    <tr>\n",
       "      <th>8</th>\n",
       "      <td>NaN</td>\n",
       "      <td>3</td>\n",
       "      <td>i</td>\n",
       "      <td>3</td>\n",
       "      <td>three</td>\n",
       "      <td>13</td>\n",
       "      <td>13</td>\n",
       "      <td>13</td>\n",
       "    </tr>\n",
       "    <tr>\n",
       "      <th>9</th>\n",
       "      <td>NaN</td>\n",
       "      <td>1</td>\n",
       "      <td>j</td>\n",
       "      <td>1</td>\n",
       "      <td>one</td>\n",
       "      <td>11</td>\n",
       "      <td>NaN</td>\n",
       "      <td>11</td>\n",
       "    </tr>\n",
       "  </tbody>\n",
       "</table>\n",
       "</div>"
      ],
      "text/plain": [
       "   Another Field  BEDS Code Other Field  SED CODE latlon  A Third Field  \\\n",
       "0             10          0           a       NaN    NaN             10   \n",
       "1             11          1           b         1    one             11   \n",
       "2             12          2           c         2    two             12   \n",
       "3             13          3           d         3  three             13   \n",
       "4             14          4           e       NaN    NaN             14   \n",
       "5             15          5           f       NaN    NaN             15   \n",
       "6            NaN          1           g         1    one             11   \n",
       "7            NaN          2           h         2    two             12   \n",
       "8            NaN          3           i         3  three             13   \n",
       "9            NaN          1           j         1    one             11   \n",
       "\n",
       "   A Fourth Field  A Fifth Field  \n",
       "0              10             10  \n",
       "1             NaN             11  \n",
       "2              12             12  \n",
       "3              13             13  \n",
       "4              14             14  \n",
       "5              15             15  \n",
       "6             NaN             11  \n",
       "7              12             12  \n",
       "8              13             13  \n",
       "9             NaN             11  "
      ]
     },
     "execution_count": 9,
     "metadata": {},
     "output_type": "execute_result"
    }
   ],
   "source": [
    "# can I map w/out the dictionary. SWEEEET\n",
    "new['A Fifth Field'] = new['BEDS Code'].map(new['Another Field'])\n",
    "new"
   ]
  },
  {
   "cell_type": "markdown",
   "metadata": {
    "collapsed": true
   },
   "source": [
    "## Practicing for distance join"
   ]
  },
  {
   "cell_type": "code",
   "execution_count": 10,
   "metadata": {
    "collapsed": false
   },
   "outputs": [],
   "source": [
    "# Creating mock data frames\n",
    "school_mdf = pd.DataFrame({'BEDS':[1,2,3,4,5]*2,\n",
    "                           'Year': [2010]*5 + [2011]*5,\n",
    "                           'Loc':[10,11,12,13,14]*2})\n",
    "felony_mdf = pd.DataFrame({'CrimeID':[l+n for l in 'abcd' for n in '1234'],\n",
    "                           'Year':[2010, 2011]*8,\n",
    "                           'Loc':[11,11,12,13,13,14,10,14,12,11,11,10,14,12,13,12],\n",
    "                           'Tally':[1]*16})"
   ]
  },
  {
   "cell_type": "code",
   "execution_count": 11,
   "metadata": {
    "collapsed": false
   },
   "outputs": [],
   "source": [
    "# to minimize searching we'll identify location by year\n",
    "grouped = school_mdf.groupby(['BEDS','Year'])"
   ]
  },
  {
   "cell_type": "code",
   "execution_count": 12,
   "metadata": {
    "collapsed": false
   },
   "outputs": [
    {
     "data": {
      "text/html": [
       "<div>\n",
       "<table border=\"1\" class=\"dataframe\">\n",
       "  <thead>\n",
       "    <tr style=\"text-align: right;\">\n",
       "      <th></th>\n",
       "      <th>BEDS</th>\n",
       "      <th>Loc</th>\n",
       "      <th>Year</th>\n",
       "      <th>CrimeIDS</th>\n",
       "      <th>CrimeTally</th>\n",
       "    </tr>\n",
       "  </thead>\n",
       "  <tbody>\n",
       "    <tr>\n",
       "      <th>0</th>\n",
       "      <td>1</td>\n",
       "      <td>10</td>\n",
       "      <td>2010</td>\n",
       "      <td>['b3']</td>\n",
       "      <td>1</td>\n",
       "    </tr>\n",
       "    <tr>\n",
       "      <th>1</th>\n",
       "      <td>2</td>\n",
       "      <td>11</td>\n",
       "      <td>2010</td>\n",
       "      <td>['a1', 'c3']</td>\n",
       "      <td>2</td>\n",
       "    </tr>\n",
       "    <tr>\n",
       "      <th>2</th>\n",
       "      <td>3</td>\n",
       "      <td>12</td>\n",
       "      <td>2010</td>\n",
       "      <td>['a3', 'c1']</td>\n",
       "      <td>2</td>\n",
       "    </tr>\n",
       "    <tr>\n",
       "      <th>3</th>\n",
       "      <td>4</td>\n",
       "      <td>13</td>\n",
       "      <td>2010</td>\n",
       "      <td>['b1', 'd3']</td>\n",
       "      <td>2</td>\n",
       "    </tr>\n",
       "    <tr>\n",
       "      <th>4</th>\n",
       "      <td>5</td>\n",
       "      <td>14</td>\n",
       "      <td>2010</td>\n",
       "      <td>['d1']</td>\n",
       "      <td>1</td>\n",
       "    </tr>\n",
       "    <tr>\n",
       "      <th>5</th>\n",
       "      <td>1</td>\n",
       "      <td>10</td>\n",
       "      <td>2011</td>\n",
       "      <td>['c4']</td>\n",
       "      <td>1</td>\n",
       "    </tr>\n",
       "    <tr>\n",
       "      <th>6</th>\n",
       "      <td>2</td>\n",
       "      <td>11</td>\n",
       "      <td>2011</td>\n",
       "      <td>['a2', 'c2']</td>\n",
       "      <td>2</td>\n",
       "    </tr>\n",
       "    <tr>\n",
       "      <th>7</th>\n",
       "      <td>3</td>\n",
       "      <td>12</td>\n",
       "      <td>2011</td>\n",
       "      <td>['d2', 'd4']</td>\n",
       "      <td>2</td>\n",
       "    </tr>\n",
       "    <tr>\n",
       "      <th>8</th>\n",
       "      <td>4</td>\n",
       "      <td>13</td>\n",
       "      <td>2011</td>\n",
       "      <td>['a4']</td>\n",
       "      <td>1</td>\n",
       "    </tr>\n",
       "    <tr>\n",
       "      <th>9</th>\n",
       "      <td>5</td>\n",
       "      <td>14</td>\n",
       "      <td>2011</td>\n",
       "      <td>['b2', 'b4']</td>\n",
       "      <td>2</td>\n",
       "    </tr>\n",
       "  </tbody>\n",
       "</table>\n",
       "</div>"
      ],
      "text/plain": [
       "   BEDS  Loc  Year      CrimeIDS  CrimeTally\n",
       "0     1   10  2010        ['b3']           1\n",
       "1     2   11  2010  ['a1', 'c3']           2\n",
       "2     3   12  2010  ['a3', 'c1']           2\n",
       "3     4   13  2010  ['b1', 'd3']           2\n",
       "4     5   14  2010        ['d1']           1\n",
       "5     1   10  2011        ['c4']           1\n",
       "6     2   11  2011  ['a2', 'c2']           2\n",
       "7     3   12  2011  ['d2', 'd4']           2\n",
       "8     4   13  2011        ['a4']           1\n",
       "9     5   14  2011  ['b2', 'b4']           2"
      ]
     },
     "execution_count": 12,
     "metadata": {},
     "output_type": "execute_result"
    }
   ],
   "source": [
    "school_mdf['CrimeIDS'] = pd.Series()\n",
    "school_mdf['CrimeTally'] = pd.Series()\n",
    "\n",
    "# Loop through groups to get list of crimes\n",
    "# This is super inefficient because the location screen will have to run through all the \n",
    "# crimes for each BEDS code. ugh.\n",
    "for name, df in grouped:\n",
    "    code, year = name # unpacking from groupby \n",
    "    location = df.Loc.mean() # they're all the same so the mean is just the location\n",
    "    #... actually we could really just group by location since its equivlent to beds...?\n",
    "    \n",
    "    # get felonies for that year and w/ correct location\n",
    "    felonies = felony_mdf[(felony_mdf.Year == year) & (felony_mdf.Loc == location)]\n",
    "    \n",
    "    # store crime ids and tally in school DF\n",
    "    school_mdf.loc[grouped.groups[name],['CrimeIDS']] = str(felonies.CrimeID.unique().tolist())\n",
    "    school_mdf.loc[grouped.groups[name],['CrimeTally']] = felonies['Tally'].sum()\n",
    "    #df['CrimeIDS'] = str(felonies['CrimeID'].unique().tolist()) # THROWS Subsetting ERROR\n",
    "    #df['CrimeTally'] = felonies['Tally'].sum() # THROWS Subsetting ERROR\n",
    "\n",
    "school_mdf"
   ]
  },
  {
   "cell_type": "markdown",
   "metadata": {
    "collapsed": true
   },
   "source": [
    "### Practicing update method for DF"
   ]
  },
  {
   "cell_type": "code",
   "execution_count": 15,
   "metadata": {
    "collapsed": false
   },
   "outputs": [],
   "source": [
    "counts = pd.Series({'GRAND LARCENY':0, 'ROBBERY':0, 'BURGLARY':0, 'FELONY ASSAULT':0,\n",
    "                      'RAPE':0, 'GRAND LARCENY OF MOTOR VEHICLE':0,'MURDER & NON-NEGL. MANSLAUGHTE':0})"
   ]
  },
  {
   "cell_type": "code",
   "execution_count": 18,
   "metadata": {
    "collapsed": false
   },
   "outputs": [
    {
     "data": {
      "text/plain": [
       "pandas.core.series.Series"
      ]
     },
     "execution_count": 18,
     "metadata": {},
     "output_type": "execute_result"
    }
   ],
   "source": [
    "type(school_mdf.BEDS.value_counts())"
   ]
  },
  {
   "cell_type": "code",
   "execution_count": 19,
   "metadata": {
    "collapsed": true
   },
   "outputs": [],
   "source": [
    "other_counts = pd.Series({'GRAND LARCENY':2, 'ROBBERY':2, 'BURGLARY':2})"
   ]
  },
  {
   "cell_type": "code",
   "execution_count": 20,
   "metadata": {
    "collapsed": true
   },
   "outputs": [],
   "source": [
    "counts.update(other_counts)"
   ]
  },
  {
   "cell_type": "code",
   "execution_count": 21,
   "metadata": {
    "collapsed": false
   },
   "outputs": [
    {
     "data": {
      "text/plain": [
       "BURGLARY                          2\n",
       "FELONY ASSAULT                    0\n",
       "GRAND LARCENY                     2\n",
       "GRAND LARCENY OF MOTOR VEHICLE    0\n",
       "MURDER & NON-NEGL. MANSLAUGHTE    0\n",
       "RAPE                              0\n",
       "ROBBERY                           2\n",
       "dtype: int64"
      ]
     },
     "execution_count": 21,
     "metadata": {},
     "output_type": "execute_result"
    }
   ],
   "source": [
    "counts"
   ]
  },
  {
   "cell_type": "code",
   "execution_count": 22,
   "metadata": {
    "collapsed": true
   },
   "outputs": [],
   "source": [
    "# is it ok to update with an empty dataframe?\n",
    "counts.update(pd.Series())"
   ]
  },
  {
   "cell_type": "code",
   "execution_count": 23,
   "metadata": {
    "collapsed": false
   },
   "outputs": [
    {
     "data": {
      "text/plain": [
       "Series([], dtype: int64)"
      ]
     },
     "execution_count": 23,
     "metadata": {},
     "output_type": "execute_result"
    }
   ],
   "source": [
    "# how about running value counts on an empty df\n",
    "pd.Series().value_counts()"
   ]
  },
  {
   "cell_type": "code",
   "execution_count": null,
   "metadata": {
    "collapsed": true
   },
   "outputs": [],
   "source": []
  }
 ],
 "metadata": {
  "kernelspec": {
   "display_name": "Python 3",
   "language": "python",
   "name": "python3"
  },
  "language_info": {
   "codemirror_mode": {
    "name": "ipython",
    "version": 3
   },
   "file_extension": ".py",
   "mimetype": "text/x-python",
   "name": "python",
   "nbconvert_exporter": "python",
   "pygments_lexer": "ipython3",
   "version": "3.5.1"
  }
 },
 "nbformat": 4,
 "nbformat_minor": 0
}
