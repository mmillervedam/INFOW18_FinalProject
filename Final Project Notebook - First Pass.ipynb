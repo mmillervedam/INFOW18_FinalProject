{
 "cells": [
  {
   "cell_type": "markdown",
   "metadata": {},
   "source": [
    "# Importing Modules\n",
    "\n",
    "We will import the basics and few specialty modules to be used within the analysis."
   ]
  },
  {
   "cell_type": "code",
   "execution_count": 1,
   "metadata": {
    "collapsed": true
   },
   "outputs": [],
   "source": [
    "import numpy as np\n",
    "import pandas as pd\n",
    "from pandas import DataFrame, Series\n",
    "% matplotlib inline\n",
    "from matplotlib import pyplot as plt\n",
    "import matplotlib.dates as mdates\n",
    "import matplotlib.mlab as mlab\n",
    "import matplotlib.ticker as tkr\n",
    "import geocoder as geo\n",
    "import datetime as dt"
   ]
  },
  {
   "cell_type": "markdown",
   "metadata": {},
   "source": [
    "# Getting Started\n",
    "\n",
    "To get started, we will first describe the data. The majority of the analysis will be centered around felony incidents in New York City and the school violence incidents within NYC schools. For our analysis, we will also need population data as well as school location data.\n",
    "\n",
    "\n",
    "To be clear, we will be analyzing a limited felony dataset of 7 different types, For our purposes, we will be using the general wikipedia definitions. Note that these definitions can sometimes change from state to state:\n",
    "- Grand larceny: theft of personal property having a value above a legally specified amount.\n",
    "- Robbery: the taking of another person's property by force, fear, or intimidation, with the intent to permanently deprive that person of the property.\n",
    "- Burglary: typically defined as the unlawful entry into almost any structure (not just a home or business) with the intent to commit any crime inside (not just theft/larceny). No physical breaking and entering is required; the offender may simply trespass through an open door. Unlike robbery, which involves use of force or fear to obtain another person's property, there is usually no victim present during a burglary.\n",
    "- Assault: carried out by a threat of bodily harm coupled with an apparent, present ability to cause the harm.\n",
    "- Grand Larceny of Motor Vehicle: the unlawful taking of property — in this case, a vehicle — that belongs to someone else, done with the intent to permanently deprive the owner of the property.\n",
    "- Rape: non-consensual sexual intercourse that is committed by physical force, threat of injury, or other duress\n",
    "- Murder & Non-negligent Manslaughter: The unjustifiable, inexcusable, and intentional killing of a human being with (murder) or without (non-negligent) deliberation, premeditation, and malice.\n",
    "\n",
    "\n",
    "# Importing Data\n",
    "\n",
    "Import the felony data, population data, school violence data (VADIR files), and school location information. "
   ]
  },
  {
   "cell_type": "code",
   "execution_count": 2,
   "metadata": {
    "collapsed": true
   },
   "outputs": [],
   "source": [
    "# Direct Loading - no exra manipulation needed\n",
    "felony_df = pd.read_csv(\"NYPD_7_Major_Felony_Incidents.csv\", parse_dates = \"Occurrence Date\")\n",
    "borough_df = pd.read_csv(\"New_York_City_Population_By_Boroughs.csv\")\n",
    "location_df = pd.read_excel(\"15-16SchoolDirectory.xlsx\")"
   ]
  },
  {
   "cell_type": "markdown",
   "metadata": {},
   "source": [
    "### VADIR datasets\n",
    "\n",
    "VADIR [school violence] dataset: The 2010 - 2014 files have the same column names, so they're easy to import and concatenate. However, 2006 - 2009 years each have a few unique column names, so they must be concatenated independently to the main dataframe. Moreover, some columns have \"w/ weapon\" and others have \"w/out weapon\" in the column names. These must be shorted to \"_ww\" and \"_nw\" for with weapon and no weapon, respectively. "
   ]
  },
  {
   "cell_type": "code",
   "execution_count": 3,
   "metadata": {
    "collapsed": false
   },
   "outputs": [
    {
     "name": "stdout",
     "output_type": "stream",
     "text": [
      "Data from 2014-15 loaded. Total of 1805 rows.\n",
      "... data from VADIR_2013.xls appended. Added 1792 rows for a total of 3597.\n",
      "... data from VADIR_2012.xls appended. Added 1735 rows for a total of 5332.\n",
      "... data from VADIR_2011.xls appended. Added 1693 rows for a total of 7025.\n",
      "... data from VADIR_2010.xls appended. Added 1678 rows for a total of 8703.\n",
      "... data from 2009-10 appended. Added 1531 rows for a total of 10234.\n",
      "... data from 2008-9 appended. Added 1545 rows for a total of 11779.\n",
      "... data from 2007-8 appended. Added 1500 rows for a total of 13279.\n",
      "... data from 2006-7 appended. Added 1455 rows for a total of 14734.\n"
     ]
    },
    {
     "data": {
      "text/plain": [
       "2014    1805\n",
       "2013    1792\n",
       "2012    1735\n",
       "2011    1693\n",
       "2010    1678\n",
       "2008    1545\n",
       "2009    1531\n",
       "2007    1500\n",
       "2006    1455\n",
       "Name: School Year, dtype: int64"
      ]
     },
     "execution_count": 3,
     "metadata": {},
     "output_type": "execute_result"
    }
   ],
   "source": [
    "# Just load the VADIR datasets and concatenate to a single dataframe\n",
    "\n",
    "def clean_vars(df, row_num):\n",
    "    \"\"\" \n",
    "    Helper function to clean up column names for VARDIS files.\n",
    "    INPUT: dataframe, index of the row that contains the names\n",
    "    OUTPUT: list of column names\n",
    "    \"\"\"\n",
    "    names = list(df.iloc[row_num])\n",
    "    for idx in range(len(names)):\n",
    "        if str(names[idx]) == 'nan':\n",
    "            names[idx] = names[idx - 1] + '_nw' # 'no weapon'\n",
    "            names[idx - 1] += '_ww' # 'with weapon'\n",
    "    return names\n",
    "\n",
    "\n",
    "# loading 2014-15 VADIR file\n",
    "v2014_df = pd.read_excel(\"VADIR_2014.xls\")\n",
    "\n",
    "# take a look:\n",
    "COLNAMES = clean_vars(v2014_df, 1)\n",
    "\n",
    "vadir_df = pd.read_excel('VADIR_2014.xls', names = COLNAMES, skiprows = 3)\n",
    "vadir_df['School Year'] = ['2014'] * len(vadir_df)\n",
    "print( 'Data from 2014-15 loaded. Total of {} rows.'.format(len(vadir_df)))\n",
    "\n",
    "# import files for 2010-13 (they have same format as 2014 so this is quick)\n",
    "files = ['VADIR_2013.xls', 'VADIR_2012.xls', 'VADIR_2011.xls', 'VADIR_2010.xls']\n",
    "for f in files:\n",
    "    df = pd.read_excel(f, names = COLNAMES, skiprows = 3)\n",
    "    df['School Year'] = [f[-8:-4]] * len(df)\n",
    "    vadir_df = pd.concat([vadir_df, df], ignore_index = True)\n",
    "    print( '... data from {} appended. Added {} rows for a total of {}.'.format(f, len(df), len(vadir_df)))\n",
    "    \n",
    "# ... starting with 2009\n",
    "vadir_2009 = pd.read_excel('VADIR_2009.xls')\n",
    "vadir_2009.columns = clean_vars(vadir_2009, 1)[:3] + ['District'] + clean_vars(vadir_2009, 1)[4:]\n",
    "vadir_2009 = vadir_2009[3:]\n",
    "#vadir_2009.head()\n",
    "vadir_2009['School Year'] = [2009] * len(vadir_2009)\n",
    "vadir_df = pd.concat([vadir_df, vadir_2009], ignore_index = True)\n",
    "print( '... data from 2009-10 appended. Added {} rows for a total of {}.'.format(len(vadir_2009), len(vadir_df)))\n",
    "\n",
    "# ... next 2008\n",
    "vadir_2008 = pd.read_excel('VADIR_2008.xls')\n",
    "vadir_2008.columns = clean_vars(vadir_2008, 1)[:2] + ['District'] + clean_vars(vadir_2008, 1)[3:]\n",
    "vadir_2008 = vadir_2008[3:]\n",
    "#vadir_2008.head()\n",
    "vadir_2008['School Year'] = [2008] * len(vadir_2008)\n",
    "vadir_df = pd.concat([vadir_df, vadir_2008], ignore_index = True)\n",
    "print( '... data from 2008-9 appended. Added {} rows for a total of {}.'.format(len(vadir_2008), len(vadir_df)))\n",
    "\n",
    "# ... next 2007\n",
    "vadir_2007 = pd.read_excel('VADIR_2007.xls')\n",
    "vadir_2007.columns = ['County', 'BEDS Code', 'District'] + clean_vars(vadir_2007, 0)[3:]\n",
    "vadir_2007 = vadir_2007[2:]\n",
    "#vadir_2007.head()\n",
    "vadir_2007['School Year'] = [2007] * len(vadir_2007)\n",
    "vadir_df = pd.concat([vadir_df, vadir_2007], ignore_index = True)\n",
    "print( '... data from 2007-8 appended. Added {} rows for a total of {}.'.format(len(vadir_2007), len(vadir_df)))\n",
    "\n",
    "# ... next 2006\n",
    "vadir_2006 = pd.read_excel('VADIR_2006.xls')\n",
    "vadir_2006.columns = ['County', 'District', 'School Name', 'BEDS Code'] + clean_vars(vadir_2006, 0)[4:]\n",
    "vadir_2006 = vadir_2006[2:]\n",
    "#vadir_2006.head()\n",
    "vadir_2006['School Year'] = [2006] * len(vadir_2006)\n",
    "vadir_df = pd.concat([vadir_df, vadir_2006], ignore_index = True)\n",
    "print( '... data from 2006-7 appended. Added {} rows for a total of {}.'.format(len(vadir_2006), len(vadir_df)))\n",
    "\n",
    "# Quick Check  - counts by year\n",
    "vadir_df['School Year'].value_counts()"
   ]
  },
  {
   "cell_type": "markdown",
   "metadata": {},
   "source": [
    "### VADIR datasets - manipulation\n",
    "\n",
    "Reording of columns, merging duplciate columns, removing problematic (non data) rows from the csv, fixing inconsistencies"
   ]
  },
  {
   "cell_type": "code",
   "execution_count": 4,
   "metadata": {
    "collapsed": false
   },
   "outputs": [
    {
     "name": "stdout",
     "output_type": "stream",
     "text": [
      "['Alcohol Possesion', 'Alcohol Possession', 'Arson', 'Assault With Serious Physical Injury_nw', 'Assault With Serious Physical Injury_ww', 'Assault with Physical Injury_nw', 'Assault with Physical Injury_ww', 'BEDS Code', 'Bomb Threat', 'Burglary_nw', 'Burglary_ww', 'County', 'Criminal Mischief_nw', 'Criminal Mischief_ww', 'District', 'Drug Possesion', 'Drug Possession', 'Enrollment', 'False Alarm', 'Forcible Sex Offenses_nw', 'Forcible Sex Offenses_ww', 'Grade Organization', 'Homicide_nw', 'Homicide_ww', 'Intimidation, Harassment, Menacing, or Bullying_nw', 'Intimidation, Harassment, Menacing, or Bullying_ww', 'Kidnapping_nw', 'Kidnapping_ww', 'Larceny, or Other Theft_nw', 'Larceny, or Other Theft_ww', 'Minor Altercations_nw', 'Minor Altercations_ww', 'Need/Resource Category', 'Other Disruptive', 'Other Disruptive Incidents', 'Other Sex Offenses_nw', 'Other Sex Offenses_ww', 'Other Sex offenses_nw', 'Other Sex offenses_ww', 'Reckless Endangerment_nw', 'Reckless Endangerment_ww', 'Riot_nw', 'Riot_ww', 'Robbery_nw', 'Robbery_ww', 'School Name', 'School Type', 'School Year', 'Through Screening', 'Under Other Circumstances', 'Unnamed: 0', 'Unnamed: 1', 'Unnamed: 2', 'Unnamed: 3', 'Unnamed: 35', 'Unnamed: 36', 'Unnamed: 4', 'Unnamed: 41', 'Unnamed: 42', 'Unnamed: 43', 'Unnamed: 5', 'Unnamed: 6', 'Unnamed: 7', 'Use Possession or Sale of Alcohol', 'Use Possession or Sale of Drugs', 'Weapon Possession_nw', 'Weapon Possession_ww', 'With Weapon(s)', 'With Weapon(s).1', 'With Weapon(s).10', 'With Weapon(s).11', 'With Weapon(s).12', 'With Weapon(s).13', 'With Weapon(s).14', 'With Weapon(s).2', 'With Weapon(s).3', 'With Weapon(s).4', 'With Weapon(s).5', 'With Weapon(s).6', 'With Weapon(s).7', 'With Weapon(s).8', 'With Weapon(s).9', 'Without Weapon(s)', 'Without Weapon(s).1', 'Without Weapon(s).10', 'Without Weapon(s).11', 'Without Weapon(s).12', 'Without Weapon(s).13', 'Without Weapon(s).2', 'Without Weapon(s).3', 'Without Weapon(s).4', 'Without Weapon(s).5', 'Without Weapon(s).6', 'Without Weapon(s).7', 'Without Weapon(s).8', 'Without Weapon(s).9']\n"
     ]
    },
    {
     "data": {
      "text/html": [
       "<div>\n",
       "<table border=\"1\" class=\"dataframe\">\n",
       "  <thead>\n",
       "    <tr style=\"text-align: right;\">\n",
       "      <th></th>\n",
       "      <th>Criminal Mischief_nw</th>\n",
       "      <th>Drug Possesion</th>\n",
       "      <th>School Type</th>\n",
       "      <th>Through Screening</th>\n",
       "      <th>False Alarm</th>\n",
       "      <th>Bomb Threat</th>\n",
       "      <th>Homicide_nw</th>\n",
       "      <th>Other Disruptive</th>\n",
       "      <th>School Year</th>\n",
       "      <th>Alcohol Possession</th>\n",
       "      <th>...</th>\n",
       "      <th>Reckless Endangerment_ww</th>\n",
       "      <th>Riot_nw</th>\n",
       "      <th>Riot_ww</th>\n",
       "      <th>Robbery_nw</th>\n",
       "      <th>Robbery_ww</th>\n",
       "      <th>School Name</th>\n",
       "      <th>Under Other Circumstances</th>\n",
       "      <th>Unnamed: 0</th>\n",
       "      <th>Unnamed: 1</th>\n",
       "      <th>Unnamed: 2</th>\n",
       "    </tr>\n",
       "  </thead>\n",
       "  <tbody>\n",
       "    <tr>\n",
       "      <th>0</th>\n",
       "      <td>NaN</td>\n",
       "      <td>NaN</td>\n",
       "      <td>NaN</td>\n",
       "      <td>0.0</td>\n",
       "      <td>NaN</td>\n",
       "      <td>NaN</td>\n",
       "      <td>NaN</td>\n",
       "      <td>NaN</td>\n",
       "      <td>2014</td>\n",
       "      <td>NaN</td>\n",
       "      <td>...</td>\n",
       "      <td>NaN</td>\n",
       "      <td>NaN</td>\n",
       "      <td>NaN</td>\n",
       "      <td>NaN</td>\n",
       "      <td>NaN</td>\n",
       "      <td>NaN</td>\n",
       "      <td>0.0</td>\n",
       "      <td>Bronx</td>\n",
       "      <td>NaN</td>\n",
       "      <td>Academic Leadership Charter School</td>\n",
       "    </tr>\n",
       "    <tr>\n",
       "      <th>1</th>\n",
       "      <td>NaN</td>\n",
       "      <td>NaN</td>\n",
       "      <td>NaN</td>\n",
       "      <td>0.0</td>\n",
       "      <td>NaN</td>\n",
       "      <td>NaN</td>\n",
       "      <td>NaN</td>\n",
       "      <td>NaN</td>\n",
       "      <td>2014</td>\n",
       "      <td>NaN</td>\n",
       "      <td>...</td>\n",
       "      <td>NaN</td>\n",
       "      <td>NaN</td>\n",
       "      <td>NaN</td>\n",
       "      <td>NaN</td>\n",
       "      <td>NaN</td>\n",
       "      <td>NaN</td>\n",
       "      <td>0.0</td>\n",
       "      <td>Bronx</td>\n",
       "      <td>NaN</td>\n",
       "      <td>American Dream Charter School</td>\n",
       "    </tr>\n",
       "    <tr>\n",
       "      <th>2</th>\n",
       "      <td>NaN</td>\n",
       "      <td>NaN</td>\n",
       "      <td>NaN</td>\n",
       "      <td>0.0</td>\n",
       "      <td>NaN</td>\n",
       "      <td>NaN</td>\n",
       "      <td>NaN</td>\n",
       "      <td>NaN</td>\n",
       "      <td>2014</td>\n",
       "      <td>NaN</td>\n",
       "      <td>...</td>\n",
       "      <td>NaN</td>\n",
       "      <td>NaN</td>\n",
       "      <td>NaN</td>\n",
       "      <td>NaN</td>\n",
       "      <td>NaN</td>\n",
       "      <td>NaN</td>\n",
       "      <td>0.0</td>\n",
       "      <td>Bronx</td>\n",
       "      <td>NaN</td>\n",
       "      <td>Brilla College Preparatory Charter School</td>\n",
       "    </tr>\n",
       "    <tr>\n",
       "      <th>3</th>\n",
       "      <td>NaN</td>\n",
       "      <td>NaN</td>\n",
       "      <td>NaN</td>\n",
       "      <td>0.0</td>\n",
       "      <td>NaN</td>\n",
       "      <td>NaN</td>\n",
       "      <td>NaN</td>\n",
       "      <td>NaN</td>\n",
       "      <td>2014</td>\n",
       "      <td>NaN</td>\n",
       "      <td>...</td>\n",
       "      <td>NaN</td>\n",
       "      <td>NaN</td>\n",
       "      <td>NaN</td>\n",
       "      <td>NaN</td>\n",
       "      <td>NaN</td>\n",
       "      <td>NaN</td>\n",
       "      <td>0.0</td>\n",
       "      <td>Bronx</td>\n",
       "      <td>NaN</td>\n",
       "      <td>Bronx Academy Of Promise Charter School</td>\n",
       "    </tr>\n",
       "    <tr>\n",
       "      <th>4</th>\n",
       "      <td>NaN</td>\n",
       "      <td>NaN</td>\n",
       "      <td>NaN</td>\n",
       "      <td>0.0</td>\n",
       "      <td>NaN</td>\n",
       "      <td>NaN</td>\n",
       "      <td>NaN</td>\n",
       "      <td>NaN</td>\n",
       "      <td>2014</td>\n",
       "      <td>NaN</td>\n",
       "      <td>...</td>\n",
       "      <td>NaN</td>\n",
       "      <td>NaN</td>\n",
       "      <td>NaN</td>\n",
       "      <td>NaN</td>\n",
       "      <td>NaN</td>\n",
       "      <td>NaN</td>\n",
       "      <td>0.0</td>\n",
       "      <td>Bronx</td>\n",
       "      <td>NaN</td>\n",
       "      <td>Bronx Charter School For Better Learning</td>\n",
       "    </tr>\n",
       "  </tbody>\n",
       "</table>\n",
       "<p>5 rows × 52 columns</p>\n",
       "</div>"
      ],
      "text/plain": [
       "  Criminal Mischief_nw Drug Possesion School Type  Through Screening  \\\n",
       "0                  NaN            NaN         NaN                0.0   \n",
       "1                  NaN            NaN         NaN                0.0   \n",
       "2                  NaN            NaN         NaN                0.0   \n",
       "3                  NaN            NaN         NaN                0.0   \n",
       "4                  NaN            NaN         NaN                0.0   \n",
       "\n",
       "  False Alarm Bomb Threat Homicide_nw Other Disruptive School Year  \\\n",
       "0         NaN         NaN         NaN              NaN        2014   \n",
       "1         NaN         NaN         NaN              NaN        2014   \n",
       "2         NaN         NaN         NaN              NaN        2014   \n",
       "3         NaN         NaN         NaN              NaN        2014   \n",
       "4         NaN         NaN         NaN              NaN        2014   \n",
       "\n",
       "  Alcohol Possession                    ...                      \\\n",
       "0                NaN                    ...                       \n",
       "1                NaN                    ...                       \n",
       "2                NaN                    ...                       \n",
       "3                NaN                    ...                       \n",
       "4                NaN                    ...                       \n",
       "\n",
       "  Reckless Endangerment_ww Riot_nw Riot_ww Robbery_nw Robbery_ww School Name  \\\n",
       "0                      NaN     NaN     NaN        NaN        NaN         NaN   \n",
       "1                      NaN     NaN     NaN        NaN        NaN         NaN   \n",
       "2                      NaN     NaN     NaN        NaN        NaN         NaN   \n",
       "3                      NaN     NaN     NaN        NaN        NaN         NaN   \n",
       "4                      NaN     NaN     NaN        NaN        NaN         NaN   \n",
       "\n",
       "  Under Other Circumstances Unnamed: 0 Unnamed: 1  \\\n",
       "0                       0.0      Bronx        NaN   \n",
       "1                       0.0      Bronx        NaN   \n",
       "2                       0.0      Bronx        NaN   \n",
       "3                       0.0      Bronx        NaN   \n",
       "4                       0.0      Bronx        NaN   \n",
       "\n",
       "                                  Unnamed: 2  \n",
       "0         Academic Leadership Charter School  \n",
       "1              American Dream Charter School  \n",
       "2  Brilla College Preparatory Charter School  \n",
       "3    Bronx Academy Of Promise Charter School  \n",
       "4   Bronx Charter School For Better Learning  \n",
       "\n",
       "[5 rows x 52 columns]"
      ]
     },
     "execution_count": 4,
     "metadata": {},
     "output_type": "execute_result"
    }
   ],
   "source": [
    "# Reordering of columns\n",
    "\n",
    "# Demographic Categories and their initial indices:\n",
    "# County[12], District[15], School Name[46], BEDS code[8], School Year[48], Enrollment [18]\n",
    "# Grade Organization[22], Need/Resource Category[33], School Type[47]\n",
    "cols = sorted(vadir_df.columns.tolist())\n",
    "print(cols)\n",
    "\n",
    "new_order = [12, 15, 46, 48, 18, 8, 22, 33, 47] + list(range(1,8)) + [9, 19, 10, 11, 13, 14, 16, 17, 20, 21]\n",
    "new_order += list(range(23, 33)) + list(range(34, 46)) + [49, 50, 51, 52]\n",
    "cols = [cols[idx] for idx in new_order]\n",
    "vadir_df = vadir_df[cols]\n",
    "vadir_df.head()"
   ]
  },
  {
   "cell_type": "code",
   "execution_count": null,
   "metadata": {
    "collapsed": false
   },
   "outputs": [],
   "source": [
    "# Merging duplicate columns\n",
    "\n",
    "# rename 'False Alarm' to \"Bomb Threat False Alarm\"\n",
    "vadir_df.rename(columns={'False Alarm':\"Bomb Threat False Alarm\"}, inplace=True)\n",
    "\n",
    "# create standard name for \"Alcohol Possession\"\n",
    "# vadir_df['Alcohol Possession'] = vadir_df['Alcohol Possession'].combine_first(vadir_df['Alcohol Possesion'])\n",
    "# vadir_df['Alcohol Possession'] = vadir_df['Alcohol Possession'].combine_first(vadir_df['Use Possession or Sale of Alcohol'])\n",
    "# vadir_df.drop(['Alcohol Possession', 'Use Possession or Sale of Alcohol'], axis=1, inplace=True)\n",
    "\n",
    "# create standard name for \"Drug Possession\"\n",
    "vadir_df['Drug Possession'] = vadir_df['Drug Possession'].combine_first(vadir_df['Drug Possesion'])\n",
    "# vadir_df['Drug Possession'] = vadir_df['Drug Possession'].combine_first(vadir_df['Use Possession or Sale of Drugs'])\n",
    "# vadir_df.drop(['Drug Possesion', 'Use Possession or Sale of Drugs'], axis=1, inplace=True)\n",
    "vadir_df.drop(['Drug Possesion'], axis=1, inplace=True)\n",
    "\n",
    "# create standard name for \"Other Disruptive Incidents\n",
    "vadir_df['Other Disruptive Incidents'] = vadir_df['Other Disruptive Incidents'].combine_first(vadir_df['Other Disruptive'])\n",
    "vadir_df.drop(['Other Disruptive'], axis=1, inplace=True)\n",
    "\n",
    "# create standard name for \"Other Sex Offenses_nw\"\n",
    "vadir_df['Other Sex Offenses_nw'] = vadir_df['Other Sex Offenses_nw'].combine_first(vadir_df['Other Sex offenses_nw'])\n",
    "vadir_df.drop(['Other Sex offenses_nw'], axis=1, inplace=True)\n",
    "\n",
    "# create standard name for \"Other Sex Offenses_ww\"\n",
    "vadir_df['Other Sex Offenses_ww'] = vadir_df['Other Sex Offenses_ww'].combine_first(vadir_df['Other Sex offenses_ww'])\n",
    "vadir_df.drop(['Other Sex offenses_ww'], axis=1, inplace=True)\n",
    "\n",
    "# Remove duplicate column to \"School Type\"\n",
    "vadir_df.drop(['Need/Resource Category'], axis=1, inplace=True)\n",
    "\n",
    "# Take a look at the now cleaned column names\n",
    "vadir_df.columns.tolist()"
   ]
  },
  {
   "cell_type": "code",
   "execution_count": null,
   "metadata": {
    "collapsed": false
   },
   "outputs": [],
   "source": [
    "# Fixing problematic rows\n",
    "\n",
    "vadir_df.drop([13277, 13278, 14732, 14733], axis=0, inplace=True)\n",
    "#... and reindex\n",
    "vadir_df.reindex()"
   ]
  },
  {
   "cell_type": "code",
   "execution_count": null,
   "metadata": {
    "collapsed": true
   },
   "outputs": [],
   "source": [
    "# Fixing Categorical Data Inconsistencies\n",
    "\n",
    "# Adjust 'County' values to all have the same capitalization\n",
    "vadir_df['County']= vadir_df['County'].apply(lambda x: x.title() if type(x) == type('s') else x)\n",
    "\n",
    "# Get indices with School type'Charter School'\n",
    "indices = vadir_df[vadir_df['School Type'] == 'Charter School'].index.tolist()\n",
    "vadir_df.loc[indices, 'School Type'] = 'Charter'\n",
    "\n",
    "# Adjust 'School Name' values to all have the same capitalization\n",
    "vadir_df['School Name']= vadir_df['School Name'].apply(lambda x: x.title() if type(x) == type('s') else x)\n"
   ]
  },
  {
   "cell_type": "markdown",
   "metadata": {},
   "source": [
    "### Tally number of incidents in total, with weapons, without weapons."
   ]
  },
  {
   "cell_type": "code",
   "execution_count": null,
   "metadata": {
    "collapsed": false
   },
   "outputs": [],
   "source": [
    "# get numeric values\n",
    "COUNT_COLUMNS = vadir_df.columns[8:].tolist()\n",
    "\n",
    "vadir_df[COUNT_COLUMNS].head()\n",
    "\n",
    "# convert data types\n",
    "#vadir_df[COUNT_COLUMNS] = vadir_df[COUNT_COLUMNS].apply(lambda x: pd.to_numeric(x))\n",
    "\n",
    "# # compute tallies\n",
    "# vadir_df['Total Incidents'] = vadir_df[COUNT_COLUMNS].sum(axis=1)\n",
    "\n",
    "# WEAPON_COLS = [x for x in COUNT_COLUMNS if x[-3:] == '_ww']\n",
    "# vadir_df['Incidents w/ Weapons'] = vadir_df[WEAPON_COLS].sum(axis=1)\n",
    "\n",
    "# NO_WEAPON_COLS = [x for x in COUNT_COLUMNS if x[-3:] == '_nw']\n",
    "# vadir_df['Incidents w/o Weapons'] = vadir_df[NO_WEAPON_COLS].sum(axis=1)\n",
    "\n",
    "# # reorder columns\n",
    "# ORDER = ['County', 'District', 'School Name', 'School Year', 'Enrollment', 'BEDS Code',\n",
    "#          'Grade Organization','School Type','Total Incidents','Incidents w/ Weapons',\n",
    "#          'Incidents w/ Weapons'] + COUNT_COLUMNS\n",
    "# vadir_df = vadir_df[ORDER]\n",
    "\n",
    "# school_df = vadir_df.copy()"
   ]
  },
  {
   "cell_type": "markdown",
   "metadata": {},
   "source": [
    "### Borough Population Data - Cleanup"
   ]
  },
  {
   "cell_type": "code",
   "execution_count": null,
   "metadata": {
    "collapsed": false
   },
   "outputs": [],
   "source": [
    "# capitalize borough and set them as index (to match NYPD Data)\n",
    "borough_df.Borough = borough_df.Borough.apply(lambda x : x.upper())\n",
    "borough_df.set_index('Borough', inplace = True)\n",
    "\n",
    "# Add areas (measured in sq miles, source: wikipedia)\n",
    "borough_df[\"Area(sq mi)\"] = pd.Series({'BRONX': 42.47 , 'BROOKLYN': 69.5, 'MANHATTAN': 22.82 ,\n",
    "                                'QUEENS': 108.1 , 'STATEN ISLAND': 57.92 })\n",
    "# Take  a look\n",
    "borough_df"
   ]
  },
  {
   "cell_type": "markdown",
   "metadata": {},
   "source": [
    "# NYPD 7 Major Felony Incidents\n"
   ]
  },
  {
   "cell_type": "code",
   "execution_count": null,
   "metadata": {
    "collapsed": false
   },
   "outputs": [],
   "source": [
    "print(\"Number of observations:\", len(felony_df), \"\\nNumber of Variables:\", len(felony_df.columns),\\\n",
    "     \"\\nDate Range:\", int(felony_df[\"Occurrence Year\"].min()), \"-\", int(felony_df[\"Occurrence Year\"].max()))"
   ]
  },
  {
   "cell_type": "code",
   "execution_count": null,
   "metadata": {
    "collapsed": false
   },
   "outputs": [],
   "source": [
    "# what percent of the data is from 2006 and after?\n",
    "year_counts = felony_df['Occurrence Year'].value_counts()\n",
    "recent = year_counts[list(range(2006,2016))].sum()\n",
    "print(\"Percent of data dated 2000 or after: {:.2f}%\".format(recent/1123465 * 100))\n",
    "\n",
    "# plot crime incidence by year (2000- 2015)\n",
    "year_counts[list(range(2000,2016))].plot(kind = 'bar')\n",
    "plt.title(\"Felonies committed in NYC by Year(2000-2015)\")"
   ]
  },
  {
   "cell_type": "code",
   "execution_count": null,
   "metadata": {
    "collapsed": false
   },
   "outputs": [],
   "source": [
    "# plot crime incidence by felony type (whole data set)\n",
    "felony_counts = felony_df.Offense.value_counts()\n",
    "#counts.sort_values(inplace=True)\n",
    "felony_counts.plot(kind = 'bar')\n",
    "plt.title(\"Frequency of Felony Offenses(NYC, 1905-2015)\")\n",
    "plt.ylabel(\"Number Recorded\")"
   ]
  },
  {
   "cell_type": "code",
   "execution_count": null,
   "metadata": {
    "collapsed": false
   },
   "outputs": [],
   "source": [
    "# plot crime incidence by borough (whole data set)\n",
    "felony_df.Borough.value_counts().plot(kind = 'bar')\n",
    "plt.title(\"Total Felonies by Borough (1905-2015)\")"
   ]
  },
  {
   "cell_type": "code",
   "execution_count": null,
   "metadata": {
    "collapsed": false
   },
   "outputs": [],
   "source": [
    "# plotting by borough and offense\n",
    "fig, ax = plt.subplots()\n",
    "\n",
    "ind = np.arange(5)\n",
    "width = 0.25\n",
    "colors = ['r', 'g', 'b', 'c', 'y', 'm', 'orange']\n",
    "counter = 0\n",
    "for off, df in felony_df.groupby('Offense'):\n",
    "    df.Borough.value_counts().plot(kind = 'bar', color = colors[counter], label = off, figsize = (10,6))\n",
    "    counter += 1\n",
    "\n",
    "plt.title(\"Felonies by offense and Borrough.\")\n",
    "plt.legend()\n",
    "       "
   ]
  },
  {
   "cell_type": "markdown",
   "metadata": {},
   "source": [
    "### Set up Felony data to do temporal analysis"
   ]
  },
  {
   "cell_type": "code",
   "execution_count": null,
   "metadata": {
    "collapsed": false
   },
   "outputs": [],
   "source": [
    "# Note: This cell takes 5-10 minutes to run\n",
    "\n",
    "felony_df = pd.read_csv(\"NYPD_7_Major_Felony_Incidents.csv\", parse_dates = \"Occurrence Date\")\n",
    "\n",
    "#creating a new column to strip off Time from Occurrence Date\n",
    "felony_df['Short Occurrence Date']= pd.to_datetime(felony_df['Occurrence Date'])\n",
    "felony_df['Short Occurrence Date'] = [d.strftime('%Y-%m-%d') if not pd.isnull(d) else '' for d \\\n",
    "                                      in felony_df['Short Occurrence Date']]\n",
    "\n",
    "#removing data prior to 2006\n",
    "felony_df_2006 = felony_df[felony_df[\"Occurrence Year\"]>2005]\n",
    "\n",
    "#there are some dates that have a year of 2006 and higher but a date of 1900, removing these as well\n",
    "felony_df_2006 = felony_df[felony_df[\"Short Occurrence Date\"]>'2005-12-31'] \n",
    "\n",
    "month_order = {'Jan':'01', 'Feb': '02', 'Mar': '03', 'Apr': '04', 'May': '05', 'Jun': '06', 'Jul': '07', \n",
    "               'Aug': '08', 'Sep': '09', 'Oct': '10', 'Nov': '11', 'Dec': '12'}\n",
    "felony_df_2006['Occurrence Month Ordered'] = [month_order[m] + ' ' + m for m in \\\n",
    "                                              felony_df_2006['Occurrence Month']]\n",
    "\n",
    "day_order = {'Monday': 1, 'Tuesday': 2, 'Wednesday': 3, 'Thursday': 4, 'Friday': 5, 'Saturday': 6, 'Sunday': 7}\n",
    "felony_df_2006['Day of Week Ordered'] = [str(day_order[d]) + ' ' + d for d in felony_df_2006['Day of Week']]\n",
    "\n",
    "#groupby by several parameters for plots\n",
    "\n",
    "datecount = felony_df_2006.groupby('Short Occurrence Date', as_index=False)['OBJECTID'].count()\n",
    "yearcount = felony_df_2006.groupby('Occurrence Year', as_index=False)['OBJECTID'].count()\n",
    "monthcount = felony_df_2006.groupby('Occurrence Month Ordered', as_index=False)['OBJECTID'].count()\n",
    "daycount = felony_df_2006.groupby('Occurrence Day', as_index=False)['OBJECTID'].count()\n",
    "weekdaycount = felony_df_2006.groupby('Day of Week Ordered', as_index=False)['OBJECTID'].count()\n",
    "offensecount = felony_df_2006.groupby('Offense', as_index=False)['OBJECTID'].count()\n",
    "yearoffensecount = felony_df_2006.groupby(['Occurrence Year', 'Offense'], as_index=False)['OBJECTID'].count()"
   ]
  },
  {
   "cell_type": "code",
   "execution_count": null,
   "metadata": {
    "collapsed": false
   },
   "outputs": [],
   "source": [
    "# get a time series view of the number of offenses per day\n",
    "dates = datecount[\"Short Occurrence Date\"]\n",
    "x = [dt.datetime.strptime(d,'%Y-%m-%d').date() for d in dates]\n",
    "y = datecount[\"OBJECTID\"]\n",
    "\n",
    "plt.gca().xaxis.set_major_formatter(mdates.DateFormatter('%Y-%m-%d'))\n",
    "plt.plot(x,y)\n",
    "plt.gcf().autofmt_xdate()\n",
    "plt.title('Felony Offenses from 2006 to 2015')"
   ]
  },
  {
   "cell_type": "code",
   "execution_count": null,
   "metadata": {
    "collapsed": false
   },
   "outputs": [],
   "source": [
    "# there is an evident seasonal spike and valley in felonies each year\n",
    "# the below shows a view for 2009 through 2010\n",
    "datecount_2010 = datecount[datecount['Short Occurrence Date'] > '2008-12-31']\n",
    "datecount_2010 = datecount_2010[datecount_2010['Short Occurrence Date'] < '2011-01-01']\n",
    "\n",
    "dates = datecount_2010[\"Short Occurrence Date\"]\n",
    "x = [dt.datetime.strptime(d,'%Y-%m-%d').date() for d in dates]\n",
    "y = datecount_2010[\"OBJECTID\"]\n",
    "\n",
    "plt.gca().xaxis.set_major_formatter(mdates.DateFormatter('%Y-%m-%d'))\n",
    "plt.plot(x,y)\n",
    "plt.gcf().autofmt_xdate()\n",
    "plt.title('Felony Offenses from 2009 through 2010')\n",
    "\n",
    "#looks like the number of felonies spike in September/October and \n",
    "# then fall back down at the end of each calendar year"
   ]
  },
  {
   "cell_type": "code",
   "execution_count": null,
   "metadata": {
    "collapsed": false
   },
   "outputs": [],
   "source": [
    "# this shows a decline in the number of felonies recorded from 2006 to 2015\n",
    "# same graph as aaron had with the x axis labels as the years and y ticks labaels formatted\n",
    "x = yearcount['Occurrence Year']\n",
    "xlabels = [int(xl) for xl in x]\n",
    "y = yearcount[\"OBJECTID\"]\n",
    "\n",
    "def func(x, pos):  \n",
    "   s = '{:0,d}'.format(int(x))\n",
    "   return s\n",
    "\n",
    "y_format = tkr.FuncFormatter(func) \n",
    "plt.xticks(x, xlabels)\n",
    "plt.gca().yaxis.set_major_formatter(y_format)\n",
    "plt.plot(x,y)\n",
    "plt.title('Total Annual Felony Offenses from 2006 to 2015')"
   ]
  },
  {
   "cell_type": "code",
   "execution_count": null,
   "metadata": {
    "collapsed": false
   },
   "outputs": [],
   "source": [
    "# wanted to see a breakout of the type of offenses across years\n",
    "\n",
    "# x = yearoffensecountp.index\n",
    "# xlabels = [int(xl) for xl in x]\n",
    "# yb = yearoffensecountp[\"BURGLARY\"]\n",
    "# yfa = yearoffensecountp[\"FELONY ASSAULT\"]\n",
    "# ygl = yearoffensecountp[\"GRAND LARCENY\"]\n",
    "# yglmv = yearoffensecountp[\"GRAND LARCENY OF MOTOR VEHICLE\"]\n",
    "# ymm = yearoffensecountp[\"MURDER & NON-NEGL. MANSLAUGHTE\"]\n",
    "# yr = yearoffensecountp[\"RAPE\"]\n",
    "# yrb = yearoffensecountp[\"ROBBERY\"]\n",
    "\n",
    "# def func(x, pos):  \n",
    "#    s = '{:0,d}'.format(int(x))\n",
    "#    return s\n",
    "\n",
    "# y_format = tkr.FuncFormatter(func) \n",
    "# plt.xticks(x, xlabels)\n",
    "# plt.gca().yaxis.set_major_formatter(y_format)\n",
    "\n",
    "# plt.plot(x, yb, 'b-', label='Burglary')\n",
    "# plt.plot(x, yfa, 'g-', label='Felony Assault')\n",
    "# plt.plot(x, ygl, 'r-', label='Grand Larceny')\n",
    "# plt.plot(x, yglmv, 'y-', label='Grand Larceny - Motor')\n",
    "# plt.plot(x, ymm, 'k-', label='Murder')\n",
    "# plt.plot(x, yr, 'm-', label='Rape')\n",
    "# plt.plot(x, yrb, 'c-', label='Robbery')\n",
    "\n",
    "# plt.legend(loc=\"best\", bbox_to_anchor=[1, 1],\n",
    "#            ncol=2, shadow=True, title=\"Legend\", fancybox=True)\n",
    "# plt.title('Felony Offenses by Type from 2006 to 2015')\n",
    "# plt.show()"
   ]
  },
  {
   "cell_type": "code",
   "execution_count": null,
   "metadata": {
    "collapsed": false
   },
   "outputs": [],
   "source": [
    "# there is a look of total felony offenses by day of week\n",
    "# looks like the first of the month has the highest offenses - about 10,000 more than any other day\n",
    "# perhaps this is just the busiest day to record offenses?\n",
    "# 31 doesn't have as many offenses since not all months have 31 days - most likely\n",
    "x = daycount['Occurrence Day']\n",
    "y = daycount['OBJECTID']\n",
    "plt.gca().yaxis.set_major_formatter(y_format)\n",
    "plt.bar(x,y)\n",
    "plt.title('Total Felony Offenses by Day of Month from 2006 to 2015')"
   ]
  },
  {
   "cell_type": "code",
   "execution_count": null,
   "metadata": {
    "collapsed": false
   },
   "outputs": [],
   "source": [
    "# breaking out the offenses by month total, it does look a bit seasonal and similar to the time series chart above\n",
    "# February has the least number of offenses - potentially due to the cold weather in nyc\n",
    "# need to determine how to center the month x axis tick labels\n",
    "x = range(len(monthcount['Occurrence Month Ordered']))\n",
    "xlabels = [x[-3:] for x in monthcount['Occurrence Month Ordered']]\n",
    "y = monthcount['OBJECTID']\n",
    "plt.xticks(x, xlabels)\n",
    "plt.gca().yaxis.set_major_formatter(y_format)\n",
    "plt.gca().set_xlim(-0.5,len(xlabels)+0.5)\n",
    "locs = np.arange(len(xlabels))\n",
    "plt.bar(x,y)\n",
    "plt.title('Total Felony Offenses by Month from 2006 to 2015')\n",
    "plt.show()"
   ]
  },
  {
   "cell_type": "code",
   "execution_count": null,
   "metadata": {
    "collapsed": false
   },
   "outputs": [],
   "source": [
    "# breaking out offenses by day of week, Friday spikes with almost 20,000 more offenses than any other day\n",
    "x = range(len(weekdaycount['Day of Week Ordered']))\n",
    "xlabels = [x for x in weekdaycount['Day of Week Ordered']]\n",
    "y = weekdaycount['OBJECTID']\n",
    "plt.xticks(x, xlabels, rotation='vertical')\n",
    "plt.gca().yaxis.set_major_formatter(y_format)\n",
    "plt.gca().set_xlim(-0.5,len(xlabels)+0.5)\n",
    "plt.bar(x,y)\n",
    "plt.title('Total Felony Offenses by Day of Week from 2006 to 2015')\n",
    "plt.show()"
   ]
  },
  {
   "cell_type": "code",
   "execution_count": null,
   "metadata": {
    "collapsed": false
   },
   "outputs": [],
   "source": [
    "# create plot comparing types of Felonies by Borough\n",
    "fel_by_bor = felony_df.groupby('Borough')['Offense'].value_counts().sort_values(ascending=False)\n",
    "fel_by_bor_un = fel_by_bor.unstack(\"Offense\")\n",
    "fel_by_bor_un.sort_index(ascending=False, level = 'GRAND LARCENY')\n",
    "fel_by_bor_un.plot(kind=\"bar\", figsize= (15,7), title = \"Borough By Offense\")"
   ]
  },
  {
   "cell_type": "markdown",
   "metadata": {},
   "source": [
    "# School Data Analysis"
   ]
  },
  {
   "cell_type": "code",
   "execution_count": null,
   "metadata": {
    "collapsed": false
   },
   "outputs": [],
   "source": [
    "school_df[school_df[\"School Year\"].astype(int) > 2010]"
   ]
  },
  {
   "cell_type": "code",
   "execution_count": null,
   "metadata": {
    "collapsed": false
   },
   "outputs": [],
   "source": [
    "school_df[\"School Year\"] = school_df[\"School Year\"].astype(int)\n",
    "\n",
    "if 'Incidents w/ Weapons' in school_df.columns:\n",
    "    school_df.drop('Incidents w/ Weapons', axis =1, inplace=True)\n",
    "\n",
    "if 'Incidents w/ Weapons.1' in school_df.columns:\n",
    "    school_df.drop('Incidents w/ Weapons.1', axis =1, inplace=True)\n",
    "\n",
    "if 'Incidents w/ weapons' in school_df.columns:\n",
    "    school_df.drop('Incidents w/ weapons', axis =1, inplace=True)\n",
    "    \n",
    "if 'Incidents w/out weapons' in school_df.columns:\n",
    "    school_df.drop('Incidents w/out weapons', axis =1, inplace=True)\n",
    "\n",
    "nw_cols = [cols for cols in school_df.columns if 'nw' in cols]\n",
    "school_df[nw_cols].sum(axis=1)\n",
    "school_df[\"Incidents w/out weapons\"] = school_df[nw_cols].sum(axis=1)\n",
    "\n",
    "ww_cols = [cols for cols in school_df.columns if 'ww' in cols]\n",
    "school_df[ww_cols].sum(axis=1)\n",
    "school_df[\"Incidents w/ weapons\"] = school_df[ww_cols].sum(axis=1)\n",
    "\n",
    "inc_cols = [cols for cols in school_df.columns if cols.startswith(\"Inc\")]\n",
    "#school_df.drop(inc_cols[1], inplace = True, axis=1)\n",
    "# school_df[inc_cols].head()\n",
    "\n",
    "fig = school_df.groupby(\"School Year\")[inc_cols].sum().plot(kind=\"bar\", figsize = (12, 10), \n",
    "                                                      secondary_y = inc_cols[1], legend=True,\n",
    "#                                                       xticks = range(2006,2016), \n",
    "                                                      title = \"Incidents without and with weapons\"\n",
    "                                                      )"
   ]
  },
  {
   "cell_type": "code",
   "execution_count": null,
   "metadata": {
    "collapsed": false
   },
   "outputs": [],
   "source": [
    "fig, ax = plt.subplots()\n",
    "\n",
    "ax.plot(list(set(school_df[\"School Year\"])), \n",
    "        school_df.groupby(\"School Year\")[inc_cols[0]].sum(),\n",
    "        'b',\n",
    "       label = \"Incidents without weapons\")\n",
    "ax.set_ylabel(\"Count of Incidents W/out Weapons\")\n",
    "\n",
    "ax2 = ax.twinx()\n",
    "ax2.plot(list(set(school_df[\"School Year\"])), \n",
    "        school_df.groupby(\"School Year\")[inc_cols[1]].sum(),\n",
    "         'g',\n",
    "       label = \"Incidents with weapons\")\n",
    "ax2.set_ylabel(\"Count of Incidents W/ Weapons\")\n",
    "\n",
    "lines = ax.get_lines() + ax2.get_lines()\n",
    "ax.legend(lines, [line.get_label() for line in lines], loc = \"center left\", bbox_to_anchor = (1.15, 0.5))\n",
    "ax.set_title(\"Incidents With and Without Weapons\")\n",
    "plt.show()"
   ]
  },
  {
   "cell_type": "markdown",
   "metadata": {},
   "source": [
    "## Create Lat/Lon values using Geocoder based on addresses"
   ]
  },
  {
   "cell_type": "code",
   "execution_count": null,
   "metadata": {
    "collapsed": false
   },
   "outputs": [],
   "source": [
    "# Finds which schools exist in both the violence and location dataframes\n",
    "\n",
    "location_df = pd.read_csv(\"15-16SchoolDirectory.csv\")\n",
    "\n",
    "loc_sed = set(location_df[\"SED CODE\"])\n",
    "sch_beds = set(school_df[\"BEDS Code\"])\n",
    "print(\"Location file school count:\", len(loc_sed), \"\\nSchool violence school count:\", len(sch_beds),\n",
    "      \"\\nSchools with both violence and locations:\", len(loc_sed & sch_beds))\n",
    "school_beds_with_addresses = [x for x in sch_beds if x in (loc_sed & sch_beds)]\n",
    "filtered_school_df = school_df[school_df[\"BEDS Code\"].isin(school_beds_with_addresses)]\n",
    "filtered_school_df.reset_index(inplace = True, drop = True)"
   ]
  },
  {
   "cell_type": "code",
   "execution_count": null,
   "metadata": {
    "collapsed": false
   },
   "outputs": [],
   "source": [
    "# Note: Takes 30 seconds to run\n",
    "\n",
    "# Creates Full Address column in both location df and filtered school df\n",
    "location_df[\"Full_Address\"] = location_df[\"MAILING ADDRESS\"] + \", \" + location_df[\"CITY\"] + \\\n",
    "                                \", \" + location_df[\"STATE\"] + \", \" + location_df[\"ZIP\"] \n",
    "\n",
    "filtered_school_df[\"Full_Address\"] = [location_df[location_df[\"SED CODE\"] == x].Full_Address for \\\n",
    "                                      x in filtered_school_df[\"BEDS Code\"]]\n",
    "\n",
    "filtered_school_df.Full_Address = [str(filtered_school_df.Full_Address[x])[8:].split(\"Name\")[0][:-1] for x\\\n",
    "                                   in range(len(filtered_school_df.Full_Address))]\n",
    "\n",
    "# # Need unique school list only to get below 2,500 records to use geocoder (1,807 total)\n",
    "beds_list = [] # format of [beds code, address, school name]\n",
    "for beds in (loc_sed & sch_beds):\n",
    "    beds_list.append([beds, filtered_school_df[filtered_school_df[\"BEDS Code\"]==beds].Full_Address.values[0],\\\n",
    "                filtered_school_df[filtered_school_df[\"BEDS Code\"]==beds][\"School Name\"].values[0]])\n",
    "\n",
    "beds_df = pd.DataFrame(beds_list, columns = [\"BEDS_Code\", \"Address\", \"SchoolName\"])\n",
    "print(\"There are\", len(beds_df), \"unique schools in beds_df.\")\n",
    "beds_df.head()"
   ]
  },
  {
   "cell_type": "markdown",
   "metadata": {},
   "source": [
    "## WARNING: The next cell can only be run once a day.\n",
    "\n",
    "It takes at least 10 minutes to run as well. This is a limitation of Google - only 2500 calls can be made per day and the cell below calls it 1,807 times."
   ]
  },
  {
   "cell_type": "code",
   "execution_count": null,
   "metadata": {
    "collapsed": false
   },
   "outputs": [],
   "source": [
    "# Takes 10 min at least for all 1,807 schools! Only works ONCE A DAY due to geocoder \n",
    "# restrictions with Google (2,500 calls per day)\n",
    "\n",
    "latlon = [geo.google(x).latlng for x in beds_df.Address]\n",
    "beds_df[\"latlon\"] = latlon\n",
    "beds_df.head()\n"
   ]
  },
  {
   "cell_type": "markdown",
   "metadata": {},
   "source": [
    "## END WARNING"
   ]
  },
  {
   "cell_type": "code",
   "execution_count": null,
   "metadata": {
    "collapsed": false
   },
   "outputs": [],
   "source": [
    "# Add \"Lat\" and \"Lon\" columns on the filtered school dataframe\n",
    "\n",
    "latlon_list = [beds_df.latlon[beds_df[beds_df[\"BEDS_Code\"]==x].index.values[0]] for x in filtered_school_df[\"BEDS Code\"]]\n",
    "filtered_school_df[\"Lat\"] = [x[0] if x!=[] else [] for x in latlon_list]\n",
    "filtered_school_df[\"Lon\"] = [x[1] if x!=[] else [] for x in latlon_list]\n",
    "filtered_school_df[[\"Full_Address\", \"Lat\", \"Lon\"]].head()"
   ]
  },
  {
   "cell_type": "code",
   "execution_count": null,
   "metadata": {
    "collapsed": true
   },
   "outputs": [],
   "source": []
  }
 ],
 "metadata": {
  "kernelspec": {
   "display_name": "Python 3",
   "language": "python",
   "name": "python3"
  },
  "language_info": {
   "codemirror_mode": {
    "name": "ipython",
    "version": 3
   },
   "file_extension": ".py",
   "mimetype": "text/x-python",
   "name": "python",
   "nbconvert_exporter": "python",
   "pygments_lexer": "ipython3",
   "version": "3.5.1"
  }
 },
 "nbformat": 4,
 "nbformat_minor": 0
}
