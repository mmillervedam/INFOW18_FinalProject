{
 "cells": [
  {
   "cell_type": "markdown",
   "metadata": {},
   "source": [
    "# Lat Long Analysis\n",
    "\n",
    "This portion of our project uses the schools' latitude and longitude (previously obtained using geocoder) to perform some final cleaning on the VADIR data and then join it to the NYC crime data by location. The code below will:  \n",
    "\n",
    "* (A): __Load vadir and felony data__ with the functions from cleandata.py\n",
    "* (B): __Join latlong data__ to the school data frame (using beds/sed code).\n",
    "* (C): __Give schools consistent names__ (we'll use the names from the lat long file)  \n",
    "* (D): __Fill in missing boroughs__ for records from 2006-2007.  \n",
    "* (E): __Identify felonies within a 1 mile__ radius of a given school.  \n",
    "* (F): __Plot correlations__ between school indicents and felonies (by year, by borough, by felony type, by location, by school incident type)."
   ]
  },
  {
   "cell_type": "code",
   "execution_count": 1,
   "metadata": {
    "collapsed": false
   },
   "outputs": [],
   "source": [
    "%load_ext autoreload\n",
    "%autoreload 2\n",
    "% matplotlib inline\n",
    "\n",
    "import numpy as np\n",
    "import pandas as pd\n",
    "from matplotlib import pyplot as plt\n",
    "from vincenty import vincenty\n",
    "import cleandata as cd\n",
    "import time"
   ]
  },
  {
   "cell_type": "markdown",
   "metadata": {},
   "source": [
    "## A. Load data using functions from cleandata.py"
   ]
  },
  {
   "cell_type": "code",
   "execution_count": 4,
   "metadata": {
    "collapsed": false
   },
   "outputs": [
    {
     "name": "stdout",
     "output_type": "stream",
     "text": [
      "... data from VADIR_2006.xls appended. Added 1455 rows for a total of 1455.\n",
      "... data from VADIR_2007.xls appended. Added 1500 rows for a total of 2955.\n",
      "... data from VADIR_2008.xls appended. Added 1545 rows for a total of 4500.\n",
      "... data from VADIR_2009.xls appended. Added 1531 rows for a total of 6031.\n",
      "... data from VADIR_2010.xls appended. Added 1678 rows for a total of 7709.\n",
      "... data from VADIR_2011.xls appended. Added 1693 rows for a total of 9402.\n",
      "... data from VADIR_2012.xls appended. Added 1735 rows for a total of 11137.\n",
      "... data from VADIR_2013.xls appended. Added 1792 rows for a total of 12929.\n",
      "... data from VADIR_2014.xls appended. Added 1805 rows for a total of 14734.\n"
     ]
    }
   ],
   "source": [
    "school_df = cd.load_and_clean_VADIR()\n",
    "felony_df = cd.load_and_clean_NYPD()\n",
    "latlon_df = pd.read_csv('SchoolLatLon.csv', index_col=0)\n",
    "#... ??? replace the last call with function call to Aaron's geocoder function???"
   ]
  },
  {
   "cell_type": "markdown",
   "metadata": {
    "collapsed": false
   },
   "source": [
    "## B. Join School Data and Location Data"
   ]
  },
  {
   "cell_type": "code",
   "execution_count": 5,
   "metadata": {
    "collapsed": true
   },
   "outputs": [],
   "source": [
    "# Helper function -- extract lat/long from object type\n",
    "def parse_latlong(dataframe, loc_column):\n",
    "    \"\"\"\n",
    "    Function to extract lat/long coords. \n",
    "    INPUT: dataframe and name of column with string tuple or list pair of coordinates.\n",
    "    OUTPUT: n/a. Function modifies dataframe to add a lat and long column with float type.\n",
    "    \"\"\"\n",
    "    get_lat = lambda x: x.split(',')[0][1:] if type(x)==type('s') else np.nan\n",
    "    get_long = lambda x: x.split(',')[1][:-1] if type(x)==type('s') else np.nan\n",
    "    dataframe['lat'] = dataframe[loc_column].apply(get_lat).astype('float64')\n",
    "    dataframe['long'] = dataframe[loc_column].apply(get_long).astype('float64')\n",
    "    print('... latitude and longitude extracted for dataframe.')"
   ]
  },
  {
   "cell_type": "code",
   "execution_count": 6,
   "metadata": {
    "collapsed": false
   },
   "outputs": [],
   "source": [
    "# Helper function to add latitude and longitudes to school data frame\n",
    "def join_latlong(school_df, latlon_df, talk=False):\n",
    "    \"\"\"\n",
    "    Function to add (and parse)latitude and longitude \n",
    "    information for each school.\n",
    "    INPUT: school dataframe including \"BEDS Code\" column,\n",
    "           latitude/longitude dataframe w/ \"SED CODE\" col.\n",
    "           (optional 'talk' bool turns on/off print statements)\n",
    "    OUTPUT: dataframe with school data plut new columns \n",
    "            for 'LEGAL NAME', 'Full_Address', 'latlon'(obj),\n",
    "            lat(float64) and long(float64).\n",
    "    \"\"\"\n",
    "    # ensure BEDS and SED are integers so that they'll be recognized as identical\n",
    "    latlon_df[\"SED CODE\"] = latlon_df[\"SED CODE\"].astype(np.int64)\n",
    "    school_df[\"BEDS Code\"] = school_df[\"BEDS Code\"].astype(np.int64)\n",
    "    \n",
    "    # join latlong data to school data using the BEDS code\n",
    "    school_df = pd.merge(school_df, latlon_df, left_on=['BEDS Code'],right_on=['SED CODE'], how='left')\n",
    "    \n",
    "    # parse latlon object in to numerical columns\n",
    "    parse_latlong(school_df, 'latlon')\n",
    "    \n",
    "    # drop the now redundant SED code\n",
    "    school_df.drop(['SED CODE'], axis=1, inplace=True)\n",
    "    \n",
    "    # Take a look at the resulting data/missing values\n",
    "    if talk:\n",
    "        print('... joined df inclues {} unique schools,'.format(len(school_df['BEDS Code'].unique())))\n",
    "        schools_withloc = school_df[school_df['latlon'].notnull()]['BEDS Code'].unique()\n",
    "        schools_missingloc = school_df[school_df['latlon'].isnull()]['BEDS Code'].unique()\n",
    "        print('... of which {} have lat/long'.format(len(schools_withloc)),\n",
    "              'and {} are missing lat/long'.format(len(schools_missingloc)))\n",
    "        \n",
    "    return school_df"
   ]
  },
  {
   "cell_type": "code",
   "execution_count": 7,
   "metadata": {
    "collapsed": false
   },
   "outputs": [
    {
     "name": "stdout",
     "output_type": "stream",
     "text": [
      "... latitude and longitude extracted for dataframe.\n",
      "... joined df inclues 1967 unique schools,\n",
      "... of which 1807 have lat/long and 160 are missing lat/long\n"
     ]
    }
   ],
   "source": [
    "# Function Call\n",
    "school_df = join_latlong(school_df, latlon_df, talk=True)\n",
    "\n",
    "# Take a look -- uncomment to run\n",
    "#school_df.head(2)"
   ]
  },
  {
   "cell_type": "markdown",
   "metadata": {},
   "source": [
    "## C. Fix School Names using info from 'latlon' file."
   ]
  },
  {
   "cell_type": "code",
   "execution_count": 8,
   "metadata": {
    "collapsed": true
   },
   "outputs": [],
   "source": [
    "# Helper Function\n",
    "def fix_case(x):\n",
    "    \"\"\"Function to put a school name in the correct case\"\"\"\n",
    "    if not x:\n",
    "        return x\n",
    "    elif x[:3] in ['PS ', 'JHS', 'MS ']:\n",
    "        return x[:3] + x[3:].title()\n",
    "    else:\n",
    "        return x.title()"
   ]
  },
  {
   "cell_type": "code",
   "execution_count": 9,
   "metadata": {
    "collapsed": false
   },
   "outputs": [],
   "source": [
    "# Helper function to eliminate duplicated school names\n",
    "def fix_school_names(school_df, talk=False):\n",
    "    \"\"\" \n",
    "    INPUT: school_df with original 'School Name' column\n",
    "           and with 'LEGAL NAME' column from latlong file.\n",
    "           (optional 'talk' bool turns on/off print statements)\n",
    "    OUTPUT: n/a, fxn modifies school_df to replace duplicate\n",
    "           'School Name's with their (consistent) legal name.\n",
    "    \"\"\"\n",
    "    if talk:\n",
    "        print('... original dataset had {} unique'.format(len(school_df['School Name'].unique())),\n",
    "              'school names but only {} unique BEDS Codes'.format(len(school_df['BEDS Code'].unique())))\n",
    "    \n",
    "    # Fix missing LEGAL NAMES with School Name\n",
    "    school_df['LEGAL NAME'].fillna(school_df['School Name'], inplace=True)\n",
    "    # Fix case and reassign to School Name\n",
    "    school_df['School Name'] = school_df['LEGAL NAME'].apply(fix_case)\n",
    "    # drop the now redundant LEGAL NAME column\n",
    "    school_df.drop(['LEGAL NAME'], axis=1, inplace=True)\n",
    "    \n",
    "    if talk:\n",
    "        print('... new dataset has {} unique school '.format(len(school_df['School Name'].unique())),\n",
    "              'names and {} unique BEDS Codes.'.format(len(school_df['BEDS Code'].unique())))"
   ]
  },
  {
   "cell_type": "code",
   "execution_count": 10,
   "metadata": {
    "collapsed": false
   },
   "outputs": [
    {
     "name": "stdout",
     "output_type": "stream",
     "text": [
      "... original dataset had 3135 unique school names but only 1967 unique BEDS Codes\n",
      "... new dataset has 1959 unique school  names and 1967 unique BEDS Codes.\n"
     ]
    }
   ],
   "source": [
    "# function call\n",
    "fix_school_names(school_df, talk=True)\n",
    "\n",
    "# Take a look -- uncomment to run\n",
    "#school_df.head(2)"
   ]
  },
  {
   "cell_type": "markdown",
   "metadata": {},
   "source": [
    "## D. Fill in missing boroughs\n",
    "\n",
    "__TODO:__ From the numbers below it looks like some of the County values got switched around (eg. decrease in Manhattan counts?)... I think we probalby need a way of creating the county_map dictionary that prioritizes the traditional borough name). Come back to this."
   ]
  },
  {
   "cell_type": "code",
   "execution_count": 11,
   "metadata": {
    "collapsed": true
   },
   "outputs": [],
   "source": [
    "# Helper function to fill in boroughs\n",
    "def fill_in_boroughs(school_df, talk=False):\n",
    "    \"\"\" \n",
    "    INPUT: school_df with 'County' and 'BEDS Code' columns\n",
    "           (optional 'talk' bool turns on/off print statements)\n",
    "    OUTPUT: n/a, fxn modifies school_df to fill in boroughs.\n",
    "    \"\"\"\n",
    "    if talk:\n",
    "        print('... Originally, {} entries were missing'.format(sum(school_df['County'].isnull())),\n",
    "              ' county info. Other counties:\\n',school_df.County.value_counts())\n",
    "\n",
    "    # create dictionary of county by BEDS Code\n",
    "    c = school_df[school_df['County'].notnull()][['BEDS Code','County']].to_dict()\n",
    "    county_map = {c['BEDS Code'][idx]: c['County'][idx] for idx in c['County'].keys()}\n",
    "    # map counties using dictionary\n",
    "    school_df.County = school_df['BEDS Code'].map(county_map)\n",
    "    \n",
    "    if talk:\n",
    "        print('... Now {} entries are missing'.format(sum(school_df['County'].isnull())),\n",
    "              ' county info. Other counties:\\n',school_df.County.value_counts())"
   ]
  },
  {
   "cell_type": "code",
   "execution_count": 12,
   "metadata": {
    "collapsed": false
   },
   "outputs": [
    {
     "name": "stdout",
     "output_type": "stream",
     "text": [
      "... Originally, 3076 entries were missing  county info. Other counties:\n",
      " Brooklyn              3566\n",
      "Bronx                 2737\n",
      "Queens                2260\n",
      "Manhattan             1228\n",
      "New York              1040\n",
      "Staten Island          478\n",
      "Nyc Central Office     344\n",
      "Nassau                   1\n",
      "Name: County, dtype: int64\n",
      "... Now 3 entries are missing  county info. Other counties:\n",
      " Brooklyn              4637\n",
      "Bronx                 3536\n",
      "Queens                2961\n",
      "New York              2856\n",
      "Staten Island          639\n",
      "Manhattan               80\n",
      "Nyc Central Office       9\n",
      "Nassau                   9\n",
      "Name: County, dtype: int64\n"
     ]
    }
   ],
   "source": [
    "# function call\n",
    "fill_in_boroughs(school_df, talk=True)\n",
    "\n",
    "# Take a look -- uncomment to run\n",
    "#school_df.head(2)"
   ]
  },
  {
   "cell_type": "code",
   "execution_count": 13,
   "metadata": {
    "collapsed": false
   },
   "outputs": [
    {
     "data": {
      "text/plain": [
       "1    1967\n",
       "Name: County, dtype: int64"
      ]
     },
     "execution_count": 13,
     "metadata": {},
     "output_type": "execute_result"
    }
   ],
   "source": [
    "# QUICK CHECK - are any BEDS Codes are linked with more than one Borough(County)?\n",
    "school_df.groupby('BEDS Code')['County'].apply(lambda x: len(x.unique())).value_counts()"
   ]
  },
  {
   "cell_type": "markdown",
   "metadata": {},
   "source": [
    "---\n",
    "\n",
    "## E. Extracting crime tallies w/in radius of schools\n",
    "\n",
    "The functions below build together to ultimately 'join' our two datasets by adding columns to the school dataset for tallies of each type of felony that occurred w/in a 1 mile radius. \n",
    "\n",
    "#### Part 1: Distance Calculation using Vincenty"
   ]
  },
  {
   "cell_type": "code",
   "execution_count": 14,
   "metadata": {
    "collapsed": false
   },
   "outputs": [
    {
     "name": "stdout",
     "output_type": "stream",
     "text": [
      "... there are 640 missing latlon entries\n",
      "... there are 640 missing lat entries\n"
     ]
    }
   ],
   "source": [
    "# Quick Check, are there rows with 'latlon' but not 'lat'\n",
    "print('... there are {} missing latlon entries'.format(sum(school_df.latlon.isnull())))\n",
    "print('... there are {} missing lat entries'.format(sum(school_df.lat.isnull())))"
   ]
  },
  {
   "cell_type": "code",
   "execution_count": 15,
   "metadata": {
    "collapsed": false
   },
   "outputs": [
    {
     "name": "stdout",
     "output_type": "stream",
     "text": [
      "... latitude and longitude extracted for dataframe.\n"
     ]
    }
   ],
   "source": [
    "# Extact Lattitude and longitude data for felony dataframes\n",
    "parse_latlong(felony_df, 'Location 1')"
   ]
  },
  {
   "cell_type": "code",
   "execution_count": 19,
   "metadata": {
    "collapsed": false
   },
   "outputs": [
    {
     "data": {
      "text/plain": [
       "OBJECTID\n",
       "258    40.699760\n",
       "259    40.714605\n",
       "260    40.793723\n",
       "261    40.843674\n",
       "262    40.856776\n",
       "Name: lat, dtype: float64"
      ]
     },
     "execution_count": 19,
     "metadata": {},
     "output_type": "execute_result"
    }
   ],
   "source": [
    "felony_df.lat.head()"
   ]
  },
  {
   "cell_type": "code",
   "execution_count": 16,
   "metadata": {
    "collapsed": true
   },
   "outputs": [],
   "source": [
    "# Helper function -- check dist\n",
    "def is_in_radius(school_point, crime_point, radius):\n",
    "    \"\"\"\n",
    "    Function using vincenty package to check distance between school and crime.\n",
    "    INPUT: (lat,long) tuples for school and crime (in degrees), radius in miles.\n",
    "    OUTPUT: Boolean\n",
    "    \"\"\"\n",
    "    return vincenty(school_point, crime_point, miles=True) <= radius"
   ]
  },
  {
   "cell_type": "code",
   "execution_count": 25,
   "metadata": {
    "collapsed": false
   },
   "outputs": [
    {
     "name": "stdout",
     "output_type": "stream",
     "text": [
      "Distance:  21.000545\n",
      "... w/in 2 mi? False\n",
      "... w/in 50 mi? True\n"
     ]
    }
   ],
   "source": [
    "# Testing vincenty on the first felony and first school\n",
    "first_school_point = (school_df.lat.iloc[0], school_df.long.iloc[0]) \n",
    "first_felony_point = (felony_df.lat.iloc[0], felony_df.long.iloc[0]) \n",
    "\n",
    "# not w/in 2 miles, but yes, w/in 50\n",
    "print('Distance: ', vincenty(first_school_point, first_felony_point))\n",
    "print(\"... w/in 2 mi?\", is_in_radius(first_school_point, first_felony_point, 2))\n",
    "print(\"... w/in 50 mi?\",is_in_radius(first_school_point, first_felony_point, 50))"
   ]
  },
  {
   "cell_type": "markdown",
   "metadata": {},
   "source": [
    "#### Part 2: Setting up a grid for NYC lat/long coords\n",
    "\n",
    "This grid will help limit our search of the NYC Felony dataframe to the close crimes (saving time).\n",
    "\n",
    "NOTES: The max lat of a school is ~ 40.9  and the distance between 40.9 and 40.95 is over 3 miles... but there are 7 crimes that fell under the jurisdiction of the NY Transit police whose locations are recorded north of 41 degrees (the farthes one is 500 miles away). The minimum longitude of a school is ~-74.24 which is around 3 miles from -74.3. There are 63 crimes that occurred west of -74.3. I suggest that we disregard these outliers for the purposes of our analysis"
   ]
  },
  {
   "cell_type": "code",
   "execution_count": 26,
   "metadata": {
    "collapsed": false
   },
   "outputs": [
    {
     "name": "stdout",
     "output_type": "stream",
     "text": [
      "Latitude ranges from 40.5078027 to 40.9034547 with a total distance of 27.300837\n",
      "Longitude ranges from -74.2440251 to -73.4883134 with a total distance of 52.408039\n"
     ]
    }
   ],
   "source": [
    "# Initial exploration of ranges\n",
    "max_lat = school_df.lat.max()\n",
    "min_lat = school_df.lat.min()\n",
    "max_long = school_df.long.max()\n",
    "min_long = school_df.long.min()\n",
    "\n",
    "lat_dist = vincenty((min_lat, 0.5*(max_long + min_long)),(max_lat, 0.5*(max_long + min_long)), miles=True)\n",
    "long_dist = vincenty((min_long, 0.5*(max_lat + min_lat)),(max_long, 0.5*(max_lat + min_lat)), miles=True)\n",
    "\n",
    "print('Latitude ranges from {} to {} with a total distance of {}'.format(min_lat, max_lat, lat_dist))\n",
    "print('Longitude ranges from {} to {} with a total distance of {}'.format(min_long, max_long, long_dist))"
   ]
  },
  {
   "cell_type": "code",
   "execution_count": 27,
   "metadata": {
    "collapsed": false
   },
   "outputs": [],
   "source": [
    "# Helper function to identify grid cell that contains a given point\n",
    "def nyc_grid(lat,long):\n",
    "    \"\"\"\n",
    "    This function identifies a square mile cell of NYC that contains \n",
    "    the given longitude and latitude point. There are 1500 cells in \n",
    "    total. 30 rows each represent a segement of latitude and 50 \n",
    "    columns each represent a segment of longitude. The cells are \n",
    "    numbered 0 through 1599 and they are unique to this analysis.\n",
    "    \"\"\"\n",
    "    # max and min values from data set\n",
    "    max_lat = 40.95\n",
    "    min_lat = 40.50\n",
    "    max_long = -73.45\n",
    "    min_long = -74.30\n",
    "    \n",
    "    # divide each range into segments of a little over a mile\n",
    "    delta_lat = (max_lat - min_lat)/28\n",
    "    delta_long = (max_long - min_long)/48\n",
    "\n",
    "    # then segment each direction\n",
    "    lat_seg = np.array([min_lat + idx*delta_lat for idx in range(-1,29)])\n",
    "    long_seg = np.array([min_long + idx*delta_long for idx in range(-1,49)])\n",
    "\n",
    "    # identify where given point fits in segments\n",
    "    row = sum(lat_seg <= lat) - 1\n",
    "    col = sum(long_seg <= long) - 1\n",
    "    \n",
    "    # return grid number\n",
    "    if row < 0 or row == 29 or col < 0 or col == 49:\n",
    "        return np.nan\n",
    "    else:\n",
    "        return row * 50 + col"
   ]
  },
  {
   "cell_type": "code",
   "execution_count": 28,
   "metadata": {
    "collapsed": false
   },
   "outputs": [
    {
     "data": {
      "text/plain": [
       "nan"
      ]
     },
     "execution_count": 28,
     "metadata": {},
     "output_type": "execute_result"
    }
   ],
   "source": [
    "# Test an out of bound point\n",
    "nyc_grid(40.653161, -76.862164)"
   ]
  },
  {
   "cell_type": "code",
   "execution_count": 29,
   "metadata": {
    "collapsed": false
   },
   "outputs": [
    {
     "data": {
      "text/plain": [
       "1074"
      ]
     },
     "execution_count": 29,
     "metadata": {},
     "output_type": "execute_result"
    }
   ],
   "source": [
    "# Test an in bound point\n",
    "nyc_grid(40.821798, -73.886463)"
   ]
  },
  {
   "cell_type": "markdown",
   "metadata": {},
   "source": [
    "#### Part 3: Function to find crimes w/in 1 mile of a school\n",
    "\n",
    "STRATEGY: Identify the grid cell containing the school and then search only that cell and its immediately adjacent cells."
   ]
  },
  {
   "cell_type": "code",
   "execution_count": 30,
   "metadata": {
    "collapsed": false
   },
   "outputs": [],
   "source": [
    "# helper function to get a list of adjacent cells\n",
    "def get_adjacent(cell_num):\n",
    "    \"\"\" \n",
    "    This function identifies a group of cells which together superset \n",
    "    any points within a mile of any location in the original cell.\n",
    "    INPUT: a cell number (< 5999) from NYC grid\n",
    "    OUTPUT: a list of adjacent and or diagonal cell numbers\n",
    "    \n",
    "    NOTE: this function should only be run on cell numbers of vadir\n",
    "    school locations since the nyc_grid is designed so that all\n",
    "    schools are in a cell that is not a boarder cell.\n",
    "    \"\"\"\n",
    "    col = cell_num % 50\n",
    "    row = cell_num // 50\n",
    "    row_range = [row - 1, row, row + 1]\n",
    "    col_range = [col - 1, col, col + 1]\n",
    "    return [r * 50 + c for r in row_range for c in col_range]\n",
    "    "
   ]
  },
  {
   "cell_type": "code",
   "execution_count": 31,
   "metadata": {
    "collapsed": false
   },
   "outputs": [
    {
     "data": {
      "text/plain": [
       "[1, 2, 3, 51, 52, 53, 101, 102, 103]"
      ]
     },
     "execution_count": 31,
     "metadata": {},
     "output_type": "execute_result"
    }
   ],
   "source": [
    "# Test grid adjacency\n",
    "get_adjacent(52)"
   ]
  },
  {
   "cell_type": "code",
   "execution_count": 32,
   "metadata": {
    "collapsed": true
   },
   "outputs": [],
   "source": [
    "# helper function to get subset of felonies within a 1 mile radius\n",
    "def get_local_crimes(location, felony_df):\n",
    "    \"\"\"\n",
    "    This function identifies crimes less than 1 mi \n",
    "    from a single school (or GPS location).\n",
    "    INPUT: location (GPS point), felony_df (w/\n",
    "        'NYC_grid column already populated)\n",
    "    OUTPUT: felony_df subset of crimes that \n",
    "        occurred within one mile of school.\n",
    "            \n",
    "    \"\"\"\n",
    "    cells_to_search = get_adjacent(nyc_grid(*location))\n",
    "    \n",
    "    # Get subset of crimes w/in grid\n",
    "    cells_to_search = get_adjacent(nyc_grid(*location)) \n",
    "    crimes = felony_df.loc[felony_df.NYC_grid.isin(cells_to_search)]\n",
    "    \n",
    "    # Further subset by a radius of 1 mile\n",
    "    if not crimes.empty: \n",
    "        r_filter = lambda x: is_in_radius(location,(x.lat,x.long),1)\n",
    "        crimes =  crimes[crimes.apply(r_filter, axis=1)]\n",
    "        \n",
    "    return crimes"
   ]
  },
  {
   "cell_type": "code",
   "execution_count": null,
   "metadata": {
    "collapsed": false
   },
   "outputs": [],
   "source": [
    "# test function on a single school / no crimes\n",
    "this_school = school_df[school_df['BEDS Code'] == 307500014256]\n",
    "location = (this_school.lat.mean(), this_school.long.mean())\n",
    "result = get_local_crimes(location, felony_df)"
   ]
  },
  {
   "cell_type": "code",
   "execution_count": null,
   "metadata": {
    "collapsed": false
   },
   "outputs": [],
   "source": [
    "# now testing on a school with crimes\n",
    "this_school = school_df[school_df['BEDS Code'] == 307500012017]\n",
    "location = (this_school.lat.mean(), this_school.long.mean())\n",
    "result = get_local_crimes(location, felony_df)"
   ]
  },
  {
   "cell_type": "markdown",
   "metadata": {},
   "source": [
    "#### Part 4: Crime counting function to search only within adjacent cells of the school\n",
    "\n",
    "NOTE: loading grid cell#s for the felony data set takes 3-4 minutes and only needs to be done once. To skip that step after you've already run this function before simply set the optional parameter skip_gridsetup to True (it defaults False)"
   ]
  },
  {
   "cell_type": "code",
   "execution_count": 33,
   "metadata": {
    "collapsed": false
   },
   "outputs": [],
   "source": [
    "def tally_crime_by_loc(school_df, felony_df, skip_gridsetup = False):\n",
    "    \"\"\"\n",
    "    Function to tally and store information about felonies \n",
    "    that occur w/in one mile of each school in the school_df.\n",
    "    INPUT: school df w/ cols 'latlon', 'lat', 'long', and 'School Year'\n",
    "           felony df w/ cols 'Occurrence Year', 'lat','long','Offense', and 'Identifier'\n",
    "    OUTPUT: n/a, modifies school data.\n",
    "    \"\"\"\n",
    "    if not skip_gridsetup:\n",
    "        # prepare felony dataframe by adding a column for nyc_grid cell number\n",
    "        felony_df.lat.fillna(0, inplace=True)\n",
    "        felony_df.long.fillna(0, inplace=True)\n",
    "        felony_df['NYC_grid'] = felony_df.apply(lambda x: nyc_grid(x.lat, x.long),axis=1)\n",
    "\n",
    "    # Initialize new columns in school data frame\n",
    "    school_df['CrimeIDS'] = pd.Series()\n",
    "    school_df['Total Felonies w/in 1mi'] = pd.Series()\n",
    "    school_df['Grand Larceny w/in 1mi'] = pd.Series()\n",
    "    school_df['Robbery w/in 1mi'] = pd.Series()\n",
    "    school_df['Burglary w/in 1mi'] = pd.Series()\n",
    "    school_df['Assault w/in 1mi'] = pd.Series()\n",
    "    school_df['Auto Theft w/in 1mi'] = pd.Series()\n",
    "    school_df['Rape w/in 1mi'] = pd.Series()\n",
    "    school_df['Murders w/in 1mi'] = pd.Series()\n",
    "    \n",
    "    # Group schools (unique location for each BEDS Code) \n",
    "    grouped = school_df[school_df.lat.notnull()].groupby(['BEDS Code'])\n",
    "    \n",
    "    # Loop through schools, subset crime by location. \n",
    "    for beds, df in grouped:\n",
    "        # NOTE: the coordinates should all be the same so the mean is just the location\n",
    "        assert len(df.lat.unique().tolist()) == 1, 'ERROR: multiple latitudes for this school.'\n",
    "        location = (df.lat.mean(), df.long.mean())\n",
    "        local_crimes = get_local_crimes(location, felony_df)\n",
    "\n",
    "        # tally and store felonies for each year\n",
    "        for year in df['School Year'].unique():\n",
    "            subset = local_crimes[local_crimes['School Year'] == year]\n",
    "            idxs = df[df['School Year'] == year].index.tolist()\n",
    "            school_df.loc[idxs,['CrimeIDS']] = str(subset.Identifier.unique().tolist())\n",
    "            school_df.loc[idxs,['Total Felonies w/in 1mi']] = len(subset)        \n",
    "            school_df.loc[idxs,['Grand Larceny w/in 1mi']] = sum(subset['Offense'] == 'GRAND LARCENY')\n",
    "            school_df.loc[idxs,['Robbery w/in 1mi']] = sum(subset['Offense'] == 'ROBBERY')\n",
    "            school_df.loc[idxs,['Burglary w/in 1mi']] = sum(subset['Offense'] == 'BURGLARY')\n",
    "            school_df.loc[idxs,['Assault w/in 1mi']] = sum(subset['Offense'] == 'FELONY ASSAULT')\n",
    "            school_df.loc[idxs,['Auto Theft w/in 1mi']] = sum(subset['Offense'] == 'GRAND LARCENY OF MOTOR VEHICLE')\n",
    "            school_df.loc[idxs,['Rape w/in 1mi']] = sum(subset['Offense'] == 'RAPE')\n",
    "            school_df.loc[idxs,['Murders w/in 1mi']] = sum(subset['Offense'] == 'MURDER & NON-NEGL. MANSLAUGHTE')\n",
    "\n",
    "    print('... tallied felonies w/in 1 mile of each school.')"
   ]
  },
  {
   "cell_type": "code",
   "execution_count": 34,
   "metadata": {
    "collapsed": false
   },
   "outputs": [
    {
     "name": "stdout",
     "output_type": "stream",
     "text": [
      "... tallied felonies w/in 1 mile of each school.\n"
     ]
    }
   ],
   "source": [
    "# WARNING ... this cell takes around two hours to run (~5 seconds per school)\n",
    "# Try importing: 'vadir_with_felonycounts.csv' for a faster option\n",
    "\n",
    "# run function\n",
    "tally_crime_by_loc(school_df, felony_df)\n"
   ]
  },
  {
   "cell_type": "code",
   "execution_count": 35,
   "metadata": {
    "collapsed": false
   },
   "outputs": [],
   "source": [
    "school_df.to_csv('vadir_with_felonycounts.csv')"
   ]
  },
  {
   "cell_type": "markdown",
   "metadata": {},
   "source": [
    "## F. Exploring the data"
   ]
  },
  {
   "cell_type": "code",
   "execution_count": 36,
   "metadata": {
    "collapsed": true
   },
   "outputs": [],
   "source": [
    "# Shortcut to data - uncomment to run.\n",
    "school_df = pd.read_csv('vadir_with_felonycounts.csv')"
   ]
  },
  {
   "cell_type": "code",
   "execution_count": 51,
   "metadata": {
    "collapsed": true
   },
   "outputs": [],
   "source": [
    "# Some global variables for convenient subsetting\n",
    "CRIME_COLS = [ 'Total Felonies w/in 1mi', 'Grand Larceny w/in 1mi', 'Robbery w/in 1mi',\n",
    "              'Burglary w/in 1mi', 'Assault w/in 1mi', 'Auto Theft w/in 1mi', \n",
    "              'Rape w/in 1mi', 'Murders w/in 1mi']\n",
    "NON_LARCENY_COLS = ['Robbery w/in 1mi','Burglary w/in 1mi', 'Assault w/in 1mi', \n",
    "                    'Auto Theft w/in 1mi', 'Rape w/in 1mi', 'Murders w/in 1mi']\n",
    "INCIDENT_COLS = ['Total Incidents', 'Incidents w/ Weapons', 'Incidents w/o Weapons']"
   ]
  },
  {
   "cell_type": "code",
   "execution_count": 54,
   "metadata": {
    "collapsed": false
   },
   "outputs": [
    {
     "data": {
      "text/html": [
       "<div>\n",
       "<table border=\"1\" class=\"dataframe\">\n",
       "  <thead>\n",
       "    <tr style=\"text-align: right;\">\n",
       "      <th></th>\n",
       "      <th>School Year</th>\n",
       "      <th>2006</th>\n",
       "      <th>2007</th>\n",
       "      <th>2008</th>\n",
       "      <th>2009</th>\n",
       "      <th>2010</th>\n",
       "      <th>2011</th>\n",
       "      <th>2012</th>\n",
       "      <th>2013</th>\n",
       "      <th>2014</th>\n",
       "    </tr>\n",
       "  </thead>\n",
       "  <tbody>\n",
       "    <tr>\n",
       "      <th rowspan=\"3\" valign=\"top\">Total Felonies w/in 1mi</th>\n",
       "      <th>max</th>\n",
       "      <td>9316.000000</td>\n",
       "      <td>9467.000000</td>\n",
       "      <td>8704.000000</td>\n",
       "      <td>8100.000000</td>\n",
       "      <td>7373.000000</td>\n",
       "      <td>7346.000000</td>\n",
       "      <td>7541.000000</td>\n",
       "      <td>7353.000000</td>\n",
       "      <td>7218.000000</td>\n",
       "    </tr>\n",
       "    <tr>\n",
       "      <th>min</th>\n",
       "      <td>0.000000</td>\n",
       "      <td>0.000000</td>\n",
       "      <td>0.000000</td>\n",
       "      <td>0.000000</td>\n",
       "      <td>0.000000</td>\n",
       "      <td>0.000000</td>\n",
       "      <td>0.000000</td>\n",
       "      <td>0.000000</td>\n",
       "      <td>0.000000</td>\n",
       "    </tr>\n",
       "    <tr>\n",
       "      <th>mean</th>\n",
       "      <td>2273.553707</td>\n",
       "      <td>2201.573818</td>\n",
       "      <td>2058.074329</td>\n",
       "      <td>1974.585467</td>\n",
       "      <td>2003.919799</td>\n",
       "      <td>2099.470948</td>\n",
       "      <td>2106.962153</td>\n",
       "      <td>2126.354072</td>\n",
       "      <td>2015.309141</td>\n",
       "    </tr>\n",
       "    <tr>\n",
       "      <th rowspan=\"3\" valign=\"top\">Grand Larceny w/in 1mi</th>\n",
       "      <th>max</th>\n",
       "      <td>6714.000000</td>\n",
       "      <td>6656.000000</td>\n",
       "      <td>6165.000000</td>\n",
       "      <td>5832.000000</td>\n",
       "      <td>5292.000000</td>\n",
       "      <td>5320.000000</td>\n",
       "      <td>5587.000000</td>\n",
       "      <td>5424.000000</td>\n",
       "      <td>5231.000000</td>\n",
       "    </tr>\n",
       "    <tr>\n",
       "      <th>min</th>\n",
       "      <td>0.000000</td>\n",
       "      <td>0.000000</td>\n",
       "      <td>0.000000</td>\n",
       "      <td>0.000000</td>\n",
       "      <td>0.000000</td>\n",
       "      <td>0.000000</td>\n",
       "      <td>0.000000</td>\n",
       "      <td>0.000000</td>\n",
       "      <td>0.000000</td>\n",
       "    </tr>\n",
       "    <tr>\n",
       "      <th>mean</th>\n",
       "      <td>795.071104</td>\n",
       "      <td>784.447273</td>\n",
       "      <td>722.565038</td>\n",
       "      <td>687.191003</td>\n",
       "      <td>695.874687</td>\n",
       "      <td>755.971865</td>\n",
       "      <td>810.814311</td>\n",
       "      <td>839.363688</td>\n",
       "      <td>796.535180</td>\n",
       "    </tr>\n",
       "    <tr>\n",
       "      <th rowspan=\"3\" valign=\"top\">Robbery w/in 1mi</th>\n",
       "      <th>max</th>\n",
       "      <td>1253.000000</td>\n",
       "      <td>1176.000000</td>\n",
       "      <td>1063.000000</td>\n",
       "      <td>989.000000</td>\n",
       "      <td>978.000000</td>\n",
       "      <td>1015.000000</td>\n",
       "      <td>936.000000</td>\n",
       "      <td>916.000000</td>\n",
       "      <td>887.000000</td>\n",
       "    </tr>\n",
       "    <tr>\n",
       "      <th>min</th>\n",
       "      <td>0.000000</td>\n",
       "      <td>0.000000</td>\n",
       "      <td>0.000000</td>\n",
       "      <td>0.000000</td>\n",
       "      <td>0.000000</td>\n",
       "      <td>0.000000</td>\n",
       "      <td>0.000000</td>\n",
       "      <td>0.000000</td>\n",
       "      <td>0.000000</td>\n",
       "    </tr>\n",
       "    <tr>\n",
       "      <th>mean</th>\n",
       "      <td>464.934947</td>\n",
       "      <td>463.885091</td>\n",
       "      <td>423.529250</td>\n",
       "      <td>384.561938</td>\n",
       "      <td>414.836466</td>\n",
       "      <td>431.211621</td>\n",
       "      <td>406.240095</td>\n",
       "      <td>386.168552</td>\n",
       "      <td>354.915789</td>\n",
       "    </tr>\n",
       "    <tr>\n",
       "      <th rowspan=\"3\" valign=\"top\">Burglary w/in 1mi</th>\n",
       "      <th>max</th>\n",
       "      <td>1247.000000</td>\n",
       "      <td>1190.000000</td>\n",
       "      <td>1125.000000</td>\n",
       "      <td>1123.000000</td>\n",
       "      <td>855.000000</td>\n",
       "      <td>878.000000</td>\n",
       "      <td>765.000000</td>\n",
       "      <td>830.000000</td>\n",
       "      <td>858.000000</td>\n",
       "    </tr>\n",
       "    <tr>\n",
       "      <th>min</th>\n",
       "      <td>0.000000</td>\n",
       "      <td>0.000000</td>\n",
       "      <td>0.000000</td>\n",
       "      <td>0.000000</td>\n",
       "      <td>0.000000</td>\n",
       "      <td>0.000000</td>\n",
       "      <td>0.000000</td>\n",
       "      <td>0.000000</td>\n",
       "      <td>0.000000</td>\n",
       "    </tr>\n",
       "    <tr>\n",
       "      <th>mean</th>\n",
       "      <td>388.383510</td>\n",
       "      <td>357.506909</td>\n",
       "      <td>346.379904</td>\n",
       "      <td>340.048443</td>\n",
       "      <td>324.510652</td>\n",
       "      <td>334.990214</td>\n",
       "      <td>311.975754</td>\n",
       "      <td>303.119344</td>\n",
       "      <td>284.941828</td>\n",
       "    </tr>\n",
       "    <tr>\n",
       "      <th rowspan=\"3\" valign=\"top\">Assault w/in 1mi</th>\n",
       "      <th>max</th>\n",
       "      <td>979.000000</td>\n",
       "      <td>880.000000</td>\n",
       "      <td>891.000000</td>\n",
       "      <td>945.000000</td>\n",
       "      <td>1002.000000</td>\n",
       "      <td>1063.000000</td>\n",
       "      <td>1077.000000</td>\n",
       "      <td>1231.000000</td>\n",
       "      <td>1156.000000</td>\n",
       "    </tr>\n",
       "    <tr>\n",
       "      <th>min</th>\n",
       "      <td>0.000000</td>\n",
       "      <td>0.000000</td>\n",
       "      <td>0.000000</td>\n",
       "      <td>0.000000</td>\n",
       "      <td>0.000000</td>\n",
       "      <td>0.000000</td>\n",
       "      <td>0.000000</td>\n",
       "      <td>0.000000</td>\n",
       "      <td>0.000000</td>\n",
       "    </tr>\n",
       "    <tr>\n",
       "      <th>mean</th>\n",
       "      <td>365.024962</td>\n",
       "      <td>354.800727</td>\n",
       "      <td>349.028217</td>\n",
       "      <td>359.262976</td>\n",
       "      <td>381.343358</td>\n",
       "      <td>400.540061</td>\n",
       "      <td>421.591957</td>\n",
       "      <td>440.036765</td>\n",
       "      <td>422.502493</td>\n",
       "    </tr>\n",
       "    <tr>\n",
       "      <th rowspan=\"3\" valign=\"top\">Auto Theft w/in 1mi</th>\n",
       "      <th>max</th>\n",
       "      <td>459.000000</td>\n",
       "      <td>443.000000</td>\n",
       "      <td>379.000000</td>\n",
       "      <td>349.000000</td>\n",
       "      <td>318.000000</td>\n",
       "      <td>301.000000</td>\n",
       "      <td>251.000000</td>\n",
       "      <td>318.000000</td>\n",
       "      <td>276.000000</td>\n",
       "    </tr>\n",
       "    <tr>\n",
       "      <th>min</th>\n",
       "      <td>0.000000</td>\n",
       "      <td>0.000000</td>\n",
       "      <td>0.000000</td>\n",
       "      <td>0.000000</td>\n",
       "      <td>0.000000</td>\n",
       "      <td>0.000000</td>\n",
       "      <td>0.000000</td>\n",
       "      <td>0.000000</td>\n",
       "      <td>0.000000</td>\n",
       "    </tr>\n",
       "    <tr>\n",
       "      <th>mean</th>\n",
       "      <td>225.310893</td>\n",
       "      <td>202.874182</td>\n",
       "      <td>183.066070</td>\n",
       "      <td>165.504498</td>\n",
       "      <td>148.776316</td>\n",
       "      <td>138.351682</td>\n",
       "      <td>120.032525</td>\n",
       "      <td>124.061086</td>\n",
       "      <td>121.672576</td>\n",
       "    </tr>\n",
       "    <tr>\n",
       "      <th rowspan=\"3\" valign=\"top\">Rape w/in 1mi</th>\n",
       "      <th>max</th>\n",
       "      <td>106.000000</td>\n",
       "      <td>116.000000</td>\n",
       "      <td>88.000000</td>\n",
       "      <td>109.000000</td>\n",
       "      <td>117.000000</td>\n",
       "      <td>112.000000</td>\n",
       "      <td>96.000000</td>\n",
       "      <td>96.000000</td>\n",
       "      <td>95.000000</td>\n",
       "    </tr>\n",
       "    <tr>\n",
       "      <th>min</th>\n",
       "      <td>0.000000</td>\n",
       "      <td>0.000000</td>\n",
       "      <td>0.000000</td>\n",
       "      <td>0.000000</td>\n",
       "      <td>0.000000</td>\n",
       "      <td>0.000000</td>\n",
       "      <td>0.000000</td>\n",
       "      <td>0.000000</td>\n",
       "      <td>0.000000</td>\n",
       "    </tr>\n",
       "    <tr>\n",
       "      <th>mean</th>\n",
       "      <td>28.035552</td>\n",
       "      <td>26.848727</td>\n",
       "      <td>23.737784</td>\n",
       "      <td>27.178547</td>\n",
       "      <td>29.694236</td>\n",
       "      <td>27.818349</td>\n",
       "      <td>28.846836</td>\n",
       "      <td>26.656674</td>\n",
       "      <td>27.069252</td>\n",
       "    </tr>\n",
       "    <tr>\n",
       "      <th rowspan=\"3\" valign=\"top\">Murders w/in 1mi</th>\n",
       "      <th>max</th>\n",
       "      <td>32.000000</td>\n",
       "      <td>47.000000</td>\n",
       "      <td>37.000000</td>\n",
       "      <td>48.000000</td>\n",
       "      <td>35.000000</td>\n",
       "      <td>44.000000</td>\n",
       "      <td>24.000000</td>\n",
       "      <td>30.000000</td>\n",
       "      <td>30.000000</td>\n",
       "    </tr>\n",
       "    <tr>\n",
       "      <th>min</th>\n",
       "      <td>0.000000</td>\n",
       "      <td>0.000000</td>\n",
       "      <td>0.000000</td>\n",
       "      <td>0.000000</td>\n",
       "      <td>0.000000</td>\n",
       "      <td>0.000000</td>\n",
       "      <td>0.000000</td>\n",
       "      <td>0.000000</td>\n",
       "      <td>0.000000</td>\n",
       "    </tr>\n",
       "    <tr>\n",
       "      <th>mean</th>\n",
       "      <td>6.792738</td>\n",
       "      <td>11.210909</td>\n",
       "      <td>9.768066</td>\n",
       "      <td>10.838062</td>\n",
       "      <td>8.884085</td>\n",
       "      <td>10.587156</td>\n",
       "      <td>7.460674</td>\n",
       "      <td>6.947964</td>\n",
       "      <td>7.672022</td>\n",
       "    </tr>\n",
       "    <tr>\n",
       "      <th rowspan=\"3\" valign=\"top\">Total Incidents</th>\n",
       "      <th>max</th>\n",
       "      <td>453.000000</td>\n",
       "      <td>820.000000</td>\n",
       "      <td>509.000000</td>\n",
       "      <td>647.000000</td>\n",
       "      <td>954.000000</td>\n",
       "      <td>1102.000000</td>\n",
       "      <td>678.000000</td>\n",
       "      <td>772.000000</td>\n",
       "      <td>1030.000000</td>\n",
       "    </tr>\n",
       "    <tr>\n",
       "      <th>min</th>\n",
       "      <td>0.000000</td>\n",
       "      <td>0.000000</td>\n",
       "      <td>0.000000</td>\n",
       "      <td>0.000000</td>\n",
       "      <td>0.000000</td>\n",
       "      <td>0.000000</td>\n",
       "      <td>0.000000</td>\n",
       "      <td>0.000000</td>\n",
       "      <td>0.000000</td>\n",
       "    </tr>\n",
       "    <tr>\n",
       "      <th>mean</th>\n",
       "      <td>36.404680</td>\n",
       "      <td>39.823765</td>\n",
       "      <td>41.679612</td>\n",
       "      <td>40.210973</td>\n",
       "      <td>40.710965</td>\n",
       "      <td>41.365623</td>\n",
       "      <td>31.895677</td>\n",
       "      <td>33.875558</td>\n",
       "      <td>31.827147</td>\n",
       "    </tr>\n",
       "    <tr>\n",
       "      <th rowspan=\"3\" valign=\"top\">Incidents w/ Weapons</th>\n",
       "      <th>max</th>\n",
       "      <td>14.000000</td>\n",
       "      <td>14.000000</td>\n",
       "      <td>31.000000</td>\n",
       "      <td>20.000000</td>\n",
       "      <td>26.000000</td>\n",
       "      <td>21.000000</td>\n",
       "      <td>25.000000</td>\n",
       "      <td>41.000000</td>\n",
       "      <td>39.000000</td>\n",
       "    </tr>\n",
       "    <tr>\n",
       "      <th>min</th>\n",
       "      <td>0.000000</td>\n",
       "      <td>0.000000</td>\n",
       "      <td>0.000000</td>\n",
       "      <td>0.000000</td>\n",
       "      <td>0.000000</td>\n",
       "      <td>0.000000</td>\n",
       "      <td>0.000000</td>\n",
       "      <td>0.000000</td>\n",
       "      <td>0.000000</td>\n",
       "    </tr>\n",
       "    <tr>\n",
       "      <th>mean</th>\n",
       "      <td>1.107364</td>\n",
       "      <td>1.038718</td>\n",
       "      <td>1.313269</td>\n",
       "      <td>1.435663</td>\n",
       "      <td>1.601907</td>\n",
       "      <td>1.703485</td>\n",
       "      <td>1.555620</td>\n",
       "      <td>1.568080</td>\n",
       "      <td>1.924100</td>\n",
       "    </tr>\n",
       "    <tr>\n",
       "      <th rowspan=\"3\" valign=\"top\">Incidents w/o Weapons</th>\n",
       "      <th>max</th>\n",
       "      <td>304.000000</td>\n",
       "      <td>183.000000</td>\n",
       "      <td>239.000000</td>\n",
       "      <td>323.000000</td>\n",
       "      <td>228.000000</td>\n",
       "      <td>284.000000</td>\n",
       "      <td>228.000000</td>\n",
       "      <td>310.000000</td>\n",
       "      <td>214.000000</td>\n",
       "    </tr>\n",
       "    <tr>\n",
       "      <th>min</th>\n",
       "      <td>0.000000</td>\n",
       "      <td>0.000000</td>\n",
       "      <td>0.000000</td>\n",
       "      <td>0.000000</td>\n",
       "      <td>0.000000</td>\n",
       "      <td>0.000000</td>\n",
       "      <td>0.000000</td>\n",
       "      <td>0.000000</td>\n",
       "      <td>0.000000</td>\n",
       "    </tr>\n",
       "    <tr>\n",
       "      <th>mean</th>\n",
       "      <td>21.959394</td>\n",
       "      <td>22.634846</td>\n",
       "      <td>24.784466</td>\n",
       "      <td>23.944481</td>\n",
       "      <td>23.377235</td>\n",
       "      <td>23.751329</td>\n",
       "      <td>19.982133</td>\n",
       "      <td>20.155134</td>\n",
       "      <td>18.518006</td>\n",
       "    </tr>\n",
       "  </tbody>\n",
       "</table>\n",
       "</div>"
      ],
      "text/plain": [
       "School Year                          2006         2007         2008  \\\n",
       "Total Felonies w/in 1mi max   9316.000000  9467.000000  8704.000000   \n",
       "                        min      0.000000     0.000000     0.000000   \n",
       "                        mean  2273.553707  2201.573818  2058.074329   \n",
       "Grand Larceny w/in 1mi  max   6714.000000  6656.000000  6165.000000   \n",
       "                        min      0.000000     0.000000     0.000000   \n",
       "                        mean   795.071104   784.447273   722.565038   \n",
       "Robbery w/in 1mi        max   1253.000000  1176.000000  1063.000000   \n",
       "                        min      0.000000     0.000000     0.000000   \n",
       "                        mean   464.934947   463.885091   423.529250   \n",
       "Burglary w/in 1mi       max   1247.000000  1190.000000  1125.000000   \n",
       "                        min      0.000000     0.000000     0.000000   \n",
       "                        mean   388.383510   357.506909   346.379904   \n",
       "Assault w/in 1mi        max    979.000000   880.000000   891.000000   \n",
       "                        min      0.000000     0.000000     0.000000   \n",
       "                        mean   365.024962   354.800727   349.028217   \n",
       "Auto Theft w/in 1mi     max    459.000000   443.000000   379.000000   \n",
       "                        min      0.000000     0.000000     0.000000   \n",
       "                        mean   225.310893   202.874182   183.066070   \n",
       "Rape w/in 1mi           max    106.000000   116.000000    88.000000   \n",
       "                        min      0.000000     0.000000     0.000000   \n",
       "                        mean    28.035552    26.848727    23.737784   \n",
       "Murders w/in 1mi        max     32.000000    47.000000    37.000000   \n",
       "                        min      0.000000     0.000000     0.000000   \n",
       "                        mean     6.792738    11.210909     9.768066   \n",
       "Total Incidents         max    453.000000   820.000000   509.000000   \n",
       "                        min      0.000000     0.000000     0.000000   \n",
       "                        mean    36.404680    39.823765    41.679612   \n",
       "Incidents w/ Weapons    max     14.000000    14.000000    31.000000   \n",
       "                        min      0.000000     0.000000     0.000000   \n",
       "                        mean     1.107364     1.038718     1.313269   \n",
       "Incidents w/o Weapons   max    304.000000   183.000000   239.000000   \n",
       "                        min      0.000000     0.000000     0.000000   \n",
       "                        mean    21.959394    22.634846    24.784466   \n",
       "\n",
       "School Year                          2009         2010         2011  \\\n",
       "Total Felonies w/in 1mi max   8100.000000  7373.000000  7346.000000   \n",
       "                        min      0.000000     0.000000     0.000000   \n",
       "                        mean  1974.585467  2003.919799  2099.470948   \n",
       "Grand Larceny w/in 1mi  max   5832.000000  5292.000000  5320.000000   \n",
       "                        min      0.000000     0.000000     0.000000   \n",
       "                        mean   687.191003   695.874687   755.971865   \n",
       "Robbery w/in 1mi        max    989.000000   978.000000  1015.000000   \n",
       "                        min      0.000000     0.000000     0.000000   \n",
       "                        mean   384.561938   414.836466   431.211621   \n",
       "Burglary w/in 1mi       max   1123.000000   855.000000   878.000000   \n",
       "                        min      0.000000     0.000000     0.000000   \n",
       "                        mean   340.048443   324.510652   334.990214   \n",
       "Assault w/in 1mi        max    945.000000  1002.000000  1063.000000   \n",
       "                        min      0.000000     0.000000     0.000000   \n",
       "                        mean   359.262976   381.343358   400.540061   \n",
       "Auto Theft w/in 1mi     max    349.000000   318.000000   301.000000   \n",
       "                        min      0.000000     0.000000     0.000000   \n",
       "                        mean   165.504498   148.776316   138.351682   \n",
       "Rape w/in 1mi           max    109.000000   117.000000   112.000000   \n",
       "                        min      0.000000     0.000000     0.000000   \n",
       "                        mean    27.178547    29.694236    27.818349   \n",
       "Murders w/in 1mi        max     48.000000    35.000000    44.000000   \n",
       "                        min      0.000000     0.000000     0.000000   \n",
       "                        mean    10.838062     8.884085    10.587156   \n",
       "Total Incidents         max    647.000000   954.000000  1102.000000   \n",
       "                        min      0.000000     0.000000     0.000000   \n",
       "                        mean    40.210973    40.710965    41.365623   \n",
       "Incidents w/ Weapons    max     20.000000    26.000000    21.000000   \n",
       "                        min      0.000000     0.000000     0.000000   \n",
       "                        mean     1.435663     1.601907     1.703485   \n",
       "Incidents w/o Weapons   max    323.000000   228.000000   284.000000   \n",
       "                        min      0.000000     0.000000     0.000000   \n",
       "                        mean    23.944481    23.377235    23.751329   \n",
       "\n",
       "School Year                          2012         2013         2014  \n",
       "Total Felonies w/in 1mi max   7541.000000  7353.000000  7218.000000  \n",
       "                        min      0.000000     0.000000     0.000000  \n",
       "                        mean  2106.962153  2126.354072  2015.309141  \n",
       "Grand Larceny w/in 1mi  max   5587.000000  5424.000000  5231.000000  \n",
       "                        min      0.000000     0.000000     0.000000  \n",
       "                        mean   810.814311   839.363688   796.535180  \n",
       "Robbery w/in 1mi        max    936.000000   916.000000   887.000000  \n",
       "                        min      0.000000     0.000000     0.000000  \n",
       "                        mean   406.240095   386.168552   354.915789  \n",
       "Burglary w/in 1mi       max    765.000000   830.000000   858.000000  \n",
       "                        min      0.000000     0.000000     0.000000  \n",
       "                        mean   311.975754   303.119344   284.941828  \n",
       "Assault w/in 1mi        max   1077.000000  1231.000000  1156.000000  \n",
       "                        min      0.000000     0.000000     0.000000  \n",
       "                        mean   421.591957   440.036765   422.502493  \n",
       "Auto Theft w/in 1mi     max    251.000000   318.000000   276.000000  \n",
       "                        min      0.000000     0.000000     0.000000  \n",
       "                        mean   120.032525   124.061086   121.672576  \n",
       "Rape w/in 1mi           max     96.000000    96.000000    95.000000  \n",
       "                        min      0.000000     0.000000     0.000000  \n",
       "                        mean    28.846836    26.656674    27.069252  \n",
       "Murders w/in 1mi        max     24.000000    30.000000    30.000000  \n",
       "                        min      0.000000     0.000000     0.000000  \n",
       "                        mean     7.460674     6.947964     7.672022  \n",
       "Total Incidents         max    678.000000   772.000000  1030.000000  \n",
       "                        min      0.000000     0.000000     0.000000  \n",
       "                        mean    31.895677    33.875558    31.827147  \n",
       "Incidents w/ Weapons    max     25.000000    41.000000    39.000000  \n",
       "                        min      0.000000     0.000000     0.000000  \n",
       "                        mean     1.555620     1.568080     1.924100  \n",
       "Incidents w/o Weapons   max    228.000000   310.000000   214.000000  \n",
       "                        min      0.000000     0.000000     0.000000  \n",
       "                        mean    19.982133    20.155134    18.518006  "
      ]
     },
     "execution_count": 54,
     "metadata": {},
     "output_type": "execute_result"
    }
   ],
   "source": [
    "school_df.groupby('School Year')[CRIME_COLS + INCIDENT_COLS].agg([max, min, np.mean]).T"
   ]
  },
  {
   "cell_type": "code",
   "execution_count": 66,
   "metadata": {
    "collapsed": false
   },
   "outputs": [
    {
     "data": {
      "text/plain": [
       "count    14730.000000\n",
       "mean        37.362322\n",
       "std         55.874521\n",
       "min          0.000000\n",
       "25%          7.000000\n",
       "50%         19.000000\n",
       "75%         46.000000\n",
       "max       1102.000000\n",
       "Name: Total Incidents, dtype: float64"
      ]
     },
     "execution_count": 66,
     "metadata": {},
     "output_type": "execute_result"
    }
   ],
   "source": [
    "school_df['Total Incidents'].describe()"
   ]
  },
  {
   "cell_type": "code",
   "execution_count": 71,
   "metadata": {
    "collapsed": false
   },
   "outputs": [
    {
     "name": "stdout",
     "output_type": "stream",
     "text": [
      "School Name  :  8102    Achievement First Crown Heights Charter School\n",
      "Name: School Name, dtype: object\n",
      "School Type  :  8102    Charter\n",
      "Name: School Type, dtype: object\n",
      "School Year  :  8102    2011\n",
      "Name: School Year, dtype: object\n",
      "BEDS Code  :  8102    331700860879\n",
      "Name: BEDS Code, dtype: object\n",
      "County  :  8102    Brooklyn\n",
      "Name: County, dtype: object\n",
      "District  :  8102    NaN\n",
      "Name: District, dtype: object\n",
      "Enrollment  :  8102    802\n",
      "Name: Enrollment, dtype: object\n",
      "Grade Organization  :  8102    Junior Senior School\n",
      "Name: Grade Organization, dtype: object\n",
      "Need/Resource Category  :  8102    Charter School\n",
      "Name: Need/Resource Category, dtype: object\n",
      "Alcohol Possession  :  8102    0\n",
      "Name: Alcohol Possession, dtype: object\n",
      "Arson  :  8102    0\n",
      "Name: Arson, dtype: object\n",
      "Assault With Serious Physical Injury_nw  :  8102    0\n",
      "Name: Assault With Serious Physical Injury_nw, dtype: object\n",
      "Assault With Serious Physical Injury_ww  :  8102    0\n",
      "Name: Assault With Serious Physical Injury_ww, dtype: object\n",
      "Assault with Physical Injury_nw  :  8102    0\n",
      "Name: Assault with Physical Injury_nw, dtype: object\n",
      "Assault with Physical Injury_ww  :  8102    0\n",
      "Name: Assault with Physical Injury_ww, dtype: object\n",
      "Bomb Threat  :  8102    0\n",
      "Name: Bomb Threat, dtype: object\n",
      "Bomb Threat False Alarm  :  8102    0\n",
      "Name: Bomb Threat False Alarm, dtype: object\n",
      "Burglary_nw  :  8102    0\n",
      "Name: Burglary_nw, dtype: object\n",
      "Burglary_ww  :  8102    0\n",
      "Name: Burglary_ww, dtype: object\n",
      "Criminal Mischief_nw  :  8102    0\n",
      "Name: Criminal Mischief_nw, dtype: object\n",
      "Criminal Mischief_ww  :  8102    0\n",
      "Name: Criminal Mischief_ww, dtype: object\n",
      "Drug Possession  :  8102    0\n",
      "Name: Drug Possession, dtype: object\n",
      "Forcible Sex Offenses_nw  :  8102    0\n",
      "Name: Forcible Sex Offenses_nw, dtype: object\n",
      "Forcible Sex Offenses_ww  :  8102    0\n",
      "Name: Forcible Sex Offenses_ww, dtype: object\n",
      "Homicide_nw  :  8102    0\n",
      "Name: Homicide_nw, dtype: object\n",
      "Homicide_ww  :  8102    0\n",
      "Name: Homicide_ww, dtype: object\n",
      "Intimidation, Harassment, Menacing, or Bullying_nw  :  8102    43\n",
      "Name: Intimidation, Harassment, Menacing, or Bullying_nw, dtype: object\n",
      "Intimidation, Harassment, Menacing, or Bullying_ww  :  8102    0\n",
      "Name: Intimidation, Harassment, Menacing, or Bullying_ww, dtype: object\n",
      "Kidnapping_nw  :  8102    0\n",
      "Name: Kidnapping_nw, dtype: object\n",
      "Kidnapping_ww  :  8102    0\n",
      "Name: Kidnapping_ww, dtype: object\n",
      "Larceny, or Other Theft_nw  :  8102    16\n",
      "Name: Larceny, or Other Theft_nw, dtype: object\n",
      "Larceny, or Other Theft_ww  :  8102    0\n",
      "Name: Larceny, or Other Theft_ww, dtype: object\n",
      "Minor Altercations_nw  :  8102    77\n",
      "Name: Minor Altercations_nw, dtype: object\n",
      "Minor Altercations_ww  :  8102    0\n",
      "Name: Minor Altercations_ww, dtype: object\n",
      "Other Disruptive Incidents  :  8102    963\n",
      "Name: Other Disruptive Incidents, dtype: object\n",
      "Other Sex Offenses_nw  :  8102    3\n",
      "Name: Other Sex Offenses_nw, dtype: object\n",
      "Other Sex Offenses_ww  :  8102    0\n",
      "Name: Other Sex Offenses_ww, dtype: object\n",
      "Reckless Endangerment_nw  :  8102    0\n",
      "Name: Reckless Endangerment_nw, dtype: object\n",
      "Reckless Endangerment_ww  :  8102    0\n",
      "Name: Reckless Endangerment_ww, dtype: object\n",
      "Riot_nw  :  8102    0\n",
      "Name: Riot_nw, dtype: object\n",
      "Riot_ww  :  8102    0\n",
      "Name: Riot_ww, dtype: object\n",
      "Robbery_nw  :  8102    0\n",
      "Name: Robbery_nw, dtype: object\n",
      "Robbery_ww  :  8102    0\n",
      "Name: Robbery_ww, dtype: object\n",
      "Weapon Possession_oc  :  8102    0\n",
      "Name: Weapon Possession_oc, dtype: object\n",
      "Weapon Possession_ts  :  8102    0\n",
      "Name: Weapon Possession_ts, dtype: object\n",
      "Total Incidents  :  8102    1102\n",
      "Name: Total Incidents, dtype: object\n",
      "Incidents w/ Weapons  :  8102    0\n",
      "Name: Incidents w/ Weapons, dtype: object\n",
      "Incidents w/o Weapons  :  8102    139\n",
      "Name: Incidents w/o Weapons, dtype: object\n",
      "Full_Address  :  8102    790 E NEW YORK AVE, BROOKLYN, NY, 11203\n",
      "Name: Full_Address, dtype: object\n",
      "latlon  :  8102    [40.66208659999999, -73.9364584]\n",
      "Name: latlon, dtype: object\n",
      "lat  :  8102    40.6621\n",
      "Name: lat, dtype: object\n",
      "long  :  8102   -73.9365\n",
      "Name: long, dtype: object\n",
      "CrimeIDS  :  8102    ['1d7314f5', 'b902cf09', 'd883f9f4', 'da0349ae...\n",
      "Name: CrimeIDS, dtype: object\n",
      "Total Felonies w/in 1mi  :  8102    2968\n",
      "Name: Total Felonies w/in 1mi, dtype: object\n",
      "Grand Larceny w/in 1mi  :  8102    791\n",
      "Name: Grand Larceny w/in 1mi, dtype: object\n",
      "Robbery w/in 1mi  :  8102    625\n",
      "Name: Robbery w/in 1mi, dtype: object\n",
      "Burglary w/in 1mi  :  8102    507\n",
      "Name: Burglary w/in 1mi, dtype: object\n",
      "Assault w/in 1mi  :  8102    733\n",
      "Name: Assault w/in 1mi, dtype: object\n",
      "Auto Theft w/in 1mi  :  8102    252\n",
      "Name: Auto Theft w/in 1mi, dtype: object\n",
      "Rape w/in 1mi  :  8102    34\n",
      "Name: Rape w/in 1mi, dtype: object\n",
      "Murders w/in 1mi  :  8102    26\n",
      "Name: Murders w/in 1mi, dtype: object\n",
      "crime_in_thous  :  8102    2.177\n",
      "Name: crime_in_thous, dtype: object\n",
      "per_student_inc  :  8102    1.37406\n",
      "Name: per_student_inc, dtype: object\n",
      "Felonies (thousands)  :  8102    2.177\n",
      "Name: Felonies (thousands), dtype: object\n",
      "Incidents per student  :  8102    1.37406\n",
      "Name: Incidents per student, dtype: object\n"
     ]
    }
   ],
   "source": [
    "# Something fishy here\n",
    "for col in school_df.columns:\n",
    "    print(col, ' : ', school_df[school_df['Total Incidents'] == 1102].T.loc[col] )"
   ]
  },
  {
   "cell_type": "code",
   "execution_count": 63,
   "metadata": {
    "collapsed": false
   },
   "outputs": [
    {
     "data": {
      "text/plain": [
       "<matplotlib.axes._subplots.AxesSubplot at 0x10945fd68>"
      ]
     },
     "execution_count": 63,
     "metadata": {},
     "output_type": "execute_result"
    },
    {
     "data": {
      "image/png": "[encoded data removed]",
      "text/plain": [
       "<matplotlib.figure.Figure at 0x1095049e8>"
      ]
     },
     "metadata": {},
     "output_type": "display_data"
    }
   ],
   "source": [
    "# Excluding grand larceny and norming by school population\n",
    "#'Thousands of Crimes (excluding Grand Larceny)'\n",
    "school_df['Felonies (thousands)'] = school_df[NON_LARCENY_COLS].apply(sum, axis=1) / 1000\n",
    "\n",
    "# School indidents per pupil\n",
    "school_df['Incidents per student'] = school_df['Total Incidents'] / school_df['Enrollment']\n",
    "\n",
    "# plot\n",
    "school_df.plot(x='per_student_inc', y='crime_in_thous', kind='scatter')"
   ]
  },
  {
   "cell_type": "code",
   "execution_count": 64,
   "metadata": {
    "collapsed": false
   },
   "outputs": [
    {
     "data": {
      "text/plain": [
       "<matplotlib.axes._subplots.AxesSubplot at 0x10d24bba8>"
      ]
     },
     "execution_count": 64,
     "metadata": {},
     "output_type": "execute_result"
    },
    {
     "data": {
      "image/png": "[encoded data removed]",
      "text/plain": [
       "<matplotlib.figure.Figure at 0x108ff2828>"
      ]
     },
     "metadata": {},
     "output_type": "display_data"
    }
   ],
   "source": [
    "# our weapons tally is still off... need to recompute it and hopefully run the fix on this df directly.\n",
    "school_df.groupby('School Year')['Incidents w/ Weapons','Felonies (thousands)'].mean().plot(kind='bar', legend=True)"
   ]
  },
  {
   "cell_type": "code",
   "execution_count": 38,
   "metadata": {
    "collapsed": false
   },
   "outputs": [
    {
     "data": {
      "text/plain": [
       "<matplotlib.axes._subplots.AxesSubplot at 0x114da70f0>"
      ]
     },
     "execution_count": 38,
     "metadata": {},
     "output_type": "execute_result"
    },
    {
     "data": {
      "image/png": "[encoded data removed]",
      "text/plain": [
       "<matplotlib.figure.Figure at 0x119aa9cc0>"
      ]
     },
     "metadata": {},
     "output_type": "display_data"
    }
   ],
   "source": [
    "school_df.plot(x='Total Incidents', y='Total Felonies w/in 1mi', kind='scatter')"
   ]
  },
  {
   "cell_type": "code",
   "execution_count": 59,
   "metadata": {
    "collapsed": false
   },
   "outputs": [
    {
     "data": {
      "text/plain": [
       "<matplotlib.axes._subplots.AxesSubplot at 0x108c72f98>"
      ]
     },
     "execution_count": 59,
     "metadata": {},
     "output_type": "execute_result"
    },
    {
     "data": {
      "image/png": "[encoded data removed]",
      "text/plain": [
       "<matplotlib.figure.Figure at 0x108c4c8d0>"
      ]
     },
     "metadata": {},
     "output_type": "display_data"
    }
   ],
   "source": [
    "# THIS PLOT doesn't mean anything significant but looks really cool\n",
    "school_df.plot(x='Robbery w/in 1mi', y='Total Felonies w/in 1mi',  kind='scatter')"
   ]
  },
  {
   "cell_type": "code",
   "execution_count": null,
   "metadata": {
    "collapsed": true
   },
   "outputs": [],
   "source": []
  }
 ],
 "metadata": {
  "kernelspec": {
   "display_name": "Python 3",
   "language": "python",
   "name": "python3"
  },
  "language_info": {
   "codemirror_mode": {
    "name": "ipython",
    "version": 3
   },
   "file_extension": ".py",
   "mimetype": "text/x-python",
   "name": "python",
   "nbconvert_exporter": "python",
   "pygments_lexer": "ipython3",
   "version": "3.5.1"
  }
 },
 "nbformat": 4,
 "nbformat_minor": 0
}
