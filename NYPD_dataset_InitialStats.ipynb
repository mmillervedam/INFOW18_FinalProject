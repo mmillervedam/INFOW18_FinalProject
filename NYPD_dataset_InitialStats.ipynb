{
 "cells": [
  {
   "cell_type": "markdown",
   "metadata": {},
   "source": [
    "# NYC Felony Dataset Initial Stats and Plots\n",
    "\n",
    "Source: https://catalog.data.gov/dataset/nypd-7-major-felony-incidents\n",
    "\n",
    "---\n",
    "### Initial Set Up"
   ]
  },
  {
   "cell_type": "code",
   "execution_count": 14,
   "metadata": {
    "collapsed": true
   },
   "outputs": [],
   "source": [
    "# Initial Imports\n",
    "import numpy as np\n",
    "import pandas as pd\n",
    "from pandas import DataFrame, Series\n",
    "from matplotlib import pyplot as plt\n",
    "% matplotlib inline"
   ]
  },
  {
   "cell_type": "code",
   "execution_count": 3,
   "metadata": {
    "collapsed": true
   },
   "outputs": [],
   "source": [
    "# loading felony data set\n",
    "felony_df = pd.read_csv(\"NYPD_7_Major_Felony_Incidents.csv\", parse_dates = 'Occurrence Date')"
   ]
  },
  {
   "cell_type": "code",
   "execution_count": null,
   "metadata": {
    "collapsed": true
   },
   "outputs": [],
   "source": [
    "# reset index\n",
    "felony_df.set_index('OBJECTID', inplace = True)"
   ]
  },
  {
   "cell_type": "markdown",
   "metadata": {},
   "source": [
    "### Basic Dataset Info\n",
    "__number of observations:__ 1123465  \n",
    "__number of variables:__ 20  \n",
    "__date range:__  1905-2015"
   ]
  },
  {
   "cell_type": "code",
   "execution_count": 12,
   "metadata": {
    "collapsed": false
   },
   "outputs": [
    {
     "name": "stdout",
     "output_type": "stream",
     "text": [
      "1123465\n"
     ]
    }
   ],
   "source": [
    "# num observations\n",
    "print(len(felony_df))"
   ]
  },
  {
   "cell_type": "code",
   "execution_count": 17,
   "metadata": {
    "collapsed": false
   },
   "outputs": [
    {
     "name": "stdout",
     "output_type": "stream",
     "text": [
      "1905.0\n",
      "2015.0\n"
     ]
    }
   ],
   "source": [
    "# print out date range\n",
    "print(felony_df['Occurrence Year'].min())\n",
    "print(felony_df['Occurrence Year'].max())"
   ]
  },
  {
   "cell_type": "code",
   "execution_count": 4,
   "metadata": {
    "collapsed": false
   },
   "outputs": [
    {
     "name": "stdout",
     "output_type": "stream",
     "text": [
      "OBJECTID                 float64             \n",
      "Identifier               object              \n",
      "Occurrence Date          object              \n",
      "Day of Week              object              \n",
      "Occurrence Month         object              \n",
      "Occurrence Day           float64             \n",
      "Occurrence Year          float64             \n",
      "Occurrence Hour          float64             \n",
      "CompStat Month           float64             \n",
      "CompStat Day             float64             \n",
      "CompStat Year            float64             \n",
      "Offense                  object              \n",
      "Offense Classification   object              \n",
      "Sector                   object              \n",
      "Precinct                 float64             \n",
      "Borough                  object              \n",
      "Jurisdiction             object              \n",
      "XCoordinate              float64             \n",
      "YCoordinate              float64             \n",
      "Location 1               object              \n"
     ]
    }
   ],
   "source": [
    "# list out the column names and their data types\n",
    "for col in felony_df.columns:\n",
    "    print('{:25}{:20}'.format(col, str(felony_df[col].dtype)))"
   ]
  },
  {
   "cell_type": "markdown",
   "metadata": {
    "collapsed": false
   },
   "source": [
    "### Some Initial Plots."
   ]
  },
  {
   "cell_type": "code",
   "execution_count": 19,
   "metadata": {
    "collapsed": false
   },
   "outputs": [
    {
     "data": {
      "text/plain": [
       "<matplotlib.text.Text at 0x11702dfd0>"
      ]
     },
     "execution_count": 19,
     "metadata": {},
     "output_type": "execute_result"
    },
    {
     "data": {
      "image/png": "[encoded data removed]",
      "text/plain": [
       "<matplotlib.figure.Figure at 0x116e91208>"
      ]
     },
     "metadata": {},
     "output_type": "display_data"
    }
   ],
   "source": [
    "# plot crime incidence by borough (whole data set)\n",
    "felony_df.Borough.value_counts().plot(kind = 'bar')\n",
    "plt.title(\"Total Felonies by Borough (1905-2015)\")"
   ]
  },
  {
   "cell_type": "code",
   "execution_count": 34,
   "metadata": {
    "collapsed": false
   },
   "outputs": [
    {
     "data": {
      "text/plain": [
       "<matplotlib.text.Text at 0x10d406390>"
      ]
     },
     "execution_count": 34,
     "metadata": {},
     "output_type": "execute_result"
    },
    {
     "data": {
      "image/png": "[encoded data removed]",
      "text/plain": [
       "<matplotlib.figure.Figure at 0x1166dc198>"
      ]
     },
     "metadata": {},
     "output_type": "display_data"
    }
   ],
   "source": [
    "# plot crime incidence by year 2000-2015)\n",
    "counts = felony_df['Occurrence Year'].value_counts()\n",
    "#counts.sort_values(inplace=True)\n",
    "counts[list(range(2000,2016))].plot(kind = 'bar')\n",
    "plt.title(\"Felonies committed in NYC by Year(2000-2015)\")"
   ]
  },
  {
   "cell_type": "markdown",
   "metadata": {},
   "source": [
    "### Starting to focus on Location."
   ]
  },
  {
   "cell_type": "code",
   "execution_count": null,
   "metadata": {
    "collapsed": true
   },
   "outputs": [],
   "source": [
    "# Extract Lattitude and Longitude from the string coordinates\n",
    "get_lat = lambda x: str(x).split(',')[0].replace('(','')\n",
    "get_long = lambda x: str(x).split(',')[1].replace(')','')  \n",
    "    \n",
    "felony_df['Latitude'] = felony_df['Location 1'].map(get_lat)\n",
    "felony_df['Longitude'] = felony_df['Location 1'].head().map(get_long)\n",
    "felony_df['Latitude'].head()   \n",
    "# for some reason' I'm getting an error when I try to convert the rest of the longitudes \n",
    "# I'm going to move on for now and deal with it later (maybe just change the loc data type?)"
   ]
  }
 ],
 "metadata": {
  "kernelspec": {
   "display_name": "Python 3",
   "language": "python",
   "name": "python3"
  },
  "language_info": {
   "codemirror_mode": {
    "name": "ipython",
    "version": 3
   },
   "file_extension": ".py",
   "mimetype": "text/x-python",
   "name": "python",
   "nbconvert_exporter": "python",
   "pygments_lexer": "ipython3",
   "version": "3.5.1"
  }
 },
 "nbformat": 4,
 "nbformat_minor": 0
}
