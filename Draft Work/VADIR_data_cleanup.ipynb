{
 "cells": [
  {
   "cell_type": "markdown",
   "metadata": {},
   "source": [
    "# Reading in and cleaning up VADIR  Data (then save to csv file)\n",
    "\n",
    "Source:  http://www.p12.nysed.gov/irs/school_safety/school_safety_data_reporting.html\n",
    "\n",
    "#### Still TO DO:\n",
    "* clean up uppercase/lowercase issues (school name and county)\n",
    "* fix column name duplicates and typos (alcohol and drug possession, sex offenses)\n",
    "* check that schools are consistently assigned the same district name\n",
    "* figure out a way to handle the data that doesn't have county info (search for school's subsequent year data?)\n",
    "* get lattitude and longitude (and addresses???)\n",
    "* re order columns in some meaningful way\n",
    "* start computing tallies of incidents with and without weapons\n",
    "* check datatypes for columns to make sure they make sense.\n",
    "\n",
    "---\n",
    "### Initial Set Up\n",
    "To start we'll use the 2014-15 VARDIS data to get a list of column names and then use it to automate the \"cleaning up\" of the rest of the VARDIS files."
   ]
  },
  {
   "cell_type": "code",
   "execution_count": 1,
   "metadata": {
    "collapsed": true
   },
   "outputs": [],
   "source": [
    "# Initial Imports\n",
    "import numpy as np\n",
    "import pandas as pd\n",
    "from pandas import DataFrame, Series\n",
    "from matplotlib import pyplot as plt\n",
    "% matplotlib inline"
   ]
  },
  {
   "cell_type": "code",
   "execution_count": 3,
   "metadata": {
    "collapsed": false
   },
   "outputs": [],
   "source": [
    "# loading 2014-15 VADIR file\n",
    "v2014_df = pd.read_excel(\"VADIR_2014.xls\")\n",
    "#v2014_df.head()"
   ]
  },
  {
   "cell_type": "code",
   "execution_count": 4,
   "metadata": {
    "collapsed": false
   },
   "outputs": [],
   "source": [
    "# Store row 1 to check that the other data sets have the same column names.\n",
    "row1 = list(v2014_df.iloc[1])"
   ]
  },
  {
   "cell_type": "code",
   "execution_count": 5,
   "metadata": {
    "collapsed": false
   },
   "outputs": [
    {
     "data": {
      "text/plain": [
       "['County',\n",
       " 'District',\n",
       " 'School Name',\n",
       " 'BEDS Code',\n",
       " 'Grade Organization',\n",
       " 'Need/Resource Category',\n",
       " 'School Type',\n",
       " 'Enrollment',\n",
       " 'Homicide_ww',\n",
       " 'Homicide_nw',\n",
       " 'Forcible Sex Offenses_ww',\n",
       " 'Forcible Sex Offenses_nw',\n",
       " 'Other Sex Offenses_ww',\n",
       " 'Other Sex Offenses_nw',\n",
       " 'Robbery_ww',\n",
       " 'Robbery_nw',\n",
       " 'Assault With Serious Physical Injury_ww',\n",
       " 'Assault With Serious Physical Injury_nw',\n",
       " 'Arson',\n",
       " 'Kidnapping_ww',\n",
       " 'Kidnapping_nw',\n",
       " 'Assault with Physical Injury_ww',\n",
       " 'Assault with Physical Injury_nw',\n",
       " 'Reckless Endangerment_ww',\n",
       " 'Reckless Endangerment_nw',\n",
       " 'Minor Altercations_ww',\n",
       " 'Minor Altercations_nw',\n",
       " 'Intimidation, Harassment, Menacing, or Bullying_ww',\n",
       " 'Intimidation, Harassment, Menacing, or Bullying_nw',\n",
       " 'Burglary_ww',\n",
       " 'Burglary_nw',\n",
       " 'Criminal Mischief_ww',\n",
       " 'Criminal Mischief_nw',\n",
       " 'Larceny, or Other Theft_ww',\n",
       " 'Larceny, or Other Theft_nw',\n",
       " 'Bomb Threat',\n",
       " 'False Alarm',\n",
       " 'Riot_ww',\n",
       " 'Riot_nw',\n",
       " 'Weapon Possession_ww',\n",
       " 'Weapon Possession_nw',\n",
       " 'Drug Possession',\n",
       " 'Alcohol Possession',\n",
       " 'Other Disruptive']"
      ]
     },
     "execution_count": 5,
     "metadata": {},
     "output_type": "execute_result"
    }
   ],
   "source": [
    "# Now use row 1 to generate a list of corrected column names.\n",
    "def clean_vars(df, row_num):\n",
    "    \"\"\" \n",
    "    Helper function to clean up column names for VARDIS files.\n",
    "    INPUT: dataframe, index of the row that contains the names\n",
    "    OUTPUT: list of column names\n",
    "    \"\"\"\n",
    "    names = list(df.iloc[row_num])\n",
    "    for idx in range(len(names)):\n",
    "        if str(names[idx]) == 'nan':\n",
    "            names[idx] = names[idx - 1] + '_nw' # 'no weapon'\n",
    "            names[idx - 1] += '_ww' # 'with weapon'\n",
    "    return names\n",
    "\n",
    "# take a look:\n",
    "COLNAMES = clean_vars(v2014_df, 1)\n",
    "COLNAMES"
   ]
  },
  {
   "cell_type": "code",
   "execution_count": 6,
   "metadata": {
    "collapsed": false
   },
   "outputs": [],
   "source": [
    "# reset column names, delete extra rows, add column for reporting year\n",
    "v2014_df.columns = COLNAMES\n",
    "v2014_df = v2014_df[3:]\n",
    "v2014_df['School Year'] = ['2014'] * len(v2014_df)\n",
    "\n",
    "# take a look\n",
    "#v2014_df.head()"
   ]
  },
  {
   "cell_type": "markdown",
   "metadata": {},
   "source": [
    "### Builing the VARDIS Dataframe  \n",
    "Now that we have a clear sense of the column names and format of the data we'll build the actual dataset by reading in the rest of the files."
   ]
  },
  {
   "cell_type": "code",
   "execution_count": 48,
   "metadata": {
    "collapsed": false
   },
   "outputs": [
    {
     "name": "stdout",
     "output_type": "stream",
     "text": [
      "Data from 2014-15 loaded. Total of 1805 rows.\n",
      "... data from VADIR_2013.xls appended. Added 1792 rows for a total of 3597.\n",
      "... data from VADIR_2012.xls appended. Added 1735 rows for a total of 5332.\n",
      "... data from VADIR_2011.xls appended. Added 1693 rows for a total of 7025.\n",
      "... data from VADIR_2010.xls appended. Added 1678 rows for a total of 8703.\n"
     ]
    }
   ],
   "source": [
    "# start from the 2014-15 data\n",
    "vadir_df = df = pd.read_excel('VADIR_2014.xls', names = COLNAMES, skiprows = 3)\n",
    "vadir_df['School Year'] = ['2014'] * len(vadir_df)\n",
    "print( 'Data from 2014-15 loaded. Total of {} rows.'.format(len(vadir_df)))\n",
    "\n",
    "# import files for 2010-13 (they have same format as 2014 so this is quick)\n",
    "files = ['VADIR_2013.xls', 'VADIR_2012.xls', 'VADIR_2011.xls', 'VADIR_2010.xls']\n",
    "for f in files:\n",
    "    df = pd.read_excel(f, names = COLNAMES, skiprows = 3)\n",
    "    df['School Year'] = [f[-8:-4]] * len(df)\n",
    "    vadir_df = pd.concat([vadir_df, df], ignore_index = True)\n",
    "    print( '... data from {} appended. Added {} rows for a total of {}.'.format(f, len(df), len(vadir_df)))"
   ]
  },
  {
   "cell_type": "code",
   "execution_count": 49,
   "metadata": {
    "collapsed": false
   },
   "outputs": [
    {
     "name": "stdout",
     "output_type": "stream",
     "text": [
      "... data from 2009-10 appended. Added 1531 rows for a total of 10234.\n"
     ]
    }
   ],
   "source": [
    "# The remaining files have different column names so we'll do them by hand.\n",
    "# ... starting with 2009\n",
    "vadir_2009 = pd.read_excel('VADIR_2009.xls')\n",
    "vadir_2009.columns = clean_vars(vadir_2009, 1)[:3] + ['District'] + clean_vars(vadir_2009, 1)[4:]\n",
    "vadir_2009 = vadir_2009[3:]\n",
    "#vadir_2009.head()\n",
    "vadir_2009['School Year'] = [2009] * len(vadir_2009)\n",
    "vadir_df = pd.concat([vadir_df, vadir_2009], ignore_index = True)\n",
    "print( '... data from 2009-10 appended. Added {} rows for a total of {}.'.format(len(vadir_2009), len(vadir_df)))"
   ]
  },
  {
   "cell_type": "code",
   "execution_count": 50,
   "metadata": {
    "collapsed": false
   },
   "outputs": [
    {
     "name": "stdout",
     "output_type": "stream",
     "text": [
      "... data from 2008-9 appended. Added 1545 rows for a total of 11779.\n"
     ]
    }
   ],
   "source": [
    "# ... next 2008\n",
    "vadir_2008 = pd.read_excel('VADIR_2008.xls')\n",
    "vadir_2008.columns = clean_vars(vadir_2008, 1)[:2] + ['District'] + clean_vars(vadir_2008, 1)[3:]\n",
    "vadir_2008 = vadir_2008[3:]\n",
    "#vadir_2008.head()\n",
    "vadir_2008['School Year'] = [2008] * len(vadir_2008)\n",
    "vadir_df = pd.concat([vadir_df, vadir_2008], ignore_index = True)\n",
    "print( '... data from 2008-9 appended. Added {} rows for a total of {}.'.format(len(vadir_2008), len(vadir_df)))"
   ]
  },
  {
   "cell_type": "code",
   "execution_count": 51,
   "metadata": {
    "collapsed": false
   },
   "outputs": [
    {
     "name": "stdout",
     "output_type": "stream",
     "text": [
      "... data from 2007-8 appended. Added 1500 rows for a total of 13279.\n"
     ]
    }
   ],
   "source": [
    "# ... next 2007\n",
    "vadir_2007 = pd.read_excel('VADIR_2007.xls')\n",
    "vadir_2007.columns = ['County', 'BEDS Code', 'District'] + clean_vars(vadir_2007, 0)[3:]\n",
    "vadir_2007 = vadir_2007[2:]\n",
    "#vadir_2007.head()\n",
    "vadir_2007['School Year'] = [2007] * len(vadir_2007)\n",
    "vadir_df = pd.concat([vadir_df, vadir_2007], ignore_index = True)\n",
    "print( '... data from 2007-8 appended. Added {} rows for a total of {}.'.format(len(vadir_2007), len(vadir_df)))"
   ]
  },
  {
   "cell_type": "code",
   "execution_count": 52,
   "metadata": {
    "collapsed": false
   },
   "outputs": [
    {
     "name": "stdout",
     "output_type": "stream",
     "text": [
      "... data from 2006-7 appended. Added 1455 rows for a total of 14734.\n"
     ]
    }
   ],
   "source": [
    "# ... next 2006\n",
    "vadir_2006 = pd.read_excel('VADIR_2006.xls')\n",
    "vadir_2006.columns = ['County', 'District', 'School Name', 'BEDS Code'] + clean_vars(vadir_2006, 0)[4:]\n",
    "vadir_2006 = vadir_2006[2:]\n",
    "#vadir_2006.head()\n",
    "vadir_2006['School Year'] = [2006] * len(vadir_2006)\n",
    "vadir_df = pd.concat([vadir_df, vadir_2006], ignore_index = True)\n",
    "print( '... data from 2006-7 appended. Added {} rows for a total of {}.'.format(len(vadir_2006), len(vadir_df)))"
   ]
  },
  {
   "cell_type": "markdown",
   "metadata": {},
   "source": [
    "### A look at the resulting DataFrame (and then saving it to csv)"
   ]
  },
  {
   "cell_type": "code",
   "execution_count": 53,
   "metadata": {
    "collapsed": false
   },
   "outputs": [
    {
     "data": {
      "text/plain": [
       "2014    1805\n",
       "2013    1792\n",
       "2012    1735\n",
       "2011    1693\n",
       "2010    1678\n",
       "2008    1545\n",
       "2009    1531\n",
       "2007    1500\n",
       "2006    1455\n",
       "Name: School Year, dtype: int64"
      ]
     },
     "execution_count": 53,
     "metadata": {},
     "output_type": "execute_result"
    }
   ],
   "source": [
    "# Quick Check  - counts by year\n",
    "vadir_df['School Year'].value_counts()"
   ]
  },
  {
   "cell_type": "code",
   "execution_count": 54,
   "metadata": {
    "collapsed": false
   },
   "outputs": [
    {
     "data": {
      "text/html": [
       "<div>\n",
       "<table border=\"1\" class=\"dataframe\">\n",
       "  <thead>\n",
       "    <tr style=\"text-align: right;\">\n",
       "      <th></th>\n",
       "      <th>Alcohol Possesion</th>\n",
       "      <th>Alcohol Possession</th>\n",
       "      <th>Arson</th>\n",
       "      <th>Assault With Serious Physical Injury_nw</th>\n",
       "      <th>Assault With Serious Physical Injury_ww</th>\n",
       "      <th>Assault with Physical Injury_nw</th>\n",
       "      <th>Assault with Physical Injury_ww</th>\n",
       "      <th>BEDS Code</th>\n",
       "      <th>Bomb Threat</th>\n",
       "      <th>Burglary_nw</th>\n",
       "      <th>...</th>\n",
       "      <th>Riot_ww</th>\n",
       "      <th>Robbery_nw</th>\n",
       "      <th>Robbery_ww</th>\n",
       "      <th>School Name</th>\n",
       "      <th>School Type</th>\n",
       "      <th>School Year</th>\n",
       "      <th>Use Possession or Sale of Alcohol</th>\n",
       "      <th>Use Possession or Sale of Drugs</th>\n",
       "      <th>Weapon Possession_nw</th>\n",
       "      <th>Weapon Possession_ww</th>\n",
       "    </tr>\n",
       "  </thead>\n",
       "  <tbody>\n",
       "    <tr>\n",
       "      <th>0</th>\n",
       "      <td>NaN</td>\n",
       "      <td>0</td>\n",
       "      <td>0</td>\n",
       "      <td>0</td>\n",
       "      <td>0</td>\n",
       "      <td>0</td>\n",
       "      <td>0</td>\n",
       "      <td>320700860957</td>\n",
       "      <td>0</td>\n",
       "      <td>0</td>\n",
       "      <td>...</td>\n",
       "      <td>0</td>\n",
       "      <td>0</td>\n",
       "      <td>0</td>\n",
       "      <td>Academic Leadership Charter School</td>\n",
       "      <td>Charter</td>\n",
       "      <td>2014</td>\n",
       "      <td>NaN</td>\n",
       "      <td>NaN</td>\n",
       "      <td>0</td>\n",
       "      <td>0</td>\n",
       "    </tr>\n",
       "    <tr>\n",
       "      <th>1</th>\n",
       "      <td>NaN</td>\n",
       "      <td>0</td>\n",
       "      <td>0</td>\n",
       "      <td>0</td>\n",
       "      <td>0</td>\n",
       "      <td>0</td>\n",
       "      <td>0</td>\n",
       "      <td>320700861062</td>\n",
       "      <td>0</td>\n",
       "      <td>0</td>\n",
       "      <td>...</td>\n",
       "      <td>0</td>\n",
       "      <td>0</td>\n",
       "      <td>0</td>\n",
       "      <td>American Dream Charter School</td>\n",
       "      <td>Charter</td>\n",
       "      <td>2014</td>\n",
       "      <td>NaN</td>\n",
       "      <td>NaN</td>\n",
       "      <td>0</td>\n",
       "      <td>0</td>\n",
       "    </tr>\n",
       "    <tr>\n",
       "      <th>2</th>\n",
       "      <td>NaN</td>\n",
       "      <td>0</td>\n",
       "      <td>0</td>\n",
       "      <td>0</td>\n",
       "      <td>0</td>\n",
       "      <td>0</td>\n",
       "      <td>0</td>\n",
       "      <td>320700861014</td>\n",
       "      <td>0</td>\n",
       "      <td>0</td>\n",
       "      <td>...</td>\n",
       "      <td>0</td>\n",
       "      <td>0</td>\n",
       "      <td>0</td>\n",
       "      <td>Brilla College Preparatory Charter School</td>\n",
       "      <td>Charter</td>\n",
       "      <td>2014</td>\n",
       "      <td>NaN</td>\n",
       "      <td>NaN</td>\n",
       "      <td>0</td>\n",
       "      <td>0</td>\n",
       "    </tr>\n",
       "    <tr>\n",
       "      <th>3</th>\n",
       "      <td>NaN</td>\n",
       "      <td>0</td>\n",
       "      <td>0</td>\n",
       "      <td>0</td>\n",
       "      <td>0</td>\n",
       "      <td>0</td>\n",
       "      <td>0</td>\n",
       "      <td>320900860913</td>\n",
       "      <td>0</td>\n",
       "      <td>0</td>\n",
       "      <td>...</td>\n",
       "      <td>0</td>\n",
       "      <td>0</td>\n",
       "      <td>0</td>\n",
       "      <td>Bronx Academy Of Promise Charter School</td>\n",
       "      <td>Charter</td>\n",
       "      <td>2014</td>\n",
       "      <td>NaN</td>\n",
       "      <td>NaN</td>\n",
       "      <td>0</td>\n",
       "      <td>0</td>\n",
       "    </tr>\n",
       "    <tr>\n",
       "      <th>4</th>\n",
       "      <td>NaN</td>\n",
       "      <td>0</td>\n",
       "      <td>0</td>\n",
       "      <td>0</td>\n",
       "      <td>0</td>\n",
       "      <td>0</td>\n",
       "      <td>0</td>\n",
       "      <td>321100860855</td>\n",
       "      <td>0</td>\n",
       "      <td>0</td>\n",
       "      <td>...</td>\n",
       "      <td>0</td>\n",
       "      <td>0</td>\n",
       "      <td>0</td>\n",
       "      <td>Bronx Charter School For Better Learning</td>\n",
       "      <td>Charter</td>\n",
       "      <td>2014</td>\n",
       "      <td>NaN</td>\n",
       "      <td>NaN</td>\n",
       "      <td>0</td>\n",
       "      <td>0</td>\n",
       "    </tr>\n",
       "  </tbody>\n",
       "</table>\n",
       "<p>5 rows × 52 columns</p>\n",
       "</div>"
      ],
      "text/plain": [
       "  Alcohol Possesion Alcohol Possession Arson  \\\n",
       "0               NaN                  0     0   \n",
       "1               NaN                  0     0   \n",
       "2               NaN                  0     0   \n",
       "3               NaN                  0     0   \n",
       "4               NaN                  0     0   \n",
       "\n",
       "  Assault With Serious Physical Injury_nw  \\\n",
       "0                                       0   \n",
       "1                                       0   \n",
       "2                                       0   \n",
       "3                                       0   \n",
       "4                                       0   \n",
       "\n",
       "  Assault With Serious Physical Injury_ww Assault with Physical Injury_nw  \\\n",
       "0                                       0                               0   \n",
       "1                                       0                               0   \n",
       "2                                       0                               0   \n",
       "3                                       0                               0   \n",
       "4                                       0                               0   \n",
       "\n",
       "  Assault with Physical Injury_ww     BEDS Code Bomb Threat Burglary_nw  \\\n",
       "0                               0  320700860957           0           0   \n",
       "1                               0  320700861062           0           0   \n",
       "2                               0  320700861014           0           0   \n",
       "3                               0  320900860913           0           0   \n",
       "4                               0  321100860855           0           0   \n",
       "\n",
       "          ...          Riot_ww Robbery_nw Robbery_ww  \\\n",
       "0         ...                0          0          0   \n",
       "1         ...                0          0          0   \n",
       "2         ...                0          0          0   \n",
       "3         ...                0          0          0   \n",
       "4         ...                0          0          0   \n",
       "\n",
       "                                 School Name School Type School Year  \\\n",
       "0         Academic Leadership Charter School     Charter        2014   \n",
       "1              American Dream Charter School     Charter        2014   \n",
       "2  Brilla College Preparatory Charter School     Charter        2014   \n",
       "3    Bronx Academy Of Promise Charter School     Charter        2014   \n",
       "4   Bronx Charter School For Better Learning     Charter        2014   \n",
       "\n",
       "  Use Possession or Sale of Alcohol Use Possession or Sale of Drugs  \\\n",
       "0                               NaN                             NaN   \n",
       "1                               NaN                             NaN   \n",
       "2                               NaN                             NaN   \n",
       "3                               NaN                             NaN   \n",
       "4                               NaN                             NaN   \n",
       "\n",
       "  Weapon Possession_nw Weapon Possession_ww  \n",
       "0                    0                    0  \n",
       "1                    0                    0  \n",
       "2                    0                    0  \n",
       "3                    0                    0  \n",
       "4                    0                    0  \n",
       "\n",
       "[5 rows x 52 columns]"
      ]
     },
     "execution_count": 54,
     "metadata": {},
     "output_type": "execute_result"
    }
   ],
   "source": [
    "# A glance at the final data frame:\n",
    "vadir_df.head()"
   ]
  },
  {
   "cell_type": "code",
   "execution_count": 56,
   "metadata": {
    "collapsed": false
   },
   "outputs": [
    {
     "data": {
      "text/plain": [
       "['Alcohol Possesion',\n",
       " 'Alcohol Possession',\n",
       " 'Arson',\n",
       " 'Assault With Serious Physical Injury_nw',\n",
       " 'Assault With Serious Physical Injury_ww',\n",
       " 'Assault with Physical Injury_nw',\n",
       " 'Assault with Physical Injury_ww',\n",
       " 'BEDS Code',\n",
       " 'Bomb Threat',\n",
       " 'Burglary_nw',\n",
       " 'Burglary_ww',\n",
       " 'County',\n",
       " 'Criminal Mischief_nw',\n",
       " 'Criminal Mischief_ww',\n",
       " 'District',\n",
       " 'Drug Possesion',\n",
       " 'Drug Possession',\n",
       " 'Enrollment',\n",
       " 'False Alarm',\n",
       " 'Forcible Sex Offenses_nw',\n",
       " 'Forcible Sex Offenses_ww',\n",
       " 'Grade Organization',\n",
       " 'Homicide_nw',\n",
       " 'Homicide_ww',\n",
       " 'Intimidation, Harassment, Menacing, or Bullying_nw',\n",
       " 'Intimidation, Harassment, Menacing, or Bullying_ww',\n",
       " 'Kidnapping_nw',\n",
       " 'Kidnapping_ww',\n",
       " 'Larceny, or Other Theft_nw',\n",
       " 'Larceny, or Other Theft_ww',\n",
       " 'Minor Altercations_nw',\n",
       " 'Minor Altercations_ww',\n",
       " 'Need/Resource Category',\n",
       " 'Other Disruptive',\n",
       " 'Other Disruptive Incidents',\n",
       " 'Other Sex Offenses_nw',\n",
       " 'Other Sex Offenses_ww',\n",
       " 'Other Sex offenses_nw',\n",
       " 'Other Sex offenses_ww',\n",
       " 'Reckless Endangerment_nw',\n",
       " 'Reckless Endangerment_ww',\n",
       " 'Riot_nw',\n",
       " 'Riot_ww',\n",
       " 'Robbery_nw',\n",
       " 'Robbery_ww',\n",
       " 'School Name',\n",
       " 'School Type',\n",
       " 'School Year',\n",
       " 'Use Possession or Sale of Alcohol',\n",
       " 'Use Possession or Sale of Drugs',\n",
       " 'Weapon Possession_nw',\n",
       " 'Weapon Possession_ww']"
      ]
     },
     "execution_count": 56,
     "metadata": {},
     "output_type": "execute_result"
    }
   ],
   "source": [
    "list(vadir_df.columns)"
   ]
  },
  {
   "cell_type": "code",
   "execution_count": 57,
   "metadata": {
    "collapsed": true
   },
   "outputs": [],
   "source": [
    "# Saving the data to a new file\n",
    "vadir_df.to_csv(\"VADIR_incidents_2006-14.csv\")"
   ]
  },
  {
   "cell_type": "code",
   "execution_count": 61,
   "metadata": {
    "collapsed": false
   },
   "outputs": [
    {
     "data": {
      "text/html": [
       "<div>\n",
       "<table border=\"1\" class=\"dataframe\">\n",
       "  <thead>\n",
       "    <tr style=\"text-align: right;\">\n",
       "      <th></th>\n",
       "      <th>Unnamed: 0</th>\n",
       "      <th>Alcohol Possesion</th>\n",
       "      <th>Alcohol Possession</th>\n",
       "      <th>Arson</th>\n",
       "      <th>Assault With Serious Physical Injury_nw</th>\n",
       "      <th>Assault With Serious Physical Injury_ww</th>\n",
       "      <th>Assault with Physical Injury_nw</th>\n",
       "      <th>Assault with Physical Injury_ww</th>\n",
       "      <th>BEDS Code</th>\n",
       "      <th>Bomb Threat</th>\n",
       "      <th>...</th>\n",
       "      <th>Riot_ww</th>\n",
       "      <th>Robbery_nw</th>\n",
       "      <th>Robbery_ww</th>\n",
       "      <th>School Name</th>\n",
       "      <th>School Type</th>\n",
       "      <th>School Year</th>\n",
       "      <th>Use Possession or Sale of Alcohol</th>\n",
       "      <th>Use Possession or Sale of Drugs</th>\n",
       "      <th>Weapon Possession_nw</th>\n",
       "      <th>Weapon Possession_ww</th>\n",
       "    </tr>\n",
       "  </thead>\n",
       "  <tbody>\n",
       "    <tr>\n",
       "      <th>0</th>\n",
       "      <td>0</td>\n",
       "      <td>NaN</td>\n",
       "      <td>0</td>\n",
       "      <td>0</td>\n",
       "      <td>0</td>\n",
       "      <td>0</td>\n",
       "      <td>0</td>\n",
       "      <td>0</td>\n",
       "      <td>320700860957</td>\n",
       "      <td>0</td>\n",
       "      <td>...</td>\n",
       "      <td>0</td>\n",
       "      <td>0</td>\n",
       "      <td>0</td>\n",
       "      <td>Academic Leadership Charter School</td>\n",
       "      <td>Charter</td>\n",
       "      <td>2014</td>\n",
       "      <td>NaN</td>\n",
       "      <td>NaN</td>\n",
       "      <td>0</td>\n",
       "      <td>0</td>\n",
       "    </tr>\n",
       "    <tr>\n",
       "      <th>1</th>\n",
       "      <td>1</td>\n",
       "      <td>NaN</td>\n",
       "      <td>0</td>\n",
       "      <td>0</td>\n",
       "      <td>0</td>\n",
       "      <td>0</td>\n",
       "      <td>0</td>\n",
       "      <td>0</td>\n",
       "      <td>320700861062</td>\n",
       "      <td>0</td>\n",
       "      <td>...</td>\n",
       "      <td>0</td>\n",
       "      <td>0</td>\n",
       "      <td>0</td>\n",
       "      <td>American Dream Charter School</td>\n",
       "      <td>Charter</td>\n",
       "      <td>2014</td>\n",
       "      <td>NaN</td>\n",
       "      <td>NaN</td>\n",
       "      <td>0</td>\n",
       "      <td>0</td>\n",
       "    </tr>\n",
       "    <tr>\n",
       "      <th>2</th>\n",
       "      <td>2</td>\n",
       "      <td>NaN</td>\n",
       "      <td>0</td>\n",
       "      <td>0</td>\n",
       "      <td>0</td>\n",
       "      <td>0</td>\n",
       "      <td>0</td>\n",
       "      <td>0</td>\n",
       "      <td>320700861014</td>\n",
       "      <td>0</td>\n",
       "      <td>...</td>\n",
       "      <td>0</td>\n",
       "      <td>0</td>\n",
       "      <td>0</td>\n",
       "      <td>Brilla College Preparatory Charter School</td>\n",
       "      <td>Charter</td>\n",
       "      <td>2014</td>\n",
       "      <td>NaN</td>\n",
       "      <td>NaN</td>\n",
       "      <td>0</td>\n",
       "      <td>0</td>\n",
       "    </tr>\n",
       "    <tr>\n",
       "      <th>3</th>\n",
       "      <td>3</td>\n",
       "      <td>NaN</td>\n",
       "      <td>0</td>\n",
       "      <td>0</td>\n",
       "      <td>0</td>\n",
       "      <td>0</td>\n",
       "      <td>0</td>\n",
       "      <td>0</td>\n",
       "      <td>320900860913</td>\n",
       "      <td>0</td>\n",
       "      <td>...</td>\n",
       "      <td>0</td>\n",
       "      <td>0</td>\n",
       "      <td>0</td>\n",
       "      <td>Bronx Academy Of Promise Charter School</td>\n",
       "      <td>Charter</td>\n",
       "      <td>2014</td>\n",
       "      <td>NaN</td>\n",
       "      <td>NaN</td>\n",
       "      <td>0</td>\n",
       "      <td>0</td>\n",
       "    </tr>\n",
       "    <tr>\n",
       "      <th>4</th>\n",
       "      <td>4</td>\n",
       "      <td>NaN</td>\n",
       "      <td>0</td>\n",
       "      <td>0</td>\n",
       "      <td>0</td>\n",
       "      <td>0</td>\n",
       "      <td>0</td>\n",
       "      <td>0</td>\n",
       "      <td>321100860855</td>\n",
       "      <td>0</td>\n",
       "      <td>...</td>\n",
       "      <td>0</td>\n",
       "      <td>0</td>\n",
       "      <td>0</td>\n",
       "      <td>Bronx Charter School For Better Learning</td>\n",
       "      <td>Charter</td>\n",
       "      <td>2014</td>\n",
       "      <td>NaN</td>\n",
       "      <td>NaN</td>\n",
       "      <td>0</td>\n",
       "      <td>0</td>\n",
       "    </tr>\n",
       "  </tbody>\n",
       "</table>\n",
       "<p>5 rows × 53 columns</p>\n",
       "</div>"
      ],
      "text/plain": [
       "  Unnamed: 0 Alcohol Possesion Alcohol Possession Arson  \\\n",
       "0          0               NaN                  0     0   \n",
       "1          1               NaN                  0     0   \n",
       "2          2               NaN                  0     0   \n",
       "3          3               NaN                  0     0   \n",
       "4          4               NaN                  0     0   \n",
       "\n",
       "  Assault With Serious Physical Injury_nw  \\\n",
       "0                                       0   \n",
       "1                                       0   \n",
       "2                                       0   \n",
       "3                                       0   \n",
       "4                                       0   \n",
       "\n",
       "  Assault With Serious Physical Injury_ww Assault with Physical Injury_nw  \\\n",
       "0                                       0                               0   \n",
       "1                                       0                               0   \n",
       "2                                       0                               0   \n",
       "3                                       0                               0   \n",
       "4                                       0                               0   \n",
       "\n",
       "  Assault with Physical Injury_ww     BEDS Code Bomb Threat  \\\n",
       "0                               0  320700860957           0   \n",
       "1                               0  320700861062           0   \n",
       "2                               0  320700861014           0   \n",
       "3                               0  320900860913           0   \n",
       "4                               0  321100860855           0   \n",
       "\n",
       "          ...          Riot_ww Robbery_nw Robbery_ww  \\\n",
       "0         ...                0          0          0   \n",
       "1         ...                0          0          0   \n",
       "2         ...                0          0          0   \n",
       "3         ...                0          0          0   \n",
       "4         ...                0          0          0   \n",
       "\n",
       "                                 School Name School Type School Year  \\\n",
       "0         Academic Leadership Charter School     Charter        2014   \n",
       "1              American Dream Charter School     Charter        2014   \n",
       "2  Brilla College Preparatory Charter School     Charter        2014   \n",
       "3    Bronx Academy Of Promise Charter School     Charter        2014   \n",
       "4   Bronx Charter School For Better Learning     Charter        2014   \n",
       "\n",
       "  Use Possession or Sale of Alcohol Use Possession or Sale of Drugs  \\\n",
       "0                               NaN                             NaN   \n",
       "1                               NaN                             NaN   \n",
       "2                               NaN                             NaN   \n",
       "3                               NaN                             NaN   \n",
       "4                               NaN                             NaN   \n",
       "\n",
       "  Weapon Possession_nw Weapon Possession_ww  \n",
       "0                    0                    0  \n",
       "1                    0                    0  \n",
       "2                    0                    0  \n",
       "3                    0                    0  \n",
       "4                    0                    0  \n",
       "\n",
       "[5 rows x 53 columns]"
      ]
     },
     "execution_count": 61,
     "metadata": {},
     "output_type": "execute_result"
    }
   ],
   "source": [
    "#checking that it saved properly\n",
    "pd.read_csv(\"VADIR_incidents_2006-14.csv\", dtype = object).head()\n",
    "# looks like the BEDS code is wrongly categorized as a float... \n",
    "# I'll temporarily fix that by importing it as an object but we should check the rest of the types."
   ]
  },
  {
   "cell_type": "code",
   "execution_count": null,
   "metadata": {
    "collapsed": true
   },
   "outputs": [],
   "source": []
  }
 ],
 "metadata": {
  "kernelspec": {
   "display_name": "Python 3",
   "language": "python",
   "name": "python3"
  },
  "language_info": {
   "codemirror_mode": {
    "name": "ipython",
    "version": 3
   },
   "file_extension": ".py",
   "mimetype": "text/x-python",
   "name": "python",
   "nbconvert_exporter": "python",
   "pygments_lexer": "ipython3",
   "version": "3.5.1"
  }
 },
 "nbformat": 4,
 "nbformat_minor": 0
}
