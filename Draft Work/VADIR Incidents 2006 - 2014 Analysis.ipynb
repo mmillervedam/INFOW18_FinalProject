{
 "cells": [
  {
   "cell_type": "code",
   "execution_count": 43,
   "metadata": {
    "collapsed": true
   },
   "outputs": [],
   "source": [
    "import numpy as np\n",
    "import pandas as pd\n",
    "from pandas import DataFrame, Series\n",
    "from matplotlib import pyplot as plt\n",
    "import matplotlib.dates as mdates\n",
    "import matplotlib.mlab as mlab\n",
    "import matplotlib.ticker as tkr\n",
    "import datetime as dt\n",
    "% matplotlib inline"
   ]
  },
  {
   "cell_type": "code",
   "execution_count": 44,
   "metadata": {
    "collapsed": false
   },
   "outputs": [],
   "source": [
    "VADIR = pd.read_csv(\"VADIR_clean.csv\")"
   ]
  },
  {
   "cell_type": "code",
   "execution_count": 45,
   "metadata": {
    "collapsed": false
   },
   "outputs": [
    {
     "data": {
      "text/html": [
       "<div>\n",
       "<table border=\"1\" class=\"dataframe\">\n",
       "  <thead>\n",
       "    <tr style=\"text-align: right;\">\n",
       "      <th></th>\n",
       "      <th>County</th>\n",
       "      <th>District</th>\n",
       "      <th>School Name</th>\n",
       "      <th>School Year</th>\n",
       "      <th>Enrollment</th>\n",
       "      <th>BEDS Code</th>\n",
       "      <th>Grade Organization</th>\n",
       "      <th>School Type</th>\n",
       "      <th>Total Incidents</th>\n",
       "      <th>Incidents w/ Weapons</th>\n",
       "      <th>...</th>\n",
       "      <th>Other Sex Offenses_nw</th>\n",
       "      <th>Other Sex Offenses_ww</th>\n",
       "      <th>Reckless Endangerment_nw</th>\n",
       "      <th>Reckless Endangerment_ww</th>\n",
       "      <th>Riot_nw</th>\n",
       "      <th>Riot_ww</th>\n",
       "      <th>Robbery_nw</th>\n",
       "      <th>Robbery_ww</th>\n",
       "      <th>Weapon Possession_nw</th>\n",
       "      <th>Weapon Possession_ww</th>\n",
       "    </tr>\n",
       "  </thead>\n",
       "  <tbody>\n",
       "    <tr>\n",
       "      <th>0</th>\n",
       "      <td>Bronx</td>\n",
       "      <td>NaN</td>\n",
       "      <td>Academic Leadership Charter School</td>\n",
       "      <td>2014</td>\n",
       "      <td>376</td>\n",
       "      <td>320700860957</td>\n",
       "      <td>Elementary</td>\n",
       "      <td>Charter</td>\n",
       "      <td>2</td>\n",
       "      <td>0</td>\n",
       "      <td>...</td>\n",
       "      <td>0</td>\n",
       "      <td>0</td>\n",
       "      <td>0</td>\n",
       "      <td>0</td>\n",
       "      <td>0</td>\n",
       "      <td>0</td>\n",
       "      <td>0</td>\n",
       "      <td>0</td>\n",
       "      <td>0</td>\n",
       "      <td>0</td>\n",
       "    </tr>\n",
       "    <tr>\n",
       "      <th>1</th>\n",
       "      <td>Bronx</td>\n",
       "      <td>NaN</td>\n",
       "      <td>American Dream Charter School</td>\n",
       "      <td>2014</td>\n",
       "      <td>81</td>\n",
       "      <td>320700861062</td>\n",
       "      <td>NaN</td>\n",
       "      <td>Charter</td>\n",
       "      <td>12</td>\n",
       "      <td>8</td>\n",
       "      <td>...</td>\n",
       "      <td>0</td>\n",
       "      <td>0</td>\n",
       "      <td>0</td>\n",
       "      <td>0</td>\n",
       "      <td>0</td>\n",
       "      <td>0</td>\n",
       "      <td>0</td>\n",
       "      <td>0</td>\n",
       "      <td>0</td>\n",
       "      <td>0</td>\n",
       "    </tr>\n",
       "    <tr>\n",
       "      <th>2</th>\n",
       "      <td>Bronx</td>\n",
       "      <td>NaN</td>\n",
       "      <td>Brilla College Preparatory Charter School</td>\n",
       "      <td>2014</td>\n",
       "      <td>247</td>\n",
       "      <td>320700861014</td>\n",
       "      <td>Elementary</td>\n",
       "      <td>Charter</td>\n",
       "      <td>0</td>\n",
       "      <td>0</td>\n",
       "      <td>...</td>\n",
       "      <td>0</td>\n",
       "      <td>0</td>\n",
       "      <td>0</td>\n",
       "      <td>0</td>\n",
       "      <td>0</td>\n",
       "      <td>0</td>\n",
       "      <td>0</td>\n",
       "      <td>0</td>\n",
       "      <td>0</td>\n",
       "      <td>0</td>\n",
       "    </tr>\n",
       "    <tr>\n",
       "      <th>3</th>\n",
       "      <td>Bronx</td>\n",
       "      <td>NaN</td>\n",
       "      <td>Bronx Academy Of Promise Charter School</td>\n",
       "      <td>2014</td>\n",
       "      <td>581</td>\n",
       "      <td>320900860913</td>\n",
       "      <td>Elementary</td>\n",
       "      <td>Charter</td>\n",
       "      <td>5</td>\n",
       "      <td>5</td>\n",
       "      <td>...</td>\n",
       "      <td>0</td>\n",
       "      <td>0</td>\n",
       "      <td>0</td>\n",
       "      <td>0</td>\n",
       "      <td>0</td>\n",
       "      <td>0</td>\n",
       "      <td>0</td>\n",
       "      <td>0</td>\n",
       "      <td>0</td>\n",
       "      <td>0</td>\n",
       "    </tr>\n",
       "    <tr>\n",
       "      <th>4</th>\n",
       "      <td>Bronx</td>\n",
       "      <td>NaN</td>\n",
       "      <td>Bronx Charter School For Better Learning</td>\n",
       "      <td>2014</td>\n",
       "      <td>470</td>\n",
       "      <td>321100860855</td>\n",
       "      <td>Elementary</td>\n",
       "      <td>Charter</td>\n",
       "      <td>49</td>\n",
       "      <td>27</td>\n",
       "      <td>...</td>\n",
       "      <td>0</td>\n",
       "      <td>0</td>\n",
       "      <td>9</td>\n",
       "      <td>0</td>\n",
       "      <td>0</td>\n",
       "      <td>0</td>\n",
       "      <td>0</td>\n",
       "      <td>0</td>\n",
       "      <td>0</td>\n",
       "      <td>0</td>\n",
       "    </tr>\n",
       "  </tbody>\n",
       "</table>\n",
       "<p>5 rows × 47 columns</p>\n",
       "</div>"
      ],
      "text/plain": [
       "  County District                                School Name  School Year  \\\n",
       "0  Bronx      NaN         Academic Leadership Charter School         2014   \n",
       "1  Bronx      NaN              American Dream Charter School         2014   \n",
       "2  Bronx      NaN  Brilla College Preparatory Charter School         2014   \n",
       "3  Bronx      NaN    Bronx Academy Of Promise Charter School         2014   \n",
       "4  Bronx      NaN   Bronx Charter School For Better Learning         2014   \n",
       "\n",
       "   Enrollment     BEDS Code Grade Organization School Type  Total Incidents  \\\n",
       "0         376  320700860957         Elementary     Charter                2   \n",
       "1          81  320700861062                NaN     Charter               12   \n",
       "2         247  320700861014         Elementary     Charter                0   \n",
       "3         581  320900860913         Elementary     Charter                5   \n",
       "4         470  321100860855         Elementary     Charter               49   \n",
       "\n",
       "   Incidents w/ Weapons          ...           Other Sex Offenses_nw  \\\n",
       "0                     0          ...                               0   \n",
       "1                     8          ...                               0   \n",
       "2                     0          ...                               0   \n",
       "3                     5          ...                               0   \n",
       "4                    27          ...                               0   \n",
       "\n",
       "   Other Sex Offenses_ww  Reckless Endangerment_nw  Reckless Endangerment_ww  \\\n",
       "0                      0                         0                         0   \n",
       "1                      0                         0                         0   \n",
       "2                      0                         0                         0   \n",
       "3                      0                         0                         0   \n",
       "4                      0                         9                         0   \n",
       "\n",
       "   Riot_nw  Riot_ww  Robbery_nw  Robbery_ww  Weapon Possession_nw  \\\n",
       "0        0        0           0           0                     0   \n",
       "1        0        0           0           0                     0   \n",
       "2        0        0           0           0                     0   \n",
       "3        0        0           0           0                     0   \n",
       "4        0        0           0           0                     0   \n",
       "\n",
       "   Weapon Possession_ww  \n",
       "0                     0  \n",
       "1                     0  \n",
       "2                     0  \n",
       "3                     0  \n",
       "4                     0  \n",
       "\n",
       "[5 rows x 47 columns]"
      ]
     },
     "execution_count": 45,
     "metadata": {},
     "output_type": "execute_result"
    }
   ],
   "source": [
    "VADIR.head()"
   ]
  },
  {
   "cell_type": "code",
   "execution_count": 46,
   "metadata": {
    "collapsed": false
   },
   "outputs": [
    {
     "data": {
      "text/plain": [
       "Index(['County', 'District', 'School Name', 'School Year', 'Enrollment',\n",
       "       'BEDS Code', 'Grade Organization', 'School Type', 'Total Incidents',\n",
       "       'Incidents w/ Weapons', 'Incidents w/ Weapons.1', 'Alcohol Possession',\n",
       "       'Arson', 'Assault With Serious Physical Injury_nw',\n",
       "       'Assault With Serious Physical Injury_ww',\n",
       "       'Assault with Physical Injury_nw', 'Assault with Physical Injury_ww',\n",
       "       'Bomb Threat', 'Bomb Threat False Alarm', 'Burglary_nw', 'Burglary_ww',\n",
       "       'Criminal Mischief_nw', 'Criminal Mischief_ww', 'Drug Possession',\n",
       "       'Forcible Sex Offenses_nw', 'Forcible Sex Offenses_ww', 'Homicide_nw',\n",
       "       'Homicide_ww', 'Intimidation, Harassment, Menacing, or Bullying_nw',\n",
       "       'Intimidation, Harassment, Menacing, or Bullying_ww', 'Kidnapping_nw',\n",
       "       'Kidnapping_ww', 'Larceny, or Other Theft_nw',\n",
       "       'Larceny, or Other Theft_ww', 'Minor Altercations_nw',\n",
       "       'Minor Altercations_ww', 'Other Disruptive Incidents',\n",
       "       'Other Sex Offenses_nw', 'Other Sex Offenses_ww',\n",
       "       'Reckless Endangerment_nw', 'Reckless Endangerment_ww', 'Riot_nw',\n",
       "       'Riot_ww', 'Robbery_nw', 'Robbery_ww', 'Weapon Possession_nw',\n",
       "       'Weapon Possession_ww'],\n",
       "      dtype='object')"
      ]
     },
     "execution_count": 46,
     "metadata": {},
     "output_type": "execute_result"
    }
   ],
   "source": [
    "VADIR.columns"
   ]
  },
  {
   "cell_type": "code",
   "execution_count": 47,
   "metadata": {
    "collapsed": false
   },
   "outputs": [
    {
     "name": "stdout",
     "output_type": "stream",
     "text": [
      "Bronx                 2737\n",
      "Queens                2260\n",
      "Brooklyn              1911\n",
      "Kings                 1655\n",
      "New York              1040\n",
      "Manhattan              937\n",
      "Richmond               478\n",
      "Nyc Central Office     344\n",
      "Manhatten              291\n",
      "Nassau                   1\n",
      "Name: County, dtype: int64\n"
     ]
    }
   ],
   "source": [
    "print(VADIR['County'].value_counts())"
   ]
  },
  {
   "cell_type": "code",
   "execution_count": 48,
   "metadata": {
    "collapsed": false
   },
   "outputs": [],
   "source": [
    "cleancounty = {'Bronx': 'Bronx', 'Queens': 'Queens', 'Brooklyn': 'Brooklyn', 'Kings': 'Brooklyn', 'New York': 'New York', \n",
    "               'Manhattan': 'Manhattan', 'Richmond': 'Staten Island', 'Nyc Central Office': 'Nyc Central Office', \n",
    "               'Manhatten': 'Manhattan', 'Nassau': 'Nassau', 'nan': 'nan'}\n",
    "\n",
    "VADIR['County'] = VADIR['County'].apply(cleancounty.get)"
   ]
  },
  {
   "cell_type": "code",
   "execution_count": 49,
   "metadata": {
    "collapsed": false
   },
   "outputs": [
    {
     "name": "stdout",
     "output_type": "stream",
     "text": [
      "Brooklyn              3566\n",
      "Bronx                 2737\n",
      "Queens                2260\n",
      "Manhattan             1228\n",
      "New York              1040\n",
      "Staten Island          478\n",
      "Nyc Central Office     344\n",
      "Nassau                   1\n",
      "Name: County, dtype: int64\n"
     ]
    }
   ],
   "source": [
    "print(VADIR['County'].value_counts())"
   ]
  },
  {
   "cell_type": "code",
   "execution_count": 51,
   "metadata": {
    "collapsed": true
   },
   "outputs": [],
   "source": [
    "VADIR.to_csv(\"VADIR_clean2.csv\", index = False)"
   ]
  },
  {
   "cell_type": "code",
   "execution_count": 53,
   "metadata": {
    "collapsed": false
   },
   "outputs": [],
   "source": [
    "yearcountyoffensecount = VADIR.groupby(['School Year', 'County'], as_index=False)['Total Incidents'].count()"
   ]
  },
  {
   "cell_type": "code",
   "execution_count": 60,
   "metadata": {
    "collapsed": false
   },
   "outputs": [],
   "source": [
    "yearcountyoffensecountp = yearcountyoffensecount.pivot('School Year','County', 'Total Incidents')"
   ]
  },
  {
   "cell_type": "code",
   "execution_count": 63,
   "metadata": {
    "collapsed": false
   },
   "outputs": [
    {
     "data": {
      "image/png": "[encoded data removed]",
      "text/plain": [
       "<matplotlib.figure.Figure at 0x49730c6b70>"
      ]
     },
     "metadata": {},
     "output_type": "display_data"
    }
   ],
   "source": [
    "#wanted to see a breakout of borough offenses across years\n",
    "x = yearcountyoffensecountp.index\n",
    "xlabels = [int(xl) for xl in x]\n",
    "ybronx = yearcountyoffensecountp[\"Bronx\"]\n",
    "ybrook = yearcountyoffensecountp[\"Brooklyn\"]\n",
    "yqueens = yearcountyoffensecountp[\"Queens\"]\n",
    "yman = yearcountyoffensecountp[\"Manhattan\"]\n",
    "yny = yearcountyoffensecountp[\"New York\"]\n",
    "ysi = yearcountyoffensecountp[\"Staten Island\"]\n",
    "ynyc = yearcountyoffensecountp[\"Nyc Central Office\"]\n",
    "yn = yearcountyoffensecountp[\"Nassau\"]\n",
    "\n",
    "def func(x, pos):  \n",
    "   s = '{:0,d}'.format(int(x))\n",
    "   return s\n",
    "\n",
    "y_format = tkr.FuncFormatter(func) \n",
    "plt.xticks(x, xlabels)\n",
    "plt.gca().yaxis.set_major_formatter(y_format)\n",
    "\n",
    "plt.plot(x, ybronx, 'b-', label='Bronx')\n",
    "plt.plot(x, ybrook, 'g-', label='Brooklyn')\n",
    "plt.plot(x, yqueens, 'r-', label='Queens')\n",
    "plt.plot(x, yman, 'y-', label='Manhattan')\n",
    "plt.plot(x, yny, 'k-', label='New York')\n",
    "plt.plot(x, ysi, 'm-', label='Staten Island')\n",
    "plt.plot(x, ynyc, 'c-', label='Nyc Central Office')\n",
    "plt.plot(x, yn, 'd-', label='Nassau')\n",
    "\n",
    "plt.legend(loc=\"best\", bbox_to_anchor=[1, 1],\n",
    "           ncol=2, shadow=True, title=\"Legend\", fancybox=True)\n",
    "plt.title('Felony Offenses by Borough from 2006 to 2014')\n",
    "plt.show()\n",
    "\n",
    "#note there is no data for counties for year 2008 and 2009\n",
    "#looked in the raw data and this is because County is blank for these years"
   ]
  },
  {
   "cell_type": "code",
   "execution_count": 64,
   "metadata": {
    "collapsed": false
   },
   "outputs": [
    {
     "name": "stdout",
     "output_type": "stream",
     "text": [
      "2014    1805\n",
      "2013    1792\n",
      "2012    1735\n",
      "2011    1693\n",
      "2010    1678\n",
      "2008    1545\n",
      "2009    1531\n",
      "2007    1498\n",
      "2006    1453\n",
      "Name: School Year, dtype: int64\n"
     ]
    }
   ],
   "source": [
    "print(VADIR['School Year'].value_counts())"
   ]
  },
  {
   "cell_type": "code",
   "execution_count": 78,
   "metadata": {
    "collapsed": false
   },
   "outputs": [
    {
     "data": {
      "text/plain": [
       "False    11654\n",
       "True      3076\n",
       "Name: County, dtype: int64"
      ]
     },
     "execution_count": 78,
     "metadata": {},
     "output_type": "execute_result"
    }
   ],
   "source": [
    "pd.isnull(VADIR['County']).value_counts()"
   ]
  },
  {
   "cell_type": "code",
   "execution_count": 66,
   "metadata": {
    "collapsed": false
   },
   "outputs": [
    {
     "data": {
      "text/html": [
       "<div>\n",
       "<table border=\"1\" class=\"dataframe\">\n",
       "  <thead>\n",
       "    <tr style=\"text-align: right;\">\n",
       "      <th>County</th>\n",
       "      <th>Bronx</th>\n",
       "      <th>Brooklyn</th>\n",
       "      <th>Manhattan</th>\n",
       "      <th>Nassau</th>\n",
       "      <th>New York</th>\n",
       "      <th>Nyc Central Office</th>\n",
       "      <th>Queens</th>\n",
       "      <th>Staten Island</th>\n",
       "    </tr>\n",
       "    <tr>\n",
       "      <th>School Year</th>\n",
       "      <th></th>\n",
       "      <th></th>\n",
       "      <th></th>\n",
       "      <th></th>\n",
       "      <th></th>\n",
       "      <th></th>\n",
       "      <th></th>\n",
       "      <th></th>\n",
       "    </tr>\n",
       "  </thead>\n",
       "  <tbody>\n",
       "    <tr>\n",
       "      <th>2006</th>\n",
       "      <td>338</td>\n",
       "      <td>433</td>\n",
       "      <td>277</td>\n",
       "      <td>NaN</td>\n",
       "      <td>NaN</td>\n",
       "      <td>58</td>\n",
       "      <td>287</td>\n",
       "      <td>60</td>\n",
       "    </tr>\n",
       "    <tr>\n",
       "      <th>2007</th>\n",
       "      <td>350</td>\n",
       "      <td>451</td>\n",
       "      <td>291</td>\n",
       "      <td>NaN</td>\n",
       "      <td>NaN</td>\n",
       "      <td>58</td>\n",
       "      <td>287</td>\n",
       "      <td>61</td>\n",
       "    </tr>\n",
       "    <tr>\n",
       "      <th>2010</th>\n",
       "      <td>387</td>\n",
       "      <td>512</td>\n",
       "      <td>330</td>\n",
       "      <td>NaN</td>\n",
       "      <td>NaN</td>\n",
       "      <td>57</td>\n",
       "      <td>323</td>\n",
       "      <td>69</td>\n",
       "    </tr>\n",
       "    <tr>\n",
       "      <th>2011</th>\n",
       "      <td>394</td>\n",
       "      <td>515</td>\n",
       "      <td>330</td>\n",
       "      <td>NaN</td>\n",
       "      <td>NaN</td>\n",
       "      <td>57</td>\n",
       "      <td>328</td>\n",
       "      <td>69</td>\n",
       "    </tr>\n",
       "    <tr>\n",
       "      <th>2012</th>\n",
       "      <td>410</td>\n",
       "      <td>532</td>\n",
       "      <td>NaN</td>\n",
       "      <td>NaN</td>\n",
       "      <td>335</td>\n",
       "      <td>57</td>\n",
       "      <td>331</td>\n",
       "      <td>70</td>\n",
       "    </tr>\n",
       "    <tr>\n",
       "      <th>2013</th>\n",
       "      <td>423</td>\n",
       "      <td>551</td>\n",
       "      <td>NaN</td>\n",
       "      <td>NaN</td>\n",
       "      <td>348</td>\n",
       "      <td>57</td>\n",
       "      <td>341</td>\n",
       "      <td>72</td>\n",
       "    </tr>\n",
       "    <tr>\n",
       "      <th>2014</th>\n",
       "      <td>435</td>\n",
       "      <td>572</td>\n",
       "      <td>NaN</td>\n",
       "      <td>1</td>\n",
       "      <td>357</td>\n",
       "      <td>NaN</td>\n",
       "      <td>363</td>\n",
       "      <td>77</td>\n",
       "    </tr>\n",
       "  </tbody>\n",
       "</table>\n",
       "</div>"
      ],
      "text/plain": [
       "County       Bronx  Brooklyn  Manhattan  Nassau  New York  Nyc Central Office  \\\n",
       "School Year                                                                     \n",
       "2006           338       433        277     NaN       NaN                  58   \n",
       "2007           350       451        291     NaN       NaN                  58   \n",
       "2010           387       512        330     NaN       NaN                  57   \n",
       "2011           394       515        330     NaN       NaN                  57   \n",
       "2012           410       532        NaN     NaN       335                  57   \n",
       "2013           423       551        NaN     NaN       348                  57   \n",
       "2014           435       572        NaN       1       357                 NaN   \n",
       "\n",
       "County       Queens  Staten Island  \n",
       "School Year                         \n",
       "2006            287             60  \n",
       "2007            287             61  \n",
       "2010            323             69  \n",
       "2011            328             69  \n",
       "2012            331             70  \n",
       "2013            341             72  \n",
       "2014            363             77  "
      ]
     },
     "execution_count": 66,
     "metadata": {},
     "output_type": "execute_result"
    }
   ],
   "source": [
    "yearcountyoffensecountp"
   ]
  },
  {
   "cell_type": "code",
   "execution_count": 79,
   "metadata": {
    "collapsed": false
   },
   "outputs": [
    {
     "data": {
      "text/plain": [
       "<matplotlib.text.Text at 0x4973187cf8>"
      ]
     },
     "execution_count": 79,
     "metadata": {},
     "output_type": "execute_result"
    },
    {
     "data": {
      "image/png": "[encoded data removed]",
      "text/plain": [
       "<matplotlib.figure.Figure at 0x4973174a58>"
      ]
     },
     "metadata": {},
     "output_type": "display_data"
    }
   ],
   "source": [
    "#decided just to do an annual total\n",
    "yearcount = VADIR.groupby(['School Year'], as_index=False)['Total Incidents'].count()\n",
    "\n",
    "x = yearcount['School Year']\n",
    "xlabels = [int(xl) for xl in x]\n",
    "y = yearcount[\"Total Incidents\"]\n",
    "\n",
    "def func(x, pos):  \n",
    "   s = '{:0,d}'.format(int(x))\n",
    "   return s\n",
    "\n",
    "y_format = tkr.FuncFormatter(func) \n",
    "plt.xticks(x, xlabels)\n",
    "plt.gca().yaxis.set_major_formatter(y_format)\n",
    "plt.plot(x,y)\n",
    "plt.title('Total Annual Incidents from 2006 to 2014')"
   ]
  },
  {
   "cell_type": "code",
   "execution_count": null,
   "metadata": {
    "collapsed": true
   },
   "outputs": [],
   "source": []
  }
 ],
 "metadata": {
  "kernelspec": {
   "display_name": "Python 3",
   "language": "python",
   "name": "python3"
  },
  "language_info": {
   "codemirror_mode": {
    "name": "ipython",
    "version": 3
   },
   "file_extension": ".py",
   "mimetype": "text/x-python",
   "name": "python",
   "nbconvert_exporter": "python",
   "pygments_lexer": "ipython3",
   "version": "3.5.1"
  }
 },
 "nbformat": 4,
 "nbformat_minor": 0
}
