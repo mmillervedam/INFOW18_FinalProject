{
 "cells": [
  {
   "cell_type": "markdown",
   "metadata": {},
   "source": [
    "INFO W18, Spring 2016 Section 1  \n",
    "__Aaron Hogancamp, Maya Miller-Vedam, Svetlana Riva__  \n",
    "__Final Project'Lab' Notebook__\n",
    "\n",
    "# Contents\n",
    "> __ I. Importing Modules__  \n",
    "> __ II. Quick Look at Raw Data__  \n",
    "> __ III. Importing and Cleaning Data__  \n",
    "> __ IV. Analysis of NYPD 7 Major Felony Incidents__   \n",
    "> __ V. NYC School Violence Dat Analysis__   \n",
    "> __ VI. Lat Long Analysis (Combining Felony Data and School Violence Data)__  \n",
    "\n",
    "## Required Files\n",
    "_If you plan to run the code in this notebook please ensure that you have downloaded the following files (as provided in our Project submission zipped folder)_\n",
    "> cleandata.py  \n",
    "> NYPD_7_Major_Felony_Incidents.csv   \n",
    "> New_York_City_Population_By_Boroughs.csv  \n",
    "> 15-16SchoolDirectory.xlsx   \n",
    "> VADIR_2006.xls, VADIR_2007.xls, VADIR_2008.xls, VADIR_2009.xls, VADIR_2010.xls, VADIR_2011.xls, VADIR_2012.xls, VADIR_2013.xls, VADIR_2014.xls"
   ]
  },
  {
   "cell_type": "markdown",
   "metadata": {},
   "source": [
    "# I - Importing Modules\n",
    "\n",
    "We will import the basics (matplotlib and pandas) and a few specialty modules (vincenty, geocoder and time) to be used within the analysis.  We also created our own custom module (cleandata) to be used for loading and cleaning the raw data.  We wanted to separate the loading and cleaning of the data in order to focus this notebook on the analysis portion."
   ]
  },
  {
   "cell_type": "code",
   "execution_count": 1,
   "metadata": {
    "collapsed": false
   },
   "outputs": [],
   "source": [
    "import numpy as np\n",
    "import pandas as pd\n",
    "from pandas import DataFrame, Series\n",
    "% matplotlib inline\n",
    "%load_ext autoreload\n",
    "from matplotlib import pyplot as plt\n",
    "import matplotlib.dates as mdates\n",
    "import matplotlib.mlab as mlab\n",
    "import matplotlib.ticker as tkr\n",
    "from vincenty import vincenty\n",
    "import geocoder as geo\n",
    "import datetime as dt\n",
    "import cleandata as cd\n",
    "import time"
   ]
  },
  {
   "cell_type": "markdown",
   "metadata": {},
   "source": [
    "----\n",
    "\n",
    "# II - Getting Started - Quick look at the raw data\n",
    "\n",
    "To get started, we will first describe the data. The majority of the analysis will be centered around felony incidents in <a href='https://catalog.data.gov/dataset/nypd-7-major-felony-incidents'>New York City</a> and the school violence incidents within <a href='http://www.p12.nysed.gov/irs/school_safety/school_safety_data_reporting.html'>NYC Schools</a>. For our analysis, we will also need NYC population data as well as <a href='https://data.dcpcsb.org/Schools-/2015-16-School-Directory/3d2c-rrhw'>school location data</a>.\n",
    "\n",
    "__NYC Felony Data__ \"Quarterly update of Seven Major Felonies at the incident level. For privacy reasons, incidents have been moved to the midpoint of the street segment on which they occur.\"\n",
    "\n",
    "For our purposes, we will be using the general wikipedia definitions of the 7 types of felonies. Note that these definitions can sometimes change from state to state:\n",
    "- Grand larceny: theft of personal property having a value above a legally specified amount.\n",
    "- Robbery: the taking of another person's property by force, fear, or intimidation, with the intent to permanently deprive that person of the property.\n",
    "- Burglary: typically defined as the unlawful entry into almost any structure (not just a home or business) with the intent to commit any crime inside (not just theft/larceny). No physical breaking and entering is required; the offender may simply trespass through an open door. Unlike robbery, which involves use of force or fear to obtain another person's property, there is usually no victim present during a burglary.\n",
    "- Assault: carried out by a threat of bodily harm coupled with an apparent, present ability to cause the harm.\n",
    "- Grand Larceny of Motor Vehicle: the unlawful taking of property — in this case, a vehicle — that belongs to someone else, done with the intent to permanently deprive the owner of the property.\n",
    "- Rape: non-consensual sexual intercourse that is committed by physical force, threat of injury, or other duress\n",
    "- Murder & Non-negligent Manslaughter: The unjustifiable, inexcusable, and intentional killing of a human being with (murder) or without (non-negligent) deliberation, premeditation, and malice.\n",
    "\n",
    "__NYC School Violence Data__ \"...reports detailing the number of incidents relating to School Safety and the Educational Climate (SSEC) reported to SED for the specified school years.\"\n",
    "\n",
    "__NYC Population Data__ NYC Population by borough as reported in the 2010 Census.\n",
    "\n",
    "__NYC School Location Data__ 2015 - 2016 NYC School directory of all NYC schools and their addresses. "
   ]
  },
  {
   "cell_type": "markdown",
   "metadata": {},
   "source": [
    "----\n",
    "\n",
    "# III - Importing and Cleaning Data\n",
    "\n",
    "Import and clean the felony data and school violence data.  NYC School Location data doesn't need cleaning.  NOTE: this uses our custom cleandata module provide as part of the submitted zip file.\n",
    "\n",
    "__NYC Felony Data Cleanup__\n",
    "* Resetting index and parsing dates\n",
    "* Removing data prior to 2006 because this data has year and date issues\n",
    "* Ensuring that Occurrence Year data is correct\n",
    "* Creating columns for month ordering, day of week ordering and school year (in order to join correctly to the School Violence data.\n",
    "\n",
    "__NYC School Violence Cleanup__ \n",
    "* The 2010 - 2014 files have the same column names, so they're easy to import and concatenate. However, 2006 - 2009 years each have a few unique column names, so they must be concatenated independently to the main dataframe. \n",
    "* Moreover, some columns have \"w/ weapon\" and others have \"w/out weapon\" in the column names. These were suffixed with \"_ww\" and \"_nw\" for 'with weapon' and 'no weapon', respectively. \n",
    "* Also re-ordered columns, merged duplicate columns, removed problematic (non data) rows from the csv, and fixed inconsistencies. \n",
    "* Ensured that all records have valid County data.\n",
    "\n",
    "__NYC Population Data Cleanup__\n",
    "* Capitalize Boroughs and set them as indexes.  This is done to match NYC Felony Data.\n",
    "* Add areas (measured in sq miles, source: wikipedia)"
   ]
  },
  {
   "cell_type": "code",
   "execution_count": 2,
   "metadata": {
    "collapsed": false
   },
   "outputs": [
    {
     "name": "stdout",
     "output_type": "stream",
     "text": [
      "... data from VADIR_2006.xls appended. Added 1455 rows for a total of 1455.\n",
      "... data from VADIR_2007.xls appended. Added 1500 rows for a total of 2955.\n",
      "... data from VADIR_2008.xls appended. Added 1545 rows for a total of 4500.\n",
      "... data from VADIR_2009.xls appended. Added 1531 rows for a total of 6031.\n",
      "... data from VADIR_2010.xls appended. Added 1678 rows for a total of 7709.\n",
      "... data from VADIR_2011.xls appended. Added 1693 rows for a total of 9402.\n",
      "... data from VADIR_2012.xls appended. Added 1735 rows for a total of 11137.\n",
      "... data from VADIR_2013.xls appended. Added 1792 rows for a total of 12929.\n",
      "... data from VADIR_2014.xls appended. Added 1805 rows for a total of 14734.\n",
      "... loaded NYPD felony data: 1116904 observations\n"
     ]
    }
   ],
   "source": [
    "#takes about 5 minutes to load and clean\n",
    "school_df = cd.load_and_clean_VADIR()\n",
    "felony_df = cd.load_and_clean_NYPD()\n",
    "borough_df = cd.load_and_clean_BORPOP()\n",
    "location_df = pd.read_excel(\"15-16SchoolDirectory.xlsx\")"
   ]
  },
  {
   "cell_type": "markdown",
   "metadata": {},
   "source": [
    "----\n",
    "\n",
    "# IV - Analysis of NYPD 7 Major Felony Incidents\n"
   ]
  },
  {
   "cell_type": "code",
   "execution_count": 3,
   "metadata": {
    "collapsed": false
   },
   "outputs": [
    {
     "name": "stdout",
     "output_type": "stream",
     "text": [
      "Number of observations: 1116904 \n",
      "Number of Variables: 23 \n",
      "Date Range: 2006 - 2015\n"
     ]
    }
   ],
   "source": [
    "# Overview\n",
    "print(\"Number of observations:\", len(felony_df), \"\\nNumber of Variables:\", len(felony_df.columns),\\\n",
    "     \"\\nDate Range:\", int(felony_df[\"Occurrence Year\"].min()), \"-\", int(felony_df[\"Occurrence Year\"].max()))"
   ]
  },
  {
   "cell_type": "code",
   "execution_count": null,
   "metadata": {
    "collapsed": true
   },
   "outputs": [],
   "source": [
    "# Take a look -- uncomment to run\n",
    "#felony_df.head()"
   ]
  },
  {
   "cell_type": "code",
   "execution_count": 4,
   "metadata": {
    "collapsed": false
   },
   "outputs": [
    {
     "name": "stdout",
     "output_type": "stream",
     "text": [
      "Percent of data dated 2000 or after: 99.42%\n"
     ]
    },
    {
     "data": {
      "text/plain": [
       "<matplotlib.text.Text at 0x10dee87f0>"
      ]
     },
     "execution_count": 4,
     "metadata": {},
     "output_type": "execute_result"
    },
    {
     "data": {
      "image/png": "[encoded data removed]",
      "text/plain": [
       "<matplotlib.figure.Figure at 0x11f76e2e8>"
      ]
     },
     "metadata": {},
     "output_type": "display_data"
    }
   ],
   "source": [
    "# what percent of the data is from 2006 and after?\n",
    "year_counts = felony_df['Occurrence Year'].value_counts()\n",
    "recent = year_counts[list(range(2006,2016))].sum()\n",
    "print(\"Percent of data dated 2000 or after: {:.2f}%\".format(recent/1123465 * 100))\n",
    "\n",
    "# plot crime incidence by year (2000- 2015)\n",
    "year_counts[list(range(2000,2016))].plot(kind = 'bar')\n",
    "plt.title(\"Felonies committed in NYC by Year(2000-2015)\")"
   ]
  },
  {
   "cell_type": "code",
   "execution_count": 78,
   "metadata": {
    "collapsed": false
   },
   "outputs": [
    {
     "name": "stdout",
     "output_type": "stream",
     "text": [
      "MEAN: 111690.4\n"
     ]
    },
    {
     "data": {
      "text/plain": [
       "2006    127649\n",
       "2007    120514\n",
       "2008    117375\n",
       "2012    111798\n",
       "2013    111286\n",
       "2011    107183\n",
       "2014    106849\n",
       "2009    106018\n",
       "2010    105575\n",
       "2015    102657\n",
       "Name: Occurrence Year, dtype: int64"
      ]
     },
     "execution_count": 78,
     "metadata": {},
     "output_type": "execute_result"
    }
   ],
   "source": [
    "# taking a look at totals by year\n",
    "print(\"MEAN:\",felony_df['Occurrence Year'].value_counts().mean())\n",
    "felony_df['Occurrence Year'].value_counts()"
   ]
  },
  {
   "cell_type": "code",
   "execution_count": 79,
   "metadata": {
    "collapsed": false
   },
   "outputs": [
    {
     "name": "stdout",
     "output_type": "stream",
     "text": [
      "TOTAL POP: 8175133\n"
     ]
    }
   ],
   "source": [
    "# 5 Boroughs Population\n",
    "print(\"TOTAL POP:\", borough_df['2010 Population'].sum())"
   ]
  },
  {
   "cell_type": "code",
   "execution_count": 81,
   "metadata": {
    "collapsed": false
   },
   "outputs": [
    {
     "data": {
      "text/plain": [
       "0.013662211978691967"
      ]
     },
     "execution_count": 81,
     "metadata": {},
     "output_type": "execute_result"
    }
   ],
   "source": [
    "# Average Per Capita Felonies\n",
    "felony_df['Occurrence Year'].value_counts().mean()/borough_df['2010 Population'].sum()"
   ]
  },
  {
   "cell_type": "code",
   "execution_count": 85,
   "metadata": {
    "collapsed": false
   },
   "outputs": [
    {
     "data": {
      "text/plain": [
       "0.026772999999999998"
      ]
     },
     "execution_count": 85,
     "metadata": {},
     "output_type": "execute_result"
    }
   ],
   "source": [
    "(408.2 + 2269.1) / 100000"
   ]
  },
  {
   "cell_type": "markdown",
   "metadata": {},
   "source": [
    "#### Location and Type"
   ]
  },
  {
   "cell_type": "code",
   "execution_count": 21,
   "metadata": {
    "collapsed": false
   },
   "outputs": [
    {
     "data": {
      "text/plain": [
       "<matplotlib.text.Text at 0x114d206d8>"
      ]
     },
     "execution_count": 21,
     "metadata": {},
     "output_type": "execute_result"
    },
    {
     "data": {
      "image/png": "[encoded data removed]",
      "text/plain": [
       "<matplotlib.figure.Figure at 0x114bbbe48>"
      ]
     },
     "metadata": {},
     "output_type": "display_data"
    }
   ],
   "source": [
    "# plot crime incidence by felony type\n",
    "felony_counts = felony_df.Offense.value_counts()/1000\n",
    "#counts.sort_values(inplace=True)\n",
    "felony_counts.plot(kind = 'barh')\n",
    "plt.title(\"Numbe of Felony Offenses(NYC, 2006-2015)\")\n",
    "plt.xlabel(\"Number Recorded (in thousands)\")"
   ]
  },
  {
   "cell_type": "code",
   "execution_count": 54,
   "metadata": {
    "collapsed": false
   },
   "outputs": [
    {
     "data": {
      "image/png": "[encoded data removed]",
      "text/plain": [
       "<matplotlib.figure.Figure at 0x117cb82e8>"
      ]
     },
     "metadata": {},
     "output_type": "display_data"
    }
   ],
   "source": [
    "# Where do most felonies occur?\n",
    "plt.subplots(1,3,figsize=(10,4))\n",
    "plt.suptitle(\"Felony Counts by Borough (2006-2015)\")\n",
    "\n",
    "# plot crime incidence by borough \n",
    "plt.subplot(141)\n",
    "felony_df.Borough.value_counts().plot(kind = 'bar')\n",
    "plt.title(\"Total Recorded Felonies\")\n",
    "\n",
    "# plot crime incidence by borough \n",
    "plt.subplot(142)\n",
    "per_capita = felony_df.Borough.value_counts() / borough_df['2010 Population']\n",
    "per_capita.sort_values(ascending=False).plot(kind = 'bar')\n",
    "plt.title(\"Per Capita Felonies\")\n",
    "\n",
    "# percapita crime excluding Grand Larceny\n",
    "plt.subplot(143)\n",
    "non_larceny = felony_df.Borough[felony_df.Offense != 'GRAND LARCENY'].value_counts() / borough_df['2010 Population']\n",
    "non_larceny.sort_values(ascending=False).plot(kind = 'bar')\n",
    "plt.title(\"Per Capita Felonies \\n(excluding Grand Larceny)\")\n",
    "\n",
    "# plot crime incidence by sq mi\n",
    "plt.subplot(144)\n",
    "per_mi = felony_df.Borough.value_counts() / borough_df['Area(sq mi)']\n",
    "per_mi.sort_values(ascending=False).plot(kind = 'bar')\n",
    "plt.title(\"Felonies per Square Mile\")\n",
    "\n",
    "plt.tight_layout(h_pad=0.5, rect=[0, 0.03, 1, 0.95])"
   ]
  },
  {
   "cell_type": "markdown",
   "metadata": {},
   "source": [
    "#### Time series analysis"
   ]
  },
  {
   "cell_type": "code",
   "execution_count": 8,
   "metadata": {
    "collapsed": false
   },
   "outputs": [],
   "source": [
    "datecount = felony_df.groupby('Short Occurrence Date', as_index=False).Identifier.count()\n",
    "yearcount = felony_df.groupby('Occurrence Year', as_index=False).Identifier.count()\n",
    "monthcount = felony_df.groupby('Occurrence Month Ordered', as_index=False).Identifier.count()\n",
    "daycount = felony_df.groupby('Occurrence Day', as_index=False).Identifier.count()\n",
    "weekdaycount = felony_df.groupby('Day of Week Ordered', as_index=False).Identifier.count()\n",
    "offensecount = felony_df.groupby('Offense', as_index=False).Identifier.count()\n",
    "yearoffensecount = felony_df.groupby(['Occurrence Year', 'Offense'], as_index=False).Identifier.count()\n",
    "yearoffensecountp = yearoffensecount.pivot('Occurrence Year', 'Offense', 'Identifier')"
   ]
  },
  {
   "cell_type": "code",
   "execution_count": null,
   "metadata": {
    "collapsed": true
   },
   "outputs": [],
   "source": [
    "# this shows a decline in the number of felonies recorded from 2006 to 2015\n",
    "# same graph as aaron had with the x axis labels as the years and y ticks labaels formatted\n",
    " \n",
    "x = yearcount['Occurrence Year']\n",
    "xlabels = [int(xl) for xl in x]\n",
    "y = yearcount[\"Identifier\"]\n",
    "# adding mean line for comparions\n",
    "mean = len(felony_df)/len(felony_df['Occurrence Year'].unique())\n",
    "\n",
    "def func(x, pos):  \n",
    "   s = '{:0,d}'.format(int(x))\n",
    "   return s\n",
    "\n",
    "y_format = tkr.FuncFormatter(func) \n",
    "plt.xticks(x, xlabels)\n",
    "plt.gca().yaxis.set_major_formatter(y_format)\n",
    "plt.plot(x,y, label = 'Total Annual Felonies')\n",
    "plt.plot(x,[mean]*10,'r', label='Mean: {} per year'.format(mean))\n",
    "plt.title('NYC Felony Offenses from 2006 to 2015')\n",
    "plt.legend()"
   ]
  },
  {
   "cell_type": "code",
   "execution_count": null,
   "metadata": {
    "collapsed": false
   },
   "outputs": [],
   "source": [
    "# get a time series view of the number of offenses per day\n",
    "dates = datecount[\"Short Occurrence Date\"]\n",
    "x = [dt.datetime.strptime(d,'%Y-%m-%d').date() for d in dates]\n",
    "y = datecount[\"Identifier\"]\n",
    "\n",
    "plt.gca().xaxis.set_major_formatter(mdates.DateFormatter('%Y-%m-%d'))\n",
    "plt.plot(x,y)\n",
    "plt.gcf().autofmt_xdate()\n",
    "plt.title('Felony Offenses from 2006 to 2015')"
   ]
  },
  {
   "cell_type": "code",
   "execution_count": 69,
   "metadata": {
    "collapsed": false
   },
   "outputs": [
    {
     "data": {
      "text/plain": [
       "<matplotlib.text.Text at 0x116ee8470>"
      ]
     },
     "execution_count": 69,
     "metadata": {},
     "output_type": "execute_result"
    },
    {
     "data": {
      "image/png": "[encoded data removed]",
      "text/plain": [
       "<matplotlib.figure.Figure at 0x117120710>"
      ]
     },
     "metadata": {},
     "output_type": "display_data"
    }
   ],
   "source": [
    "# there is an evident seasonal spike and valley in felonies each year\n",
    "# the below shows a view for 2009 through 2010\n",
    "datecount_2010 = datecount[datecount['Short Occurrence Date'] > '2008-12-31']\n",
    "datecount_2010 = datecount_2010[datecount_2010['Short Occurrence Date'] < '2011-01-01']\n",
    "\n",
    "dates = datecount_2010[\"Short Occurrence Date\"]\n",
    "x = [dt.datetime.strptime(d,'%Y-%m-%d').date() for d in dates]\n",
    "y = datecount_2010[\"Identifier\"]\n",
    "\n",
    "plt.gca().xaxis.set_major_formatter(mdates.DateFormatter('%Y-%m-%d'))\n",
    "plt.plot(x,y)\n",
    "plt.gcf().autofmt_xdate()\n",
    "plt.title('Felony Offenses from 2009 through 2010')\n",
    "\n",
    "#looks like the number of felonies spike in September/October and \n",
    "# then fall back down at the end of each calendar year"
   ]
  },
  {
   "cell_type": "code",
   "execution_count": 68,
   "metadata": {
    "collapsed": false
   },
   "outputs": [
    {
     "data": {
      "text/plain": [
       "<matplotlib.legend.Legend at 0x118617a90>"
      ]
     },
     "execution_count": 68,
     "metadata": {},
     "output_type": "execute_result"
    },
    {
     "data": {
      "image/png": "[encoded data removed]",
      "text/plain": [
       "<matplotlib.figure.Figure at 0x117136b00>"
      ]
     },
     "metadata": {},
     "output_type": "display_data"
    }
   ],
   "source": [
    "# this shows a decline in the number of felonies recorded from 2006 to 2015\n",
    "# same graph as aaron had with the x axis labels as the years and y ticks labaels formatted\n",
    " \n",
    "x = yearcount['Occurrence Year']\n",
    "xlabels = [int(xl) for xl in x]\n",
    "y = yearcount[\"Identifier\"]\n",
    "# adding mean line for comparions\n",
    "mean = len(felony_df)/len(felony_df['Occurrence Year'].unique())\n",
    "\n",
    "def func(x, pos):  \n",
    "   s = '{:0,d}'.format(int(x))\n",
    "   return s\n",
    "\n",
    "y_format = tkr.FuncFormatter(func) \n",
    "plt.xticks(x, xlabels)\n",
    "plt.gca().yaxis.set_major_formatter(y_format)\n",
    "plt.plot(x,y, label = 'Total Annual Felonies')\n",
    "plt.plot(x,[mean]*10,'r', label='Mean: {} per year'.format(mean))\n",
    "plt.title('NYC Felony Offenses from 2006 to 2015')\n",
    "plt.legend()"
   ]
  },
  {
   "cell_type": "code",
   "execution_count": null,
   "metadata": {
    "collapsed": false
   },
   "outputs": [],
   "source": [
    "# wanted to see a breakout of the type of offenses across years\n",
    "\n",
    "x = yearoffensecountp.index\n",
    "xlabels = [int(xl) for xl in x]\n",
    "yb = yearoffensecountp[\"BURGLARY\"]\n",
    "yfa = yearoffensecountp[\"FELONY ASSAULT\"]\n",
    "ygl = yearoffensecountp[\"GRAND LARCENY\"]\n",
    "yglmv = yearoffensecountp[\"GRAND LARCENY OF MOTOR VEHICLE\"]\n",
    "ymm = yearoffensecountp[\"MURDER & NON-NEGL. MANSLAUGHTE\"]\n",
    "yr = yearoffensecountp[\"RAPE\"]\n",
    "yrb = yearoffensecountp[\"ROBBERY\"]\n",
    "\n",
    "def func(x, pos):  \n",
    "    s = '{:0,d}'.format(int(x))\n",
    "    return s\n",
    "\n",
    "y_format = tkr.FuncFormatter(func) \n",
    "plt.xticks(x, xlabels)\n",
    "plt.gca().yaxis.set_major_formatter(y_format)\n",
    "\n",
    "plt.plot(x, yb, 'b-', label='Burglary')\n",
    "plt.plot(x, yfa, 'g-', label='Felony Assault')\n",
    "plt.plot(x, ygl, 'r-', label='Grand Larceny')\n",
    "plt.plot(x, yglmv, 'y-', label='Grand Larceny - Motor')\n",
    "plt.plot(x, ymm, 'k-', label='Murder')\n",
    "plt.plot(x, yr, 'm-', label='Rape')\n",
    "plt.plot(x, yrb, 'c-', label='Robbery')\n",
    "\n",
    "plt.legend(loc=\"best\", bbox_to_anchor=[1, 1],\n",
    "           ncol=2, shadow=True, title=\"Legend\", fancybox=True)\n",
    "plt.title('Felony Offenses by Type from 2006 to 2015')\n",
    "plt.show()"
   ]
  },
  {
   "cell_type": "code",
   "execution_count": null,
   "metadata": {
    "collapsed": false
   },
   "outputs": [],
   "source": [
    "# there is a look of total felony offenses by day of week\n",
    "# looks like the first of the month has the highest offenses - about 10,000 more than any other day\n",
    "# perhaps this is just the busiest day to record offenses?\n",
    "# 31 doesn't have as many offenses since not all months have 31 days - most likely\n",
    "x = daycount['Occurrence Day']\n",
    "y = daycount['Identifier']\n",
    "plt.gca().yaxis.set_major_formatter(y_format)\n",
    "plt.bar(x,y)\n",
    "plt.title('Total Felony Offenses by Day of Month from 2006 to 2015')"
   ]
  },
  {
   "cell_type": "code",
   "execution_count": null,
   "metadata": {
    "collapsed": false
   },
   "outputs": [],
   "source": [
    "# breaking out the offenses by month total, it does look a bit seasonal and similar to the time series chart above\n",
    "# February has the least number of offenses - potentially due to the cold weather in nyc\n",
    "# need to determine how to center the month x axis tick labels\n",
    "x = range(len(monthcount['Occurrence Month Ordered']))\n",
    "xlabels = [x[-3:] for x in monthcount['Occurrence Month Ordered']]\n",
    "y = monthcount['Identifier']\n",
    "plt.xticks(x, xlabels)\n",
    "plt.gca().yaxis.set_major_formatter(y_format)\n",
    "plt.gca().set_xlim(-0.5,len(xlabels)+0.5)\n",
    "locs = np.arange(len(xlabels))\n",
    "plt.bar(x,y)\n",
    "plt.title('Total Felony Offenses by Month from 2006 to 2015')\n",
    "plt.show()"
   ]
  },
  {
   "cell_type": "code",
   "execution_count": null,
   "metadata": {
    "collapsed": false
   },
   "outputs": [],
   "source": [
    "# breaking out offenses by day of week, Friday spikes with almost 20,000 more offenses than any other day\n",
    "x = range(len(weekdaycount['Day of Week Ordered']))\n",
    "xlabels = [x for x in weekdaycount['Day of Week Ordered']]\n",
    "y = weekdaycount['Identifier']\n",
    "plt.xticks(x, xlabels, rotation='vertical')\n",
    "plt.gca().yaxis.set_major_formatter(y_format)\n",
    "plt.gca().set_xlim(-0.5,len(xlabels)+0.5)\n",
    "plt.bar(x,y)\n",
    "plt.title('Total Felony Offenses by Day of Week from 2006 to 2015')\n",
    "plt.show()"
   ]
  },
  {
   "cell_type": "code",
   "execution_count": null,
   "metadata": {
    "collapsed": false
   },
   "outputs": [],
   "source": [
    "# create plot comparing types of Felonies by Borough\n",
    "fel_by_bor = felony_df.groupby('Borough')['Offense'].value_counts().sort_values(ascending=False)\n",
    "fel_by_bor_un = fel_by_bor.unstack(\"Offense\")\n",
    "fel_by_bor_un.sort_index(ascending=False, level = 'GRAND LARCENY')\n",
    "fel_by_bor_un.plot(kind=\"bar\", figsize= (15,7), title = \"Borough By Offense\")"
   ]
  },
  {
   "cell_type": "markdown",
   "metadata": {},
   "source": [
    "-----\n",
    "\n",
    "# V - NYC School Violence Data Analysis"
   ]
  },
  {
   "cell_type": "code",
   "execution_count": null,
   "metadata": {
    "collapsed": false
   },
   "outputs": [],
   "source": [
    "#Overview\n",
    "print(\"Number of observations:\", len(school_df), \"\\nNumber of Variables:\", len(school.columns),\\\n",
    "     \"\\nDate Range:\", int(felony_df[\"School Year\"].min()), \"-\", int(felony_df[\"School Year\"].max()))"
   ]
  },
  {
   "cell_type": "code",
   "execution_count": null,
   "metadata": {
    "collapsed": false
   },
   "outputs": [],
   "source": [
    "# Take a look -- uncomment to run\n",
    "#school_df.head()"
   ]
  },
  {
   "cell_type": "code",
   "execution_count": null,
   "metadata": {
    "collapsed": true
   },
   "outputs": [],
   "source": [
    "# Tallying Incidents with and without weapons\n",
    "WEAPON_INCIDENT_COLS = ['Assault With Serious Physical Injury_ww',\n",
    "                        'Assault with Physical Injury_ww', 'Bomb Threat', 'Burglary_ww',\n",
    "                        'Criminal Mischief_ww', 'Forcible Sex Offenses_ww',\n",
    "                        'Homicide_ww','Intimidation, Harassment, Menacing, or Bullying_ww', \n",
    "                        'Kidnapping_ww', 'Larceny, or Other Theft_ww', 'Minor Altercations_ww', 'Other Sex Offenses_ww',\n",
    "                        'Reckless Endangerment_ww', 'Riot_ww', 'Robbery_ww', \n",
    "                        'Weapon Possession_oc', 'Weapon Possession_ts']\n",
    "\n",
    "NON_WEAPON_INCIDENT_COLS = ['Alcohol Possession', 'Arson', \n",
    "                            'Assault With Serious Physical Injury_nw',\n",
    "                            'Assault with Physical Injury_nw', 'Bomb Threat False Alarm', \n",
    "                            'Burglary_nw', 'Criminal Mischief_nw', 'Drug Possession',\n",
    "                            'Forcible Sex Offenses_nw', 'Forcible Sex Offenses_ww', \n",
    "                            'Homicide_nw', 'Intimidation, Harassment, Menacing, or Bullying_nw',\n",
    "                            'Kidnapping_nw', 'Larceny, or Other Theft_nw', \n",
    "                            'Minor Altercations_nw','Other Disruptive Incidents', \n",
    "                            'Other Sex Offenses_nw', 'Reckless Endangerment_nw', 'Riot_nw',\n",
    "                            'Robbery_nw']\n",
    "\n",
    "school_df['Total Incidents'] = school_df[WEAPON_INCIDENT_COLS + NON_WEAPON_INCIDENT_COLS].sum(axis=1)\n",
    "school_df['Incidents w/ Weapons'] = school_df[WEAPON_INCIDENT_COLS].sum(axis=1)\n",
    "school_df['Incidents w/o Weapons'] = school_df[NON_WEAPON_INCIDENT_COLS].sum(axis=1)"
   ]
  },
  {
   "cell_type": "code",
   "execution_count": null,
   "metadata": {
    "collapsed": false
   },
   "outputs": [],
   "source": [
    "# Plotting incidents with and without weapons.\n",
    "school_df[\"School Year\"] = school_df[\"School Year\"].astype(int)\n",
    "inc_cols = [cols for cols in school_df.columns if cols.startswith(\"Inc\")]\n",
    "#school_df[inc_cols].head()\n",
    "\n",
    "fig = school_df.groupby(\"School Year\")[inc_cols].sum().plot(kind=\"bar\", figsize = (12, 10), \n",
    "                                                      secondary_y = inc_cols[1], legend=True,\n",
    "#                                                       xticks = range(2006,2016), \n",
    "                                                      title = \"Incidents without and with weapons\"\n",
    "                                                      )"
   ]
  },
  {
   "cell_type": "code",
   "execution_count": null,
   "metadata": {
    "collapsed": false
   },
   "outputs": [],
   "source": [
    "fig, ax = plt.subplots()\n",
    "\n",
    "ax.plot(list(set(school_df[\"School Year\"])), \n",
    "        school_df.groupby(\"School Year\")[inc_cols[0]].sum(),\n",
    "        'b',\n",
    "       label = \"Incidents without weapons\")\n",
    "ax.set_ylabel(\"Count of Incidents W/out Weapons\")\n",
    "\n",
    "ax2 = ax.twinx()\n",
    "ax2.plot(list(set(school_df[\"School Year\"])), \n",
    "        school_df.groupby(\"School Year\")[inc_cols[1]].sum(),\n",
    "         'g',\n",
    "       label = \"Incidents with weapons\")\n",
    "ax2.set_ylabel(\"Count of Incidents W/ Weapons\")\n",
    "\n",
    "lines = ax.get_lines() + ax2.get_lines()\n",
    "ax.legend(lines, [line.get_label() for line in lines], loc = \"center left\", bbox_to_anchor = (1.15, 0.5))\n",
    "ax.set_title(\"Incidents With and Without Weapons\")\n",
    "plt.show()"
   ]
  },
  {
   "cell_type": "markdown",
   "metadata": {},
   "source": [
    "----\n",
    "\n",
    "# VI -  Lat Long Analysis (Combining Felony Data and School Violence by location).\n",
    "\n",
    "This portion of our project uses the schools' latitude and longitude (obtained using geocoder) to perform some final cleaning on the VADIR data and then join it to the NYC crime data by location. The code below will:  \n",
    "\n",
    "* (A): __Identify Schools' GPS Location__ using Geocoder and addresses in NYC School Directory file).\n",
    "* (B): __Join latlong data__ to the school data frame (using beds/sed code).\n",
    "* (C): __Replace inconsistent school names__ (with the legal names from the lat long file)  \n",
    "* (D): __Identify felonies within a 1 mile__ radius of a given school.  \n",
    "* (E): __Plot correlations__ between school indicents and felonies (by year, by borough, by felony type, by location, by school incident type)."
   ]
  },
  {
   "cell_type": "markdown",
   "metadata": {},
   "source": [
    "### VII.A - Create Lat/Lon values using Geocoder based on school addresses from NYC School Directory data"
   ]
  },
  {
   "cell_type": "code",
   "execution_count": null,
   "metadata": {
    "collapsed": false
   },
   "outputs": [],
   "source": [
    "# Finds which schools exist in both the violence and location dataframes\n",
    "loc_sed = set(location_df[\"SED CODE\"].astype(np.int64))\n",
    "sch_beds = set(school_df[\"BEDS Code\"].astype(np.int64))\n",
    "print(\"Location file school count:\", len(loc_sed), \"\\nSchool violence school count:\", len(sch_beds),\n",
    "      \"\\nSchools with both violence and locations:\", len(loc_sed & sch_beds))\n",
    "school_beds_with_addresses = [x for x in sch_beds if x in (loc_sed & sch_beds)]\n",
    "filtered_school_df = school_df[school_df[\"BEDS Code\"].isin(school_beds_with_addresses)]\n",
    "filtered_school_df.reset_index(inplace = True, drop = True)"
   ]
  },
  {
   "cell_type": "code",
   "execution_count": null,
   "metadata": {
    "collapsed": false
   },
   "outputs": [],
   "source": [
    "#Created a beds_df that will also house the lat lon info\n",
    "location_df[\"Full_Address\"] = location_df[\"MAILING ADDRESS\"] + \", \" + location_df[\"CITY\"] + \\\n",
    "                                \", \" + location_df[\"STATE\"] + \", \" + location_df[\"ZIP\"]\n",
    "\n",
    "beds_df = location_df[location_df['SED CODE'].isin(school_beds_with_addresses)][['SED CODE', 'LEGAL NAME', 'Full_Address']]"
   ]
  },
  {
   "cell_type": "markdown",
   "metadata": {},
   "source": [
    "## WARNING: The next cell can only be run once a day.\n",
    "\n",
    "It takes at least 10 minutes to run as well. This is a limitation of Google - only 2500 calls can be made per day and the cell below calls it 1,807 times."
   ]
  },
  {
   "cell_type": "code",
   "execution_count": null,
   "metadata": {
    "collapsed": false
   },
   "outputs": [],
   "source": [
    "# Takes 10 min at least for all 1,807 schools! Only works ONCE A DAY due to geocoder \n",
    "# restrictions with Google (2,500 calls per day)\n",
    "\n",
    "latlon = [geo.google(x).latlng for x in beds_df.Full_Address]\n",
    "beds_df[\"latlon\"] = latlon\n",
    "beds_df.head()\n"
   ]
  },
  {
   "cell_type": "markdown",
   "metadata": {},
   "source": [
    "## END WARNING"
   ]
  },
  {
   "cell_type": "code",
   "execution_count": null,
   "metadata": {
    "collapsed": false
   },
   "outputs": [],
   "source": [
    "# Add \"Lat\" and \"Lon\" columns on the filtered school dataframe\n",
    "\n",
    "latlon_list = beds_df.latlon.tolist()\n",
    "beds_df[\"Lat\"] = [x[0] if x!=[] else [] for x in latlon_list]\n",
    "beds_df[\"Lon\"] = [x[1] if x!=[] else [] for x in latlon_list]\n",
    "beds_df[[\"Full_Address\", \"Lat\", \"Lon\"]].head()"
   ]
  },
  {
   "cell_type": "code",
   "execution_count": null,
   "metadata": {
    "collapsed": true
   },
   "outputs": [],
   "source": [
    "#save this off to csv since we can only run once per 24 hour period\n",
    "beds_df.to_csv(\"SchoolLatLon.csv\")"
   ]
  },
  {
   "cell_type": "markdown",
   "metadata": {},
   "source": [
    "### VI.B - Join School Data and Location Data"
   ]
  },
  {
   "cell_type": "code",
   "execution_count": null,
   "metadata": {
    "collapsed": true
   },
   "outputs": [],
   "source": [
    "#import previously exported lat/lon data\n",
    "latlon_df = pd.read_csv('SchoolLatLon.csv', index_col=0)"
   ]
  },
  {
   "cell_type": "code",
   "execution_count": null,
   "metadata": {
    "collapsed": true
   },
   "outputs": [],
   "source": [
    "# Helper function -- extract lat/long from object type\n",
    "def parse_latlong(dataframe, loc_column):\n",
    "    \"\"\"\n",
    "    Function to extract lat/long coords. \n",
    "    INPUT: dataframe and name of column with string tuple or list pair of coordinates.\n",
    "    OUTPUT: n/a. Function modifies dataframe to add a lat and long column with float type.\n",
    "    \"\"\"\n",
    "    get_lat = lambda x: x.split(',')[0][1:] if type(x)==type('s') else np.nan\n",
    "    get_long = lambda x: x.split(',')[1][:-1] if type(x)==type('s') else np.nan\n",
    "    dataframe['lat'] = dataframe[loc_column].apply(get_lat).astype('float64')\n",
    "    dataframe['long'] = dataframe[loc_column].apply(get_long).astype('float64')\n",
    "    print('... latitude and longitude extracted for dataframe.')"
   ]
  },
  {
   "cell_type": "code",
   "execution_count": null,
   "metadata": {
    "collapsed": true
   },
   "outputs": [],
   "source": [
    "# Helper function to add latitude and longitudes to school data frame\n",
    "def join_latlong(school_df, latlon_df, talk=False):\n",
    "    \"\"\"\n",
    "    Function to add (and parse)latitude and longitude \n",
    "    information for each school.\n",
    "    INPUT: school dataframe including \"BEDS Code\" column,\n",
    "           latitude/longitude dataframe w/ \"SED CODE\" col.\n",
    "           (optional 'talk' bool turns on/off print statements)\n",
    "    OUTPUT: dataframe with school data plut new columns \n",
    "            for 'LEGAL NAME', 'Full_Address', 'latlon'(obj),\n",
    "            lat(float64) and long(float64).\n",
    "    \"\"\"\n",
    "    # ensure BEDS and SED are integers so that they'll be recognized as identical\n",
    "    latlon_df[\"SED CODE\"] = latlon_df[\"SED CODE\"].astype(np.int64)\n",
    "    school_df[\"BEDS Code\"] = school_df[\"BEDS Code\"].astype(np.int64)\n",
    "    \n",
    "    # join latlong data to school data using the BEDS code\n",
    "    school_df = pd.merge(school_df, latlon_df, left_on=['BEDS Code'],right_on=['SED CODE'], how='left')\n",
    "    \n",
    "    # parse latlon object in to numerical columns\n",
    "    parse_latlong(school_df, 'latlon')\n",
    "    \n",
    "    # drop the now redundant SED code\n",
    "    school_df.drop(['SED CODE'], axis=1, inplace=True)\n",
    "    \n",
    "    # Take a look at the resulting data/missing values\n",
    "    if talk:\n",
    "        print('... joined df inclues {} unique schools,'.format(len(school_df['BEDS Code'].unique())))\n",
    "        schools_withloc = school_df[school_df['latlon'].notnull()]['BEDS Code'].unique()\n",
    "        schools_missingloc = school_df[school_df['latlon'].isnull()]['BEDS Code'].unique()\n",
    "        print('... of which {} have lat/long'.format(len(schools_withloc)),\n",
    "              'and {} are missing lat/long'.format(len(schools_missingloc)))\n",
    "        \n",
    "    return school_df"
   ]
  },
  {
   "cell_type": "code",
   "execution_count": null,
   "metadata": {
    "collapsed": false
   },
   "outputs": [],
   "source": [
    "# Function Call\n",
    "school_df = join_latlong(school_df, latlon_df, talk=True)\n",
    "\n",
    "# Take a look -- uncomment to run\n",
    "#school_df.head(2)"
   ]
  },
  {
   "cell_type": "markdown",
   "metadata": {},
   "source": [
    "### VI.C - Fix School Names using info from 'latlon' file."
   ]
  },
  {
   "cell_type": "code",
   "execution_count": null,
   "metadata": {
    "collapsed": true
   },
   "outputs": [],
   "source": [
    "#function to eliminate duplicated school names using newly appended columns\n",
    "def fix_school_names(school_df, talk=False):\n",
    "    \"\"\" \n",
    "    INPUT: school_df with original 'School Name' column\n",
    "           and with 'LEGAL NAME' column from latlong file.\n",
    "           (optional 'talk' bool turns on/off print statements)\n",
    "    OUTPUT: n/a, fxn modifies school_df to replace duplicate\n",
    "           'School Name's with their (consistent) legal name.\n",
    "    \"\"\"\n",
    "    if talk:\n",
    "        print('... original dataset had {} unique'.format(len(school_df['School Name'].unique())),\n",
    "              'school names but only {} unique BEDS Codes'.format(len(school_df['BEDS Code'].unique())))\n",
    "    \n",
    "    # Fix missing LEGAL NAMES with School Name\n",
    "    school_df['LEGAL NAME'].fillna(school_df['School Name'], inplace=True)\n",
    "    # Fix case and reassign to School Name\n",
    "    school_df['School Name'] = school_df['LEGAL NAME'].apply(cd.fix_case)\n",
    "    # drop the now redundant LEGAL NAME column\n",
    "    school_df.drop(['LEGAL NAME'], axis=1, inplace=True)\n",
    "    \n",
    "    if talk:\n",
    "        print('... new dataset has {} unique school '.format(len(school_df['School Name'].unique())),\n",
    "              'names and {} unique BEDS Codes.'.format(len(school_df['BEDS Code'].unique())))"
   ]
  },
  {
   "cell_type": "code",
   "execution_count": null,
   "metadata": {
    "collapsed": false
   },
   "outputs": [],
   "source": [
    "# function call\n",
    "fix_school_names(school_df, talk=True)\n",
    "\n",
    "# Take a look -- uncomment to run\n",
    "#school_df.head(2)"
   ]
  },
  {
   "cell_type": "markdown",
   "metadata": {},
   "source": [
    "### VI.D - Extracting crime tallies w/in radius of schools\n",
    "\n",
    "The functions below build together to ultimately 'join' our two datasets by adding columns to the school dataset for tallies of each type of felony that occurred w/in a 1 mile radius. \n",
    "\n",
    "#### Part 1: Distance Calculation using Vincenty"
   ]
  },
  {
   "cell_type": "code",
   "execution_count": null,
   "metadata": {
    "collapsed": true
   },
   "outputs": [],
   "source": [
    "# Helper function -- check dist\n",
    "def is_in_radius(school_point, crime_point, radius):\n",
    "    \"\"\"\n",
    "    Function using vincenty package to check distance between school and crime.\n",
    "    INPUT: (lat,long) tuples for school and crime (in degrees), radius in miles.\n",
    "    OUTPUT: Boolean\n",
    "    \"\"\"\n",
    "    return vincenty(school_point, crime_point, miles=True) <= radius"
   ]
  },
  {
   "cell_type": "code",
   "execution_count": null,
   "metadata": {
    "collapsed": false
   },
   "outputs": [],
   "source": [
    "#ensure that lat and long columns are added to the felony_df as well\n",
    "#and reset index\n",
    "parse_latlong(felony_df, 'Location 1')\n",
    "felony_df = felony_df.reset_index()"
   ]
  },
  {
   "cell_type": "code",
   "execution_count": null,
   "metadata": {
    "collapsed": false
   },
   "outputs": [],
   "source": [
    "# Testing vincenty on the first felony and first school\n",
    "first_school_point = (school_df.loc[0,'lat'], school_df.loc[0,'long']) \n",
    "first_felony_point = (felony_df.loc[1,'lat'], felony_df.loc[1,'long']) \n",
    "\n",
    "# not w/in 2 miles, but yes, w/in 50\n",
    "print('Distance: ', vincenty(first_school_point, first_felony_point))\n",
    "print(\"... w/in 2 mi?\", is_in_radius(first_school_point, first_felony_point, 2))\n",
    "print(\"... w/in 50 mi?\",is_in_radius(first_school_point, first_felony_point, 50))"
   ]
  },
  {
   "cell_type": "markdown",
   "metadata": {},
   "source": [
    "#### Part 2: Setting up a grid for NYC lat/long coords\n",
    "\n",
    "The goal is to use a grid strategy to avoid searching the entire NYC Felony dataframe for each school location (which would take too long). NOTE: _The max lat of a school is ~ 40.9  and the distance between 40.9 and 40.95 is over 3 miles... but there are 7 crimes that fell under the jurisdiction of the NY Transit police whose locations are recorded north of 41 degrees (the farthest one is 500 miles away ?!). The minimum longitude of a school is ~-74.24 which is around 3 miles from -74.3. There are 63 crimes that occurred west of -74.3. We will disregard these values for now since they are not in proximity to any of our schools._"
   ]
  },
  {
   "cell_type": "code",
   "execution_count": null,
   "metadata": {
    "collapsed": false
   },
   "outputs": [],
   "source": [
    "# Initial exploration of ranges\n",
    "max_lat = school_df.lat.max()\n",
    "min_lat = school_df.lat.min()\n",
    "max_long = school_df.long.max()\n",
    "min_long = school_df.long.min()\n",
    "\n",
    "lat_dist = vincenty((min_lat, 0.5*(max_long + min_long)),(max_lat, 0.5*(max_long + min_long)), miles=True)\n",
    "long_dist = vincenty((min_long, 0.5*(max_lat + min_lat)),(max_long, 0.5*(max_lat + min_lat)), miles=True)\n",
    "\n",
    "print('Latitude ranges from {} to {} with a total distance of {}'.format(min_lat, max_lat, lat_dist))\n",
    "print('Longitude ranges from {} to {} with a total distance of {}'.format(min_long, max_long, long_dist))"
   ]
  },
  {
   "cell_type": "code",
   "execution_count": null,
   "metadata": {
    "collapsed": true
   },
   "outputs": [],
   "source": [
    "# Helper function to identify grid cell that contains a given point\n",
    "def nyc_grid(lat,long):\n",
    "    \"\"\"\n",
    "    This function identifies a square mile cell of NYC that contains \n",
    "    the given longitude and latitude point. There are 1500 cells in \n",
    "    total. 30 rows each represent a segement of latitude and 50 \n",
    "    columns each represent a segment of longitude. The cells are \n",
    "    numbered 0 through 1499 and they are unique to this analysis.\n",
    "    \"\"\"\n",
    "    # max and min values from data set\n",
    "    max_lat = 40.95\n",
    "    min_lat = 40.50\n",
    "    max_long = -73.45\n",
    "    min_long = -74.30\n",
    "    \n",
    "    # divide each range into segments of a little over a mile\n",
    "    delta_lat = (max_lat - min_lat)/28\n",
    "    delta_long = (max_long - min_long)/48\n",
    "\n",
    "    # then segment each direction\n",
    "    lat_seg = np.array([min_lat + idx*delta_lat for idx in range(-1,29)])\n",
    "    long_seg = np.array([min_long + idx*delta_long for idx in range(-1,49)])\n",
    "\n",
    "    # identify where given point fits in segments\n",
    "    row = sum(lat_seg <= lat) - 1\n",
    "    col = sum(long_seg <= long) - 1\n",
    "    \n",
    "    # return grid number\n",
    "    if row < 0 or row == 29 or col < 0 or col == 49:\n",
    "        return np.nan\n",
    "    else:\n",
    "        return row * 50 + col"
   ]
  },
  {
   "cell_type": "code",
   "execution_count": null,
   "metadata": {
    "collapsed": false
   },
   "outputs": [],
   "source": [
    "# Test an out of bound point\n",
    "nyc_grid(40.653161, -76.862164)"
   ]
  },
  {
   "cell_type": "code",
   "execution_count": null,
   "metadata": {
    "collapsed": false
   },
   "outputs": [],
   "source": [
    "# Test an in bound point\n",
    "nyc_grid(40.821798, -73.886463)"
   ]
  },
  {
   "cell_type": "code",
   "execution_count": null,
   "metadata": {
    "collapsed": false
   },
   "outputs": [],
   "source": [
    "#add NYC_grid column to felony_df\n",
    "#WARNING - takes about 4 minutes to run\n",
    "felony_df['NYC_grid'] = felony_df.lat.combine(felony_df.long, func=nyc_grid)\n"
   ]
  },
  {
   "cell_type": "markdown",
   "metadata": {},
   "source": [
    "#### Part 3: Function to find crimes w/in 1 mile of a school\n",
    "\n",
    "STRATEGY: Identify the grid cell containing the school and then search only that cell and its immediately adjacent cells."
   ]
  },
  {
   "cell_type": "code",
   "execution_count": null,
   "metadata": {
    "collapsed": true
   },
   "outputs": [],
   "source": [
    "# helper function to get a list of adjacent cells\n",
    "def get_adjacent(cell_num):\n",
    "    \"\"\" \n",
    "    This function identifies a group of cells which together superset \n",
    "    any points within a mile of any location in the original cell.\n",
    "    INPUT: a cell number (< 1500) from NYC grid\n",
    "    OUTPUT: a list of adjacent and or diagonal cell numbers\n",
    "    \n",
    "    NOTE: this function should only be run on cell numbers of vadir\n",
    "    school locations since the nyc_grid is designed so that all\n",
    "    schools are in a cell that is not a boarder cell.\n",
    "    \"\"\"\n",
    "    col = cell_num % 50\n",
    "    row = cell_num // 50\n",
    "    row_range = [row - 1, row, row + 1]\n",
    "    col_range = [col - 1, col, col + 1]\n",
    "    return [r * 50 + c for r in row_range for c in col_range]\n",
    "    "
   ]
  },
  {
   "cell_type": "code",
   "execution_count": null,
   "metadata": {
    "collapsed": false
   },
   "outputs": [],
   "source": [
    "# Test grid adjacency\n",
    "get_adjacent(52)"
   ]
  },
  {
   "cell_type": "code",
   "execution_count": null,
   "metadata": {
    "collapsed": true
   },
   "outputs": [],
   "source": [
    "# helper function to get subset of felonies within a 1 mile radius\n",
    "def get_local_crimes(location, felony_df):\n",
    "    \"\"\"\n",
    "    This function identifies crimes less than 1 mi \n",
    "    from a single school (or GPS location).\n",
    "    INPUT: location (GPS point), felony_df (w/ 'NYC_grid column already populated)\n",
    "    OUTPUT: felony_df subset of crimes that occurred within one mile of school.   \n",
    "    \"\"\"\n",
    "    cells_to_search = get_adjacent(nyc_grid(*location))\n",
    "    \n",
    "    # Get subset of crimes w/in grid\n",
    "    cells_to_search = get_adjacent(nyc_grid(*location)) \n",
    "    crimes = felony_df.loc[felony_df.NYC_grid.isin(cells_to_search)]\n",
    "    \n",
    "    # Further subset by a radius of 1 mile\n",
    "    if not crimes.empty: \n",
    "        r_filter = lambda x: is_in_radius(location,(x.lat,x.long),1)\n",
    "        crimes =  crimes[crimes.apply(r_filter, axis=1)]\n",
    "        \n",
    "    return crimes"
   ]
  },
  {
   "cell_type": "code",
   "execution_count": null,
   "metadata": {
    "collapsed": false
   },
   "outputs": [],
   "source": [
    "# test function on a single school / no crimes\n",
    "this_school = school_df[school_df['BEDS Code'] == 307500014256]\n",
    "location = (this_school.lat.mean(), this_school.long.mean())\n",
    "result = get_local_crimes(location, felony_df)"
   ]
  },
  {
   "cell_type": "code",
   "execution_count": null,
   "metadata": {
    "collapsed": true
   },
   "outputs": [],
   "source": [
    "# now testing on a school with crimes\n",
    "this_school = school_df[school_df['BEDS Code'] == 307500012017]\n",
    "location = (this_school.lat.mean(), this_school.long.mean())\n",
    "result = get_local_crimes(location, felony_df)"
   ]
  },
  {
   "cell_type": "code",
   "execution_count": null,
   "metadata": {
    "collapsed": false
   },
   "outputs": [],
   "source": [
    "# Take a look - uncomment to run\n",
    "#result.head()"
   ]
  },
  {
   "cell_type": "markdown",
   "metadata": {},
   "source": [
    "#### Part 4: Crime counting function to search only within adjacent cells of the school\n",
    "\n",
    "NOTE: loading grid cell#s for the felony data set takes 3-4 minutes and only needs to be done once. To skip that step after you've already run this function before simply set the optional parameter skip_gridsetup to True (it defaults False)"
   ]
  },
  {
   "cell_type": "code",
   "execution_count": null,
   "metadata": {
    "collapsed": true
   },
   "outputs": [],
   "source": [
    "def tally_crime_by_loc(school_df, felony_df, skip_gridsetup = False):\n",
    "    \"\"\"\n",
    "    Function to tally and store information about felonies \n",
    "    that occur w/in one mile of each school in the school_df.\n",
    "    INPUT: school df w/ cols 'latlon', 'lat', 'long', and 'School Year'\n",
    "           felony df w/ cols 'Occurrence Year', 'lat','long','Offense', and 'Identifier'\n",
    "    OUTPUT: n/a, modifies school data.\n",
    "    \"\"\"\n",
    "    if not skip_gridsetup:\n",
    "        # prepare felony dataframe by adding a column for nyc_grid cell number\n",
    "        felony_df.lat.fillna(0, inplace=True)\n",
    "        felony_df.long.fillna(0, inplace=True)\n",
    "        felony_df['NYC_grid'] = felony_df.apply(lambda x: nyc_grid(x.lat, x.long),axis=1)\n",
    "\n",
    "    # Initialize new columns in school data frame\n",
    "    school_df['CrimeIDS'] = pd.Series()\n",
    "    school_df['Total Felonies w/in 1mi'] = pd.Series()\n",
    "    school_df['Grand Larceny w/in 1mi'] = pd.Series()\n",
    "    school_df['Robbery w/in 1mi'] = pd.Series()\n",
    "    school_df['Burglary w/in 1mi'] = pd.Series()\n",
    "    school_df['Assault w/in 1mi'] = pd.Series()\n",
    "    school_df['Auto Theft w/in 1mi'] = pd.Series()\n",
    "    school_df['Rape w/in 1mi'] = pd.Series()\n",
    "    school_df['Murders w/in 1mi'] = pd.Series()\n",
    "    \n",
    "    # Group schools (unique location for each BEDS Code) \n",
    "    grouped = school_df[school_df.lat.notnull()].groupby(['BEDS Code'])\n",
    "    \n",
    "    # Loop through schools, subset crime by location. \n",
    "    for beds, df in grouped:\n",
    "        # NOTE: the coordinates should all be the same so the mean is just the location\n",
    "        assert len(df.lat.unique().tolist()) == 1, 'ERROR: multiple latitudes for this school.'\n",
    "        location = (df.lat.mean(), df.long.mean())\n",
    "        local_crimes = get_local_crimes(location, felony_df)\n",
    "\n",
    "        # tally and store felonies for each year\n",
    "        for year in df['School Year'].unique():\n",
    "            subset = local_crimes[local_crimes['School Year'] == year]\n",
    "            idxs = df[df['School Year'] == year].index.tolist()\n",
    "            school_df.loc[idxs,['CrimeIDS']] = str(subset.Identifier.unique().tolist())\n",
    "            school_df.loc[idxs,['Total Felonies w/in 1mi']] = len(subset)        \n",
    "            school_df.loc[idxs,['Grand Larceny w/in 1mi']] = sum(subset['Offense'] == 'GRAND LARCENY')\n",
    "            school_df.loc[idxs,['Robbery w/in 1mi']] = sum(subset['Offense'] == 'ROBBERY')\n",
    "            school_df.loc[idxs,['Burglary w/in 1mi']] = sum(subset['Offense'] == 'BURGLARY')\n",
    "            school_df.loc[idxs,['Assault w/in 1mi']] = sum(subset['Offense'] == 'FELONY ASSAULT')\n",
    "            school_df.loc[idxs,['Auto Theft w/in 1mi']] = sum(subset['Offense'] == 'GRAND LARCENY OF MOTOR VEHICLE')\n",
    "            school_df.loc[idxs,['Rape w/in 1mi']] = sum(subset['Offense'] == 'RAPE')\n",
    "            school_df.loc[idxs,['Murders w/in 1mi']] = sum(subset['Offense'] == 'MURDER & NON-NEGL. MANSLAUGHTE')\n",
    "\n",
    "    print('... tallied felonies w/in 1 mile of each school.')"
   ]
  },
  {
   "cell_type": "markdown",
   "metadata": {},
   "source": [
    "## WARNING: The next cell takes ~2hrs to run\n",
    "For a faster option try importing previously saved results (vadir_with_felonycounts.csv)"
   ]
  },
  {
   "cell_type": "code",
   "execution_count": null,
   "metadata": {
    "collapsed": true
   },
   "outputs": [],
   "source": [
    "# tally crimes and add counts to school_df dataframe\n",
    "tally_crime_by_loc(school_df, felony_df, skip_gridsetup=True)"
   ]
  },
  {
   "cell_type": "code",
   "execution_count": null,
   "metadata": {
    "collapsed": true
   },
   "outputs": [],
   "source": [
    "# saving results for future shortcut\n",
    "school_df.to_csv('vadir_with_felonycounts.csv')"
   ]
  },
  {
   "cell_type": "markdown",
   "metadata": {},
   "source": [
    "## END WARNING"
   ]
  },
  {
   "cell_type": "markdown",
   "metadata": {},
   "source": [
    "### VI.E - Exploring the data"
   ]
  },
  {
   "cell_type": "code",
   "execution_count": null,
   "metadata": {
    "collapsed": true
   },
   "outputs": [],
   "source": [
    "# Shortcut to data - uncomment to run.\n",
    "#school_df = pd.read_csv('vadir_with_felonycounts.csv')"
   ]
  },
  {
   "cell_type": "code",
   "execution_count": null,
   "metadata": {
    "collapsed": true
   },
   "outputs": [],
   "source": [
    "school_df.groupby('County')['Robbery w/in 1mi','Total Incidents'].mean().plot(kind='bar', legend=True)"
   ]
  },
  {
   "cell_type": "code",
   "execution_count": null,
   "metadata": {
    "collapsed": true
   },
   "outputs": [],
   "source": [
    "school_df.plot(x='Total Incidents', y='Total Felonies w/in 1mi', kind='scatter')"
   ]
  },
  {
   "cell_type": "code",
   "execution_count": null,
   "metadata": {
    "collapsed": true
   },
   "outputs": [],
   "source": [
    "school_df.plot(x='Total Incidents' , y='Burglary w/in 1mi', kind='scatter')"
   ]
  },
  {
   "cell_type": "code",
   "execution_count": null,
   "metadata": {
    "collapsed": true
   },
   "outputs": [],
   "source": [
    "school_df.plot(x='Total Incidents' , y='Assault w/in 1mi', kind='scatter')"
   ]
  },
  {
   "cell_type": "code",
   "execution_count": null,
   "metadata": {
    "collapsed": true
   },
   "outputs": [],
   "source": [
    "school_df.plot(x='Robbery w/in 1mi' , y='Total Felonies w/in 1mi', kind='scatter')"
   ]
  },
  {
   "cell_type": "code",
   "execution_count": null,
   "metadata": {
    "collapsed": true
   },
   "outputs": [],
   "source": [
    "school_df.plot(x='Burglary w/in 1mi' , y='Total Felonies w/in 1mi', kind='scatter')"
   ]
  },
  {
   "cell_type": "code",
   "execution_count": null,
   "metadata": {
    "collapsed": true
   },
   "outputs": [],
   "source": [
    "school_df.plot(x='Grand Larceny w/in 1mi' , y='Total Felonies w/in 1mi', kind='scatter')"
   ]
  },
  {
   "cell_type": "code",
   "execution_count": null,
   "metadata": {
    "collapsed": true
   },
   "outputs": [],
   "source": []
  }
 ],
 "metadata": {
  "kernelspec": {
   "display_name": "Python 3",
   "language": "python",
   "name": "python3"
  },
  "language_info": {
   "codemirror_mode": {
    "name": "ipython",
    "version": 3
   },
   "file_extension": ".py",
   "mimetype": "text/x-python",
   "name": "python",
   "nbconvert_exporter": "python",
   "pygments_lexer": "ipython3",
   "version": "3.5.1"
  }
 },
 "nbformat": 4,
 "nbformat_minor": 0
}
